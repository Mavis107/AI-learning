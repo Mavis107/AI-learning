{
 "cells": [
  {
   "attachments": {},
   "cell_type": "markdown",
   "metadata": {
    "id": "9CALuVmNMNkM"
   },
   "source": [
    "# Autoencoder for MNIST\n",
    "\n",
    "Welcome to this notebook where you'll be training an autoencoder using the MNIST dataset, which comprises handwritten digits. This exercise is the last where we present you with a structured skeleton to work with. However, in following exercises, we will only provide you with the dataset, task, and a test scenario, enabling you to test your skills and compete with your peers on our leaderboards. Get ready to dive in and showcase your deep learning expertise!\n",
    "\n",
    "\n",
    "## Your task:\n",
    "\n",
    "Autoencoders have various applications, including unsupervised pretraining using unlabeled data, followed by fine-tuning the encoder with labeled data. This approach can greatly enhance performance when there is only a little amount of labeled data but a lot of unlabeled data available.\n",
    "\n",
    "In this exercise, you will use the MNIST dataset, consisting of 60,000 images of handwritten digits. However, not all the image labels are available to you. Your first objective is to train an autoencoder to accurately reproduce these unlabeled images.\n",
    "\n",
    "Afterwards, you will transfer the weights of the pretrained encoder and perform fine-tuning on a classifier using the available labeled data. This technique is commonly known as **transfer learning**, which allows you to leverage the knowledge gained from the autoencoder to improve the classification of the handwritten digits."
   ]
  },
  {
   "cell_type": "code",
   "execution_count": 1,
   "metadata": {
    "id": "XcU9f4APMNkT"
   },
   "outputs": [],
   "source": [
    "# For automatic file reloading as usual\n",
    "%load_ext autoreload\n",
    "%autoreload 2\n",
    "%matplotlib inline"
   ]
  },
  {
   "attachments": {},
   "cell_type": "markdown",
   "metadata": {
    "id": "Xb9dFU2EMNkW"
   },
   "source": [
    "## (Optional) Mount folder in Colab\n",
    "\n",
    "Uncomment the following cell to mount your gdrive if you are using the notebook in google colab:"
   ]
  },
  {
   "cell_type": "code",
   "execution_count": 2,
   "metadata": {
    "id": "TRr4E4YVMNkW"
   },
   "outputs": [
    {
     "data": {
      "text/plain": [
       "\"\\nfrom google.colab import drive\\nimport os\\ngdrive_path='/content/gdrive/MyDrive/i2dl/exercise_08'\\n\\n# This will mount your google drive under 'MyDrive'\\ndrive.mount('/content/gdrive', force_remount=True)\\n# In order to access the files in this notebook we have to navigate to the correct folder\\nos.chdir(gdrive_path)\\n# Check manually if all files are present\\n\""
      ]
     },
     "execution_count": 2,
     "metadata": {},
     "output_type": "execute_result"
    }
   ],
   "source": [
    "# Use the following lines if you want to use Google Colab\n",
    "# We presume you created a folder \"i2dl\" within your main drive folder, and put the exercise there.\n",
    "# NOTE: terminate all other colab sessions that use GPU!\n",
    "# NOTE 2: Make sure the correct exercise folder (e.g exercise_08) is given.\n",
    "\n",
    "# from google.colab import drive\n",
    "# import os\n",
    "\n",
    "\"\"\"\n",
    "from google.colab import drive\n",
    "import os\n",
    "gdrive_path='/content/gdrive/MyDrive/i2dl/exercise_08'\n",
    "\n",
    "# This will mount your google drive under 'MyDrive'\n",
    "drive.mount('/content/gdrive', force_remount=True)\n",
    "# In order to access the files in this notebook we have to navigate to the correct folder\n",
    "os.chdir(gdrive_path)\n",
    "# Check manually if all files are present\n",
    "\"\"\""
   ]
  },
  {
   "attachments": {},
   "cell_type": "markdown",
   "metadata": {
    "id": "JzDQg-kDMNkY"
   },
   "source": [
    "### Set up PyTorch environment in colab\n",
    "- (OPTIONAL) Enable GPU via Runtime --> Change runtime type --> GPU\n",
    "- Uncomment the following cell if you are using the notebook in google colab:"
   ]
  },
  {
   "cell_type": "code",
   "execution_count": 3,
   "metadata": {
    "id": "pIUdsXeXMNkZ"
   },
   "outputs": [],
   "source": [
    "# Optional: install correct libraries in google colab\n",
    "# !python -m pip install torch==1.11.0+cu113 torchvision==0.12.0+cu113 torchtext==0.12.0+cu113 torchaudio==0.12.0+cu113 -f https://download.pytorch.org/whl/torch_stable.html\n",
    "# !python -m pip install tensorboard==2.8.0 > /dev/null\n",
    "# !python -m pip install pytorch-lightning==1.6.0"
   ]
  },
  {
   "attachments": {},
   "cell_type": "markdown",
   "metadata": {
    "id": "hEDWAZ7-ZA4E"
   },
   "source": [
    "# Imports"
   ]
  },
  {
   "cell_type": "code",
   "execution_count": 4,
   "metadata": {
    "id": "dJCiVLV5o9QO",
    "scrolled": true
   },
   "outputs": [],
   "source": [
    "import numpy as np\n",
    "import matplotlib.pyplot as plt\n",
    "from pathlib import Path\n",
    "import os, sys\n",
    "import shutil\n",
    "import torch\n",
    "import torch.nn as nn\n",
    "from torchvision import transforms\n",
    "from exercise_code.image_folder_dataset import ImageFolderDataset\n",
    "from torch.utils.tensorboard import SummaryWriter\n",
    "from time import sleep\n",
    "from tqdm import tqdm\n",
    "from exercise_code.tests.base_tests import bcolors\n",
    "\n",
    "torch.manual_seed(42)\n",
    "\n",
    "os.environ['KMP_DUPLICATE_LIB_OK']='True' # To prevent the kernel from dying."
   ]
  },
  {
   "attachments": {},
   "cell_type": "markdown",
   "metadata": {
    "id": "dvaj6myXS7nN"
   },
   "source": [
    "<div class=\"alert alert-warning\">\n",
    "    <h3>Note: Google Colab</h3>\n",
    "    <p>\n",
    "In case you don't have a GPU, you can run this notebook on Google Colab where you can access a GPU for free, but, of course, you can also run this notebook on your CPU.\n",
    "         </p>\n",
    "</div>"
   ]
  },
  {
   "cell_type": "code",
   "execution_count": 5,
   "metadata": {
    "id": "VWgm75NnS9hr",
    "scrolled": true
   },
   "outputs": [
    {
     "name": "stdout",
     "output_type": "stream",
     "text": [
      "You are using the following device:  cuda:0\n"
     ]
    }
   ],
   "source": [
    "# This will set the device on which to run the code, which defaults to the CPU.\n",
    "# If you have an Nvidia GPU, it will use that with cuda\n",
    "# For Apple Silicon, you can try to use the \"mps\" device by commenting in line 7.\n",
    "#  But it is not guaranteed to work and sometimes the CPU performs better.\n",
    "\n",
    "device = torch.device(\n",
    "    \"cuda:0\" if torch.cuda.is_available() else \n",
    "#   \"mps\" if torch.backends.mps.is_available() else \n",
    "    \"cpu\"\n",
    ")\n",
    "\n",
    "print('You are using the following device: ', device)"
   ]
  },
  {
   "attachments": {},
   "cell_type": "markdown",
   "metadata": {
    "id": "Pm_rTAPnpsUo"
   },
   "source": [
    "## Setup TensorBoard\n",
    "\n",
    "In the previous exercise (Exercise 07), you learned how to use TensorBoard effectively. Let's use it again to enhance the convenience of debugging your network and the training process. Throughout this notebook, feel free to implement additional logs or visualizations into your TensorBoard, further improving your analysis and understanding of the network's behavior. "
   ]
  },
  {
   "cell_type": "code",
   "execution_count": 6,
   "metadata": {
    "id": "QbAJFyHkMNke"
   },
   "outputs": [],
   "source": [
    "################# COLAB ONLY #################\n",
    "# %load_ext tensorboard\n",
    "# %tensorboard --logdir=./ --port 6006\n",
    "\n",
    "# Use the cmd for less trouble, if you can. From the working directory, run: tensorboard --logdir=./ --port 6006"
   ]
  },
  {
   "attachments": {},
   "cell_type": "markdown",
   "metadata": {
    "id": "t-Yt2KRiMNkf"
   },
   "source": [
    "# 1. The MNIST Dataset\n",
    "\n",
    "First, let's download the MNIST dataset. As mentioned at the beginning of this notebook, MNIST is a dataset of 60,000 images depicting handwritten digits. However, labeling such a large dataset can be a costly process, leaving us in a challenging situation.\n",
    "\n",
    "To overcome this, a practical approach is to label a small subset of the images. Let's consider a scenario where you have hired another student to perform the labeling task for you. After some time, you have been provided with 300 labeled images. Out of these, 100 images will be used for training, another 100 for validation, and the remaining 100 for testing. Undoubtedly, this poses a challenge due to the limited number of labeled samples.\n",
    "\n",
    "Now, you have the flexibility to define any transforms that you deem necessary, either at this point or at a later stage. However, it's important to note that during the final evaluation on the server, no transformations will be applied to the test set.\n",
    "\n",
    "Feel free to experiment with various transforms as you proceed (you can also pass without any transforms). \n",
    "\n",
    "\n",
    "**Note**: We do **not** apply any transformations or normalization to the test set at the time of final evaluation on our server."
   ]
  },
  {
   "cell_type": "code",
   "execution_count": 7,
   "metadata": {
    "id": "U5_eopjbMNkf",
    "pycharm": {
     "name": "#%%\n"
    },
    "scrolled": true
   },
   "outputs": [
    {
     "name": "stdout",
     "output_type": "stream",
     "text": [
      "Found dataset folder. Skipped downloading. If you face issues, please re-download the dataset using\n",
      "'--force_download=True'\n",
      "https://i2dl.vc.in.tum.de/static/data/mnist.zip\n",
      "Found dataset folder. Skipped downloading. If you face issues, please re-download the dataset using\n",
      "'--force_download=True'\n",
      "https://i2dl.vc.in.tum.de/static/data/mnist.zip\n",
      "Found dataset folder. Skipped downloading. If you face issues, please re-download the dataset using\n",
      "'--force_download=True'\n",
      "https://i2dl.vc.in.tum.de/static/data/mnist.zip\n",
      "Found dataset folder. Skipped downloading. If you face issues, please re-download the dataset using\n",
      "'--force_download=True'\n",
      "https://i2dl.vc.in.tum.de/static/data/mnist.zip\n",
      "Found dataset folder. Skipped downloading. If you face issues, please re-download the dataset using\n",
      "'--force_download=True'\n",
      "https://i2dl.vc.in.tum.de/static/data/mnist.zip\n"
     ]
    },
    {
     "name": "stderr",
     "output_type": "stream",
     "text": [
      "/u/home/chchin/i2dl/exercise_08/exercise_code/image_folder_dataset.py:27: FutureWarning: You are using `torch.load` with `weights_only=False` (the current default value), which uses the default pickle module implicitly. It is possible to construct malicious pickle data which will execute arbitrary code during unpickling (See https://github.com/pytorch/pytorch/blob/main/SECURITY.md#untrusted-models for more details). In a future release, the default value for `weights_only` will be flipped to `True`. This limits the functions that could be executed during unpickling. Arbitrary objects will no longer be allowed to be loaded via this mode unless they are explicitly allowlisted by the user via `torch.serialization.add_safe_globals`. We recommend you start setting `weights_only=True` for any use case where you don't have full control of the loaded file. Please open an issue on GitHub for any issues related to this experimental feature.\n",
      "  self.images = torch.load(os.path.join(root, images))\n",
      "/u/home/chchin/i2dl/exercise_08/exercise_code/image_folder_dataset.py:29: FutureWarning: You are using `torch.load` with `weights_only=False` (the current default value), which uses the default pickle module implicitly. It is possible to construct malicious pickle data which will execute arbitrary code during unpickling (See https://github.com/pytorch/pytorch/blob/main/SECURITY.md#untrusted-models for more details). In a future release, the default value for `weights_only` will be flipped to `True`. This limits the functions that could be executed during unpickling. Arbitrary objects will no longer be allowed to be loaded via this mode unless they are explicitly allowlisted by the user via `torch.serialization.add_safe_globals`. We recommend you start setting `weights_only=True` for any use case where you don't have full control of the loaded file. Please open an issue on GitHub for any issues related to this experimental feature.\n",
      "  self.labels = torch.load(os.path.join(root, labels))\n"
     ]
    }
   ],
   "source": [
    "# data augmentation\n",
    "transform = transforms.Compose([])\n",
    "\n",
    "i2dl_exercises_path = os.path.dirname(os.path.abspath(os.getcwd()))\n",
    "mnist_root = os.path.join(i2dl_exercises_path, \"datasets\", \"mnist\")\n",
    "\n",
    "train_100_dataset = ImageFolderDataset(root=mnist_root,images='train_images.pt',labels='train_labels.pt',force_download=False,verbose=True,transform=transform)\n",
    "val_100_dataset = ImageFolderDataset(root=mnist_root,images='val_images.pt',labels='val_labels.pt',force_download=False,verbose=True,transform=transform)\n",
    "test_100_dataset = ImageFolderDataset(root=mnist_root,images='test_images.pt',labels='test_labels.pt',force_download=False,verbose=True,transform=transform)\n",
    "\n",
    "# We also set up the unlabeled images which we will use later\n",
    "unlabeled_train = ImageFolderDataset(root=mnist_root,images='unlabeled_train_images.pt',force_download=False,verbose=True,transform=transform)\n",
    "unlabeled_val = ImageFolderDataset(root=mnist_root,images='unlabeled_val_images.pt',force_download=False,verbose=True,transform=transform)\n",
    "\n"
   ]
  },
  {
   "attachments": {},
   "cell_type": "markdown",
   "metadata": {
    "id": "zwrT1ckAMNkg"
   },
   "source": [
    "The dataset consists of tuples of 28x28 pixel PIL images and a label that is an integer from 0 to 9. \n",
    "\n",
    "Let's turn a few of the images into numpy arrays, to look at their shape and visualize them and see if the labels we paid for are correct."
   ]
  },
  {
   "cell_type": "code",
   "execution_count": 8,
   "metadata": {
    "id": "k7ct1J2CMNkh"
   },
   "outputs": [
    {
     "name": "stdout",
     "output_type": "stream",
     "text": [
      "The shape of our greyscale images:  (28, 28)\n"
     ]
    }
   ],
   "source": [
    "plt.rcParams['figure.figsize'] = (16,16) # Make the figures a bit bigger\n",
    "\n",
    "indices_arr = [83, 98, 92, 99, 78, 97, 90, 95, 93, 96]\n",
    "for i, index in enumerate(indices_arr):\n",
    "    image = np.array(train_100_dataset[index][0].squeeze()) # get the image of the data sample\n",
    "    label = train_100_dataset[index][1] # get the label of the data sample\n",
    "    plt.subplot(1, 10, i + 1)\n",
    "    plt.imshow(image, cmap='gray', interpolation='none')\n",
    "    plt.title(\"Class {}\".format(label))\n",
    "    \n",
    "plt.tight_layout()\n",
    "print('The shape of our greyscale images: ', image.shape)"
   ]
  },
  {
   "attachments": {},
   "cell_type": "markdown",
   "metadata": {
    "id": "V9sz_lHyqJoj"
   },
   "source": [
    "<div class=\"alert alert-warning\">\n",
    "    <h3>Note: Starting Simple</h3>\n",
    "    <p>\n",
    "Regardless of the size of the dataset, the first step is to evaluate the performance of a simple classifier. It is advisable to always start with a straightforward approach when tackling a problem and gradually build upon it to determine which changes yield improvements.</p>\n",
    "</div>\n",
    "\n",
    "# 2. A Simple Classifier\n",
    "\n",
    "In `exercise_code/models.py`, we prepared all classes for you, which you will finalize throughout the notebook to build an Autoencoder and an image classifier with PyTorch.\n",
    "\n",
    "<!-- In case image does not show, uncomment the following:\n",
    " ![network_split](img/network_split.png) \n",
    " -->\n",
    "<img name=\"network_split\" src=\"https://i2dl.vc.in.tum.de/static/images/exercise_08/network_split.png\">\n",
    "\n",
    "\n",
    "## 2.1 The Encoder\n",
    "\n",
    "Unlike previous models, we are going to split up the model into two parts: the `encoder` and the `classifier`. The `classifier` has a fixed task, generating predictions given a one-dimensional input. On the other hand, the `encoder`'s task is to extract meaningful information from the input, enabling the classifier to make accurate decisions. \n",
    "\n",
    "For now, both networks will be similar in design and consist of linear layers coupled with auxiliary layers. This split-up will be relevant later, e.g., by using convolutional layers, which are introduced in the lecture. We are going to set up the `encoder` now. \n",
    "\n",
    "Think about a good network architecture. You have complete freedom in this regard and can devise any network structure you think might be fitting. (\\*)\n",
    "\n",
    "Have a look at the documentation of `torch.nn` at https://pytorch.org/docs/stable/nn.html to learn how to use this module in order to build your network!\n",
    "\n",
    "Then implement your architecture: initialize it in `__init__()` and assign it to `self.model`. This is particularly easy using `nn.Sequential()`, where you only have to pass the list of your layers. \n",
    "\n",
    "To make your model customizable and support parameter search, do not use hardcoded hyperparameters - instead, pass them as a simple dictionary `hparams` (here, `n_hidden` is the number of neurons in the hidden layer) when initializing `models`.\n",
    "\n",
    "Here is a simple example:\n",
    "\n",
    "```python\n",
    "        self.model = nn.Sequential(\n",
    "            nn.Linear(input_size, self.hparams[\"n_hidden\"]),\n",
    "            nn.ReLU(),            \n",
    "            nn.Linear(self.hparams[\"n_hidden\"], num_classes)\n",
    "        )\n",
    "```\n",
    "\n",
    "Have a look at the forward path in `forward(self, x)`, which is so easy that you don't need to implement it yourself.\n",
    "\n",
    "As PyTorch automatically computes the gradients, that's all you need to do! There is no need to manually calculate derivatives for the backward paths anymore! :)\n",
    "\n",
    "\n",
    "____\n",
    "\\* *The size of your final model must be less than 20 MB, which is approximately equivalent to 5 Mio. params. Note that this limit is quite lenient, you will probably need much fewer parameters!*\n",
    "\n",
    "*In order to keep things simple, you should only use fully connected layers for this task, as we need to revert the encoder architecture later on in the notebook.*\n",
    "\n",
    "<div class=\"alert alert-info\">\n",
    "    <h3>Task: Implement</h3>\n",
    "    <p>Implement the <code>Encoder</code> class initialization in <code>exercise_code/models.py</code>.\n",
    "    </p>\n",
    "</div>\n",
    "\n",
    "\n"
   ]
  },
  {
   "attachments": {},
   "cell_type": "markdown",
   "metadata": {
    "id": "jNf7FrvwMNki"
   },
   "source": [
    "## 2.2 The Classifier\n",
    "\n",
    "Now let's implement the classifier. The classifier will utilize the encoder that you have defined in the above cell. By looking at `Classifier.forward`, you can see that we are essentially concatenating the `classifier`and the `encoder` together. Therefore, it is crucial to ensure that the input shape of the classifier matches the output shape of the encoder you implemented above\n",
    "\n",
    "<div class=\"alert alert-info\">\n",
    "    <h3>Task: Implement</h3>\n",
    "    <p>1. Implement the <code>Classifier</code> class network initialization in <code>exercise_code/models.py</code>.\n",
    "    </p>\n",
    "    <p>2. Define in the next cell your hyperparameters in a dictionary called 'hparams'.\n",
    "    </p>\n",
    "</div>"
   ]
  },
  {
   "cell_type": "code",
   "execution_count": 9,
   "metadata": {
    "id": "AawbvD1rMNkj"
   },
   "outputs": [],
   "source": [
    "# Define your hyper parameters\n",
    "hparams = {\n",
    "    \"batch_size\": 128,\n",
    "    \"n_hidden\": 1024,\n",
    "    \"latent_dim\" : 20,\n",
    "    \"learning_rate\" : 1e-2, \n",
    "    \"weight_decay\" : 1e-5,\n",
    "    \"epochs\": 100,\n",
    "    \"num_classes\" : 10,\n",
    "}"
   ]
  },
  {
   "attachments": {},
   "cell_type": "markdown",
   "metadata": {
    "id": "bOYbUg8lAmgU"
   },
   "source": [
    "\n",
    "## 2.3 Optimizer\n",
    "Lastly, implement the function `set_optimizer` to define your optimizer. Here the documentation of `torch.optim` at https://pytorch.org/docs/stable/optim.html might be helpful.\n",
    "\n",
    "<div class=\"alert alert-info\">\n",
    "    <h3>Task: Implement</h3>\n",
    "    <p>Implement the <code>set_optimizer</code> method of the <code>Classifier</code> in <code>exercise_code/models.py</code>.\n",
    "    </p>\n",
    "</div>\n"
   ]
  },
  {
   "attachments": {},
   "cell_type": "markdown",
   "metadata": {
    "id": "xrUfa-a7MNkk"
   },
   "source": [
    "## 2.4 Training & Validation Step\n",
    "\n",
    "<div class=\"alert alert-success\">\n",
    "    <h3>Task: Check Code</h3>\n",
    "    <p> Let's take a closer look at the training pipeline outlined below. It is explicitly written here in its entirety to provide you with a comprehensive understanding of its structure. Additionally, you can refer back to this pipeline whenever you encounter any uncertainties or need guidance.\n",
    " </p>\n",
    "</div>\n"
   ]
  },
  {
   "cell_type": "code",
   "execution_count": 10,
   "metadata": {
    "id": "NY_lLaNWMNkk"
   },
   "outputs": [],
   "source": [
    " # One of the most crucial things in deep learning is to understand the training pipeline:\n",
    " # 1. Forward()          --> The forward pass of the network, to calculate the currnent loss.\n",
    " # 2. Backward()         --> The backward pass of the network, to calculate the gradients w.r.t the loss, calculated in the previous stage.\n",
    " # 3. Optimizer_step()   --> Update the weights w.r.t their corresponding gradients and the learnign rate.\n",
    "\n",
    "def create_tqdm_bar(iterable, desc):\n",
    "    return tqdm(enumerate(iterable),total=len(iterable), ncols=150, desc=desc)\n",
    "\n",
    "\n",
    "def train_classifier(classifier, train_loader, val_loader, loss_func, tb_logger, epochs=10, name=\"default\"):\n",
    "    \"\"\"\n",
    "    Train the classifier for a number of epochs.\n",
    "    \"\"\"\n",
    "    optimizer = classifier.optimizer\n",
    "    classifier = classifier.to(device)\n",
    "    validation_loss = 0\n",
    "    for epoch in range(epochs):\n",
    "        \n",
    "        training_loss = 0\n",
    "        \n",
    "        # Training stage, where we want to update the parameters.\n",
    "        classifier.train()  # Set the model to training mode\n",
    "        \n",
    "        # Create a progress bar for the training loop.\n",
    "        training_loop = create_tqdm_bar(train_loader, desc=f'Training Epoch [{epoch + 1}/{epochs}]')\n",
    "        for train_iteration, batch in training_loop:\n",
    "            optimizer.zero_grad() # Reset the gradients - VERY important! Otherwise they accumulate.\n",
    "            images, labels = batch # Get the images and labels from the batch, in the fashion we defined in the dataset and dataloader.\n",
    "            images, labels = images.to(device), labels.to(device) # Send the data to the device (GPU or CPU) - it has to be the same device as the model.\n",
    "\n",
    "            # Flatten the images to a vector. This is done because the classifier expects a vector as input.\n",
    "            # Could also be done by reshaping the images in the dataset.\n",
    "            images = images.view(images.shape[0], -1) \n",
    "\n",
    "            pred = classifier(images) # Stage 1: Forward().\n",
    "            loss = loss_func(pred, labels) # Compute the loss over the predictions and the ground truth.\n",
    "            loss.backward()  # Stage 2: Backward().\n",
    "            optimizer.step() # Stage 3: Update the parameters.\n",
    "\n",
    "            training_loss += loss.item()\n",
    "\n",
    "            # Update the progress bar.\n",
    "            training_loop.set_postfix(curr_train_loss = \"{:.8f}\".format(training_loss / (train_iteration + 1)), val_loss = \"{:.8f}\".format(validation_loss))\n",
    "\n",
    "            # Update the tensorboard logger.\n",
    "            tb_logger.add_scalar(f'classifier_{name}/train_loss', loss.item(), epoch * len(train_loader) + train_iteration)\n",
    "            sleep(0.1) # Remove this line if you want to see the progress bar faster.\n",
    "\n",
    "        # Validation stage, where we don't want to update the parameters. Pay attention to the classifier.eval() line\n",
    "        # and \"with torch.no_grad()\" wrapper.\n",
    "        classifier.eval()\n",
    "        val_loop = create_tqdm_bar(val_loader, desc=f'Validation Epoch [{epoch + 1}/{epochs}]')\n",
    "        validation_loss = 0\n",
    "        with torch.no_grad():\n",
    "            for val_iteration, batch in val_loop:\n",
    "                images, labels = batch\n",
    "                images, labels = images.to(device), labels.to(device)\n",
    "\n",
    "                images = images.view(images.shape[0], -1) \n",
    "                pred = classifier(images)\n",
    "                loss = loss_func(pred, labels)\n",
    "                validation_loss += loss.item()\n",
    "\n",
    "                # Update the progress bar.\n",
    "                val_loop.set_postfix(val_loss = \"{:.8f}\".format(validation_loss / (val_iteration + 1)))\n",
    "\n",
    "                # Update the tensorboard logger.\n",
    "                tb_logger.add_scalar(f'classifier_{name}/val_loss', loss.item(), epoch * len(val_loader) + val_iteration)\n",
    "                sleep(0.1) # Remove this line if you want to see the progress bar faster.\n",
    "        \n",
    "        # This value is used for the progress bar of the training loop.\n",
    "        validation_loss /= len(val_loader)\n",
    "            "
   ]
  },
  {
   "attachments": {},
   "cell_type": "markdown",
   "metadata": {
    "id": "KVKLlwlyMNkl"
   },
   "source": [
    "## 2.5 Fit Classification Model with Trainer\n",
    "Now it's finally time to train your model.\n",
    "Run the following cell to see the behold the magic of deep learning at play."
   ]
  },
  {
   "cell_type": "code",
   "execution_count": 11,
   "metadata": {
    "id": "uBGavq9cMNkl"
   },
   "outputs": [
    {
     "name": "stderr",
     "output_type": "stream",
     "text": [
      "Training Epoch [1/100]: 100%|██████████████████████████████████████████| 1/1 [00:00<00:00,  2.89it/s, curr_train_loss=2.35285735, val_loss=0.00000000]\n",
      "Validation Epoch [1/100]: 100%|████████████████████████████████████████████████████████████████████| 1/1 [00:00<00:00,  9.17it/s, val_loss=2.03962660]\n",
      "Training Epoch [2/100]: 100%|██████████████████████████████████████████| 1/1 [00:00<00:00,  9.02it/s, curr_train_loss=0.86343223, val_loss=2.03962660]\n",
      "Validation Epoch [2/100]: 100%|████████████████████████████████████████████████████████████████████| 1/1 [00:00<00:00,  9.15it/s, val_loss=2.48336220]\n",
      "Training Epoch [3/100]: 100%|██████████████████████████████████████████| 1/1 [00:00<00:00,  8.93it/s, curr_train_loss=1.11504018, val_loss=2.48336220]\n",
      "Validation Epoch [3/100]: 100%|████████████████████████████████████████████████████████████████████| 1/1 [00:00<00:00,  9.35it/s, val_loss=3.16278982]\n",
      "Training Epoch [4/100]: 100%|██████████████████████████████████████████| 1/1 [00:00<00:00,  8.85it/s, curr_train_loss=0.18939824, val_loss=3.16278982]\n",
      "Validation Epoch [4/100]: 100%|████████████████████████████████████████████████████████████████████| 1/1 [00:00<00:00,  9.09it/s, val_loss=4.19823217]\n",
      "Training Epoch [5/100]: 100%|██████████████████████████████████████████| 1/1 [00:00<00:00,  8.97it/s, curr_train_loss=0.16314310, val_loss=4.19823217]\n",
      "Validation Epoch [5/100]: 100%|████████████████████████████████████████████████████████████████████| 1/1 [00:00<00:00,  9.23it/s, val_loss=4.25670910]\n",
      "Training Epoch [6/100]: 100%|██████████████████████████████████████████| 1/1 [00:00<00:00,  8.78it/s, curr_train_loss=0.06243242, val_loss=4.25670910]\n",
      "Validation Epoch [6/100]: 100%|████████████████████████████████████████████████████████████████████| 1/1 [00:00<00:00,  9.22it/s, val_loss=4.13057899]\n",
      "Training Epoch [7/100]: 100%|██████████████████████████████████████████| 1/1 [00:00<00:00,  8.80it/s, curr_train_loss=0.03252134, val_loss=4.13057899]\n",
      "Validation Epoch [7/100]: 100%|████████████████████████████████████████████████████████████████████| 1/1 [00:00<00:00,  9.08it/s, val_loss=3.93570495]\n",
      "Training Epoch [8/100]: 100%|██████████████████████████████████████████| 1/1 [00:00<00:00,  9.00it/s, curr_train_loss=0.01592335, val_loss=3.93570495]\n",
      "Validation Epoch [8/100]: 100%|████████████████████████████████████████████████████████████████████| 1/1 [00:00<00:00,  9.16it/s, val_loss=3.70121312]\n",
      "Training Epoch [9/100]: 100%|██████████████████████████████████████████| 1/1 [00:00<00:00,  8.78it/s, curr_train_loss=0.00909632, val_loss=3.70121312]\n",
      "Validation Epoch [9/100]: 100%|████████████████████████████████████████████████████████████████████| 1/1 [00:00<00:00,  9.35it/s, val_loss=3.45622802]\n",
      "Training Epoch [10/100]: 100%|█████████████████████████████████████████| 1/1 [00:00<00:00,  8.89it/s, curr_train_loss=0.00564992, val_loss=3.45622802]\n",
      "Validation Epoch [10/100]: 100%|███████████████████████████████████████████████████████████████████| 1/1 [00:00<00:00,  9.13it/s, val_loss=3.23010659]\n",
      "Training Epoch [11/100]: 100%|█████████████████████████████████████████| 1/1 [00:00<00:00,  8.95it/s, curr_train_loss=0.00360856, val_loss=3.23010659]\n",
      "Validation Epoch [11/100]: 100%|███████████████████████████████████████████████████████████████████| 1/1 [00:00<00:00,  9.31it/s, val_loss=3.02510095]\n",
      "Training Epoch [12/100]: 100%|█████████████████████████████████████████| 1/1 [00:00<00:00,  8.91it/s, curr_train_loss=0.00249270, val_loss=3.02510095]\n",
      "Validation Epoch [12/100]: 100%|███████████████████████████████████████████████████████████████████| 1/1 [00:00<00:00,  9.12it/s, val_loss=2.85171032]\n",
      "Training Epoch [13/100]: 100%|█████████████████████████████████████████| 1/1 [00:00<00:00,  8.94it/s, curr_train_loss=0.00188845, val_loss=2.85171032]\n",
      "Validation Epoch [13/100]: 100%|███████████████████████████████████████████████████████████████████| 1/1 [00:00<00:00,  9.33it/s, val_loss=2.71070862]\n",
      "Training Epoch [14/100]: 100%|█████████████████████████████████████████| 1/1 [00:00<00:00,  8.90it/s, curr_train_loss=0.00152236, val_loss=2.71070862]\n",
      "Validation Epoch [14/100]: 100%|███████████████████████████████████████████████████████████████████| 1/1 [00:00<00:00,  9.15it/s, val_loss=2.58955622]\n",
      "Training Epoch [15/100]: 100%|█████████████████████████████████████████| 1/1 [00:00<00:00,  8.81it/s, curr_train_loss=0.00126328, val_loss=2.58955622]\n",
      "Validation Epoch [15/100]: 100%|███████████████████████████████████████████████████████████████████| 1/1 [00:00<00:00,  9.15it/s, val_loss=2.48092461]\n",
      "Training Epoch [16/100]: 100%|█████████████████████████████████████████| 1/1 [00:00<00:00,  9.11it/s, curr_train_loss=0.00105572, val_loss=2.48092461]\n",
      "Validation Epoch [16/100]: 100%|███████████████████████████████████████████████████████████████████| 1/1 [00:00<00:00,  9.11it/s, val_loss=2.38058710]\n",
      "Training Epoch [17/100]: 100%|█████████████████████████████████████████| 1/1 [00:00<00:00,  8.93it/s, curr_train_loss=0.00087802, val_loss=2.38058710]\n",
      "Validation Epoch [17/100]: 100%|███████████████████████████████████████████████████████████████████| 1/1 [00:00<00:00,  9.23it/s, val_loss=2.28882909]\n",
      "Training Epoch [18/100]: 100%|█████████████████████████████████████████| 1/1 [00:00<00:00,  8.93it/s, curr_train_loss=0.00072442, val_loss=2.28882909]\n",
      "Validation Epoch [18/100]: 100%|███████████████████████████████████████████████████████████████████| 1/1 [00:00<00:00,  9.34it/s, val_loss=2.20549202]\n",
      "Training Epoch [19/100]: 100%|█████████████████████████████████████████| 1/1 [00:00<00:00,  8.85it/s, curr_train_loss=0.00059289, val_loss=2.20549202]\n",
      "Validation Epoch [19/100]: 100%|███████████████████████████████████████████████████████████████████| 1/1 [00:00<00:00,  9.26it/s, val_loss=2.13081789]\n",
      "Training Epoch [20/100]: 100%|█████████████████████████████████████████| 1/1 [00:00<00:00,  8.99it/s, curr_train_loss=0.00048224, val_loss=2.13081789]\n",
      "Validation Epoch [20/100]: 100%|███████████████████████████████████████████████████████████████████| 1/1 [00:00<00:00,  9.14it/s, val_loss=2.06546879]\n",
      "Training Epoch [21/100]: 100%|█████████████████████████████████████████| 1/1 [00:00<00:00,  9.08it/s, curr_train_loss=0.00039087, val_loss=2.06546879]\n",
      "Validation Epoch [21/100]: 100%|███████████████████████████████████████████████████████████████████| 1/1 [00:00<00:00,  9.16it/s, val_loss=2.01025748]\n",
      "Training Epoch [22/100]: 100%|█████████████████████████████████████████| 1/1 [00:00<00:00,  9.10it/s, curr_train_loss=0.00031695, val_loss=2.01025748]\n",
      "Validation Epoch [22/100]: 100%|███████████████████████████████████████████████████████████████████| 1/1 [00:00<00:00,  9.22it/s, val_loss=1.96427643]\n",
      "Training Epoch [23/100]: 100%|█████████████████████████████████████████| 1/1 [00:00<00:00,  9.06it/s, curr_train_loss=0.00025807, val_loss=1.96427643]\n",
      "Validation Epoch [23/100]: 100%|███████████████████████████████████████████████████████████████████| 1/1 [00:00<00:00,  9.16it/s, val_loss=1.92499065]\n",
      "Training Epoch [24/100]: 100%|█████████████████████████████████████████| 1/1 [00:00<00:00,  8.92it/s, curr_train_loss=0.00021165, val_loss=1.92499065]\n",
      "Validation Epoch [24/100]: 100%|███████████████████████████████████████████████████████████████████| 1/1 [00:00<00:00,  9.18it/s, val_loss=1.89159298]\n",
      "Training Epoch [25/100]: 100%|█████████████████████████████████████████| 1/1 [00:00<00:00,  8.91it/s, curr_train_loss=0.00017530, val_loss=1.89159298]\n",
      "Validation Epoch [25/100]: 100%|███████████████████████████████████████████████████████████████████| 1/1 [00:00<00:00,  9.19it/s, val_loss=1.86281133]\n",
      "Training Epoch [26/100]: 100%|█████████████████████████████████████████| 1/1 [00:00<00:00,  9.04it/s, curr_train_loss=0.00014683, val_loss=1.86281133]\n",
      "Validation Epoch [26/100]: 100%|███████████████████████████████████████████████████████████████████| 1/1 [00:00<00:00,  9.16it/s, val_loss=1.83779097]\n",
      "Training Epoch [27/100]: 100%|█████████████████████████████████████████| 1/1 [00:00<00:00,  8.90it/s, curr_train_loss=0.00012450, val_loss=1.83779097]\n",
      "Validation Epoch [27/100]: 100%|███████████████████████████████████████████████████████████████████| 1/1 [00:00<00:00,  9.51it/s, val_loss=1.81582522]\n",
      "Training Epoch [28/100]: 100%|█████████████████████████████████████████| 1/1 [00:00<00:00,  8.88it/s, curr_train_loss=0.00010688, val_loss=1.81582522]\n",
      "Validation Epoch [28/100]: 100%|███████████████████████████████████████████████████████████████████| 1/1 [00:00<00:00,  9.39it/s, val_loss=1.79733837]\n",
      "Training Epoch [29/100]: 100%|█████████████████████████████████████████| 1/1 [00:00<00:00,  8.83it/s, curr_train_loss=0.00009294, val_loss=1.79733837]\n",
      "Validation Epoch [29/100]: 100%|███████████████████████████████████████████████████████████████████| 1/1 [00:00<00:00,  9.20it/s, val_loss=1.78133619]\n",
      "Training Epoch [30/100]: 100%|█████████████████████████████████████████| 1/1 [00:00<00:00,  8.88it/s, curr_train_loss=0.00008177, val_loss=1.78133619]\n",
      "Validation Epoch [30/100]: 100%|███████████████████████████████████████████████████████████████████| 1/1 [00:00<00:00,  9.23it/s, val_loss=1.76754558]\n",
      "Training Epoch [31/100]: 100%|█████████████████████████████████████████| 1/1 [00:00<00:00,  8.84it/s, curr_train_loss=0.00007276, val_loss=1.76754558]\n",
      "Validation Epoch [31/100]: 100%|███████████████████████████████████████████████████████████████████| 1/1 [00:00<00:00,  9.20it/s, val_loss=1.75555432]\n",
      "Training Epoch [32/100]: 100%|█████████████████████████████████████████| 1/1 [00:00<00:00,  9.10it/s, curr_train_loss=0.00006542, val_loss=1.75555432]\n",
      "Validation Epoch [32/100]: 100%|███████████████████████████████████████████████████████████████████| 1/1 [00:00<00:00,  9.18it/s, val_loss=1.74525177]\n",
      "Training Epoch [33/100]: 100%|█████████████████████████████████████████| 1/1 [00:00<00:00,  8.95it/s, curr_train_loss=0.00005939, val_loss=1.74525177]\n",
      "Validation Epoch [33/100]: 100%|███████████████████████████████████████████████████████████████████| 1/1 [00:00<00:00,  9.19it/s, val_loss=1.73657346]\n",
      "Training Epoch [34/100]: 100%|█████████████████████████████████████████| 1/1 [00:00<00:00,  8.81it/s, curr_train_loss=0.00005439, val_loss=1.73657346]\n",
      "Validation Epoch [34/100]: 100%|███████████████████████████████████████████████████████████████████| 1/1 [00:00<00:00,  9.41it/s, val_loss=1.72922754]\n",
      "Training Epoch [35/100]: 100%|█████████████████████████████████████████| 1/1 [00:00<00:00,  8.94it/s, curr_train_loss=0.00005021, val_loss=1.72922754]\n",
      "Validation Epoch [35/100]: 100%|███████████████████████████████████████████████████████████████████| 1/1 [00:00<00:00,  9.42it/s, val_loss=1.72274470]\n",
      "Training Epoch [36/100]: 100%|█████████████████████████████████████████| 1/1 [00:00<00:00,  8.93it/s, curr_train_loss=0.00004668, val_loss=1.72274470]\n",
      "Validation Epoch [36/100]: 100%|███████████████████████████████████████████████████████████████████| 1/1 [00:00<00:00,  9.23it/s, val_loss=1.71697760]\n",
      "Training Epoch [37/100]: 100%|█████████████████████████████████████████| 1/1 [00:00<00:00,  8.81it/s, curr_train_loss=0.00004367, val_loss=1.71697760]\n",
      "Validation Epoch [37/100]: 100%|███████████████████████████████████████████████████████████████████| 1/1 [00:00<00:00,  9.32it/s, val_loss=1.71176648]\n",
      "Training Epoch [38/100]: 100%|█████████████████████████████████████████| 1/1 [00:00<00:00,  8.88it/s, curr_train_loss=0.00004109, val_loss=1.71176648]\n",
      "Validation Epoch [38/100]: 100%|███████████████████████████████████████████████████████████████████| 1/1 [00:00<00:00,  9.06it/s, val_loss=1.70692837]\n",
      "Training Epoch [39/100]: 100%|█████████████████████████████████████████| 1/1 [00:00<00:00,  9.00it/s, curr_train_loss=0.00003885, val_loss=1.70692837]\n",
      "Validation Epoch [39/100]: 100%|███████████████████████████████████████████████████████████████████| 1/1 [00:00<00:00,  9.21it/s, val_loss=1.70233917]\n",
      "Training Epoch [40/100]: 100%|█████████████████████████████████████████| 1/1 [00:00<00:00,  9.08it/s, curr_train_loss=0.00003691, val_loss=1.70233917]\n",
      "Validation Epoch [40/100]: 100%|███████████████████████████████████████████████████████████████████| 1/1 [00:00<00:00,  9.12it/s, val_loss=1.69803035]\n",
      "Training Epoch [41/100]: 100%|█████████████████████████████████████████| 1/1 [00:00<00:00,  9.07it/s, curr_train_loss=0.00003521, val_loss=1.69803035]\n",
      "Validation Epoch [41/100]: 100%|███████████████████████████████████████████████████████████████████| 1/1 [00:00<00:00,  9.10it/s, val_loss=1.69397235]\n",
      "Training Epoch [42/100]: 100%|█████████████████████████████████████████| 1/1 [00:00<00:00,  9.03it/s, curr_train_loss=0.00003372, val_loss=1.69397235]\n",
      "Validation Epoch [42/100]: 100%|███████████████████████████████████████████████████████████████████| 1/1 [00:00<00:00,  9.24it/s, val_loss=1.69010544]\n",
      "Training Epoch [43/100]: 100%|█████████████████████████████████████████| 1/1 [00:00<00:00,  9.03it/s, curr_train_loss=0.00003239, val_loss=1.69010544]\n",
      "Validation Epoch [43/100]: 100%|███████████████████████████████████████████████████████████████████| 1/1 [00:00<00:00,  9.20it/s, val_loss=1.68638611]\n",
      "Training Epoch [44/100]: 100%|█████████████████████████████████████████| 1/1 [00:00<00:00,  9.01it/s, curr_train_loss=0.00003121, val_loss=1.68638611]\n",
      "Validation Epoch [44/100]: 100%|███████████████████████████████████████████████████████████████████| 1/1 [00:00<00:00,  9.13it/s, val_loss=1.68282151]\n",
      "Training Epoch [45/100]: 100%|█████████████████████████████████████████| 1/1 [00:00<00:00,  8.95it/s, curr_train_loss=0.00003014, val_loss=1.68282151]\n",
      "Validation Epoch [45/100]: 100%|███████████████████████████████████████████████████████████████████| 1/1 [00:00<00:00,  9.05it/s, val_loss=1.67939925]\n",
      "Training Epoch [46/100]: 100%|█████████████████████████████████████████| 1/1 [00:00<00:00,  9.00it/s, curr_train_loss=0.00002918, val_loss=1.67939925]\n",
      "Validation Epoch [46/100]: 100%|███████████████████████████████████████████████████████████████████| 1/1 [00:00<00:00,  9.12it/s, val_loss=1.67609167]\n",
      "Training Epoch [47/100]: 100%|█████████████████████████████████████████| 1/1 [00:00<00:00,  9.00it/s, curr_train_loss=0.00002832, val_loss=1.67609167]\n",
      "Validation Epoch [47/100]: 100%|███████████████████████████████████████████████████████████████████| 1/1 [00:00<00:00,  9.12it/s, val_loss=1.67289150]\n",
      "Training Epoch [48/100]: 100%|█████████████████████████████████████████| 1/1 [00:00<00:00,  8.84it/s, curr_train_loss=0.00002753, val_loss=1.67289150]\n",
      "Validation Epoch [48/100]: 100%|███████████████████████████████████████████████████████████████████| 1/1 [00:00<00:00,  9.19it/s, val_loss=1.66981816]\n",
      "Training Epoch [49/100]: 100%|█████████████████████████████████████████| 1/1 [00:00<00:00,  8.95it/s, curr_train_loss=0.00002683, val_loss=1.66981816]\n",
      "Validation Epoch [49/100]: 100%|███████████████████████████████████████████████████████████████████| 1/1 [00:00<00:00,  9.36it/s, val_loss=1.66687882]\n",
      "Training Epoch [50/100]: 100%|█████████████████████████████████████████| 1/1 [00:00<00:00,  8.90it/s, curr_train_loss=0.00002618, val_loss=1.66687882]\n",
      "Validation Epoch [50/100]: 100%|███████████████████████████████████████████████████████████████████| 1/1 [00:00<00:00,  9.12it/s, val_loss=1.66404450]\n",
      "Training Epoch [51/100]: 100%|█████████████████████████████████████████| 1/1 [00:00<00:00,  8.79it/s, curr_train_loss=0.00002558, val_loss=1.66404450]\n",
      "Validation Epoch [51/100]: 100%|███████████████████████████████████████████████████████████████████| 1/1 [00:00<00:00,  9.36it/s, val_loss=1.66130626]\n",
      "Training Epoch [52/100]: 100%|█████████████████████████████████████████| 1/1 [00:00<00:00,  8.87it/s, curr_train_loss=0.00002504, val_loss=1.66130626]\n",
      "Validation Epoch [52/100]: 100%|███████████████████████████████████████████████████████████████████| 1/1 [00:00<00:00,  9.22it/s, val_loss=1.65866518]\n",
      "Training Epoch [53/100]: 100%|█████████████████████████████████████████| 1/1 [00:00<00:00,  9.06it/s, curr_train_loss=0.00002454, val_loss=1.65866518]\n",
      "Validation Epoch [53/100]: 100%|███████████████████████████████████████████████████████████████████| 1/1 [00:00<00:00,  9.13it/s, val_loss=1.65609181]\n",
      "Training Epoch [54/100]: 100%|█████████████████████████████████████████| 1/1 [00:00<00:00,  9.01it/s, curr_train_loss=0.00002407, val_loss=1.65609181]\n",
      "Validation Epoch [54/100]: 100%|███████████████████████████████████████████████████████████████████| 1/1 [00:00<00:00,  9.08it/s, val_loss=1.65358734]\n",
      "Training Epoch [55/100]: 100%|█████████████████████████████████████████| 1/1 [00:00<00:00,  8.96it/s, curr_train_loss=0.00002364, val_loss=1.65358734]\n",
      "Validation Epoch [55/100]: 100%|███████████████████████████████████████████████████████████████████| 1/1 [00:00<00:00,  9.08it/s, val_loss=1.65113986]\n",
      "Training Epoch [56/100]: 100%|█████████████████████████████████████████| 1/1 [00:00<00:00,  8.89it/s, curr_train_loss=0.00002325, val_loss=1.65113986]\n",
      "Validation Epoch [56/100]: 100%|███████████████████████████████████████████████████████████████████| 1/1 [00:00<00:00,  9.36it/s, val_loss=1.64874041]\n",
      "Training Epoch [57/100]: 100%|█████████████████████████████████████████| 1/1 [00:00<00:00,  8.85it/s, curr_train_loss=0.00002287, val_loss=1.64874041]\n",
      "Validation Epoch [57/100]: 100%|███████████████████████████████████████████████████████████████████| 1/1 [00:00<00:00,  9.37it/s, val_loss=1.64639604]\n",
      "Training Epoch [58/100]: 100%|█████████████████████████████████████████| 1/1 [00:00<00:00,  8.93it/s, curr_train_loss=0.00002253, val_loss=1.64639604]\n",
      "Validation Epoch [58/100]: 100%|███████████████████████████████████████████████████████████████████| 1/1 [00:00<00:00,  9.17it/s, val_loss=1.64410794]\n",
      "Training Epoch [59/100]: 100%|█████████████████████████████████████████| 1/1 [00:00<00:00,  8.95it/s, curr_train_loss=0.00002221, val_loss=1.64410794]\n",
      "Validation Epoch [59/100]: 100%|███████████████████████████████████████████████████████████████████| 1/1 [00:00<00:00,  9.20it/s, val_loss=1.64188969]\n",
      "Training Epoch [60/100]: 100%|█████████████████████████████████████████| 1/1 [00:00<00:00,  9.07it/s, curr_train_loss=0.00002192, val_loss=1.64188969]\n",
      "Validation Epoch [60/100]: 100%|███████████████████████████████████████████████████████████████████| 1/1 [00:00<00:00,  9.15it/s, val_loss=1.63973236]\n",
      "Training Epoch [61/100]: 100%|█████████████████████████████████████████| 1/1 [00:00<00:00,  9.05it/s, curr_train_loss=0.00002164, val_loss=1.63973236]\n",
      "Validation Epoch [61/100]: 100%|███████████████████████████████████████████████████████████████████| 1/1 [00:00<00:00,  9.16it/s, val_loss=1.63763714]\n",
      "Training Epoch [62/100]: 100%|█████████████████████████████████████████| 1/1 [00:00<00:00,  9.02it/s, curr_train_loss=0.00002138, val_loss=1.63763714]\n",
      "Validation Epoch [62/100]: 100%|███████████████████████████████████████████████████████████████████| 1/1 [00:00<00:00,  9.25it/s, val_loss=1.63558590]\n",
      "Training Epoch [63/100]: 100%|█████████████████████████████████████████| 1/1 [00:00<00:00,  8.97it/s, curr_train_loss=0.00002114, val_loss=1.63558590]\n",
      "Validation Epoch [63/100]: 100%|███████████████████████████████████████████████████████████████████| 1/1 [00:00<00:00,  9.41it/s, val_loss=1.63358593]\n",
      "Training Epoch [64/100]: 100%|█████████████████████████████████████████| 1/1 [00:00<00:00,  8.95it/s, curr_train_loss=0.00002091, val_loss=1.63358593]\n",
      "Validation Epoch [64/100]: 100%|███████████████████████████████████████████████████████████████████| 1/1 [00:00<00:00,  9.10it/s, val_loss=1.63163793]\n",
      "Training Epoch [65/100]: 100%|█████████████████████████████████████████| 1/1 [00:00<00:00,  8.93it/s, curr_train_loss=0.00002069, val_loss=1.63163793]\n",
      "Validation Epoch [65/100]: 100%|███████████████████████████████████████████████████████████████████| 1/1 [00:00<00:00,  9.17it/s, val_loss=1.62973750]\n",
      "Training Epoch [66/100]: 100%|█████████████████████████████████████████| 1/1 [00:00<00:00,  9.04it/s, curr_train_loss=0.00002049, val_loss=1.62973750]\n",
      "Validation Epoch [66/100]: 100%|███████████████████████████████████████████████████████████████████| 1/1 [00:00<00:00,  9.16it/s, val_loss=1.62788057]\n",
      "Training Epoch [67/100]: 100%|█████████████████████████████████████████| 1/1 [00:00<00:00,  9.09it/s, curr_train_loss=0.00002030, val_loss=1.62788057]\n",
      "Validation Epoch [67/100]: 100%|███████████████████████████████████████████████████████████████████| 1/1 [00:00<00:00,  9.23it/s, val_loss=1.62606764]\n",
      "Training Epoch [68/100]: 100%|█████████████████████████████████████████| 1/1 [00:00<00:00,  9.01it/s, curr_train_loss=0.00002012, val_loss=1.62606764]\n",
      "Validation Epoch [68/100]: 100%|███████████████████████████████████████████████████████████████████| 1/1 [00:00<00:00,  9.11it/s, val_loss=1.62430036]\n",
      "Training Epoch [69/100]: 100%|█████████████████████████████████████████| 1/1 [00:00<00:00,  9.03it/s, curr_train_loss=0.00001995, val_loss=1.62430036]\n",
      "Validation Epoch [69/100]: 100%|███████████████████████████████████████████████████████████████████| 1/1 [00:00<00:00,  9.17it/s, val_loss=1.62257218]\n",
      "Training Epoch [70/100]: 100%|█████████████████████████████████████████| 1/1 [00:00<00:00,  8.93it/s, curr_train_loss=0.00001979, val_loss=1.62257218]\n",
      "Validation Epoch [70/100]: 100%|███████████████████████████████████████████████████████████████████| 1/1 [00:00<00:00,  9.36it/s, val_loss=1.62087667]\n",
      "Training Epoch [71/100]: 100%|█████████████████████████████████████████| 1/1 [00:00<00:00,  8.89it/s, curr_train_loss=0.00001964, val_loss=1.62087667]\n",
      "Validation Epoch [71/100]: 100%|███████████████████████████████████████████████████████████████████| 1/1 [00:00<00:00,  9.25it/s, val_loss=1.61921751]\n",
      "Training Epoch [72/100]: 100%|█████████████████████████████████████████| 1/1 [00:00<00:00,  8.95it/s, curr_train_loss=0.00001950, val_loss=1.61921751]\n",
      "Validation Epoch [72/100]: 100%|███████████████████████████████████████████████████████████████████| 1/1 [00:00<00:00,  9.15it/s, val_loss=1.61759090]\n",
      "Training Epoch [73/100]: 100%|█████████████████████████████████████████| 1/1 [00:00<00:00,  8.88it/s, curr_train_loss=0.00001937, val_loss=1.61759090]\n",
      "Validation Epoch [73/100]: 100%|███████████████████████████████████████████████████████████████████| 1/1 [00:00<00:00,  9.20it/s, val_loss=1.61598825]\n",
      "Training Epoch [74/100]: 100%|█████████████████████████████████████████| 1/1 [00:00<00:00,  8.84it/s, curr_train_loss=0.00001924, val_loss=1.61598825]\n",
      "Validation Epoch [74/100]: 100%|███████████████████████████████████████████████████████████████████| 1/1 [00:00<00:00,  9.11it/s, val_loss=1.61440837]\n",
      "Training Epoch [75/100]: 100%|█████████████████████████████████████████| 1/1 [00:00<00:00,  8.78it/s, curr_train_loss=0.00001912, val_loss=1.61440837]\n",
      "Validation Epoch [75/100]: 100%|███████████████████████████████████████████████████████████████████| 1/1 [00:00<00:00,  9.36it/s, val_loss=1.61285019]\n",
      "Training Epoch [76/100]: 100%|█████████████████████████████████████████| 1/1 [00:00<00:00,  8.87it/s, curr_train_loss=0.00001900, val_loss=1.61285019]\n",
      "Validation Epoch [76/100]: 100%|███████████████████████████████████████████████████████████████████| 1/1 [00:00<00:00,  9.10it/s, val_loss=1.61131072]\n",
      "Training Epoch [77/100]: 100%|█████████████████████████████████████████| 1/1 [00:00<00:00,  9.08it/s, curr_train_loss=0.00001890, val_loss=1.61131072]\n",
      "Validation Epoch [77/100]: 100%|███████████████████████████████████████████████████████████████████| 1/1 [00:00<00:00,  9.12it/s, val_loss=1.60978901]\n",
      "Training Epoch [78/100]: 100%|█████████████████████████████████████████| 1/1 [00:00<00:00,  8.93it/s, curr_train_loss=0.00001880, val_loss=1.60978901]\n",
      "Validation Epoch [78/100]: 100%|███████████████████████████████████████████████████████████████████| 1/1 [00:00<00:00,  9.11it/s, val_loss=1.60828626]\n",
      "Training Epoch [79/100]: 100%|█████████████████████████████████████████| 1/1 [00:00<00:00,  8.90it/s, curr_train_loss=0.00001870, val_loss=1.60828626]\n",
      "Validation Epoch [79/100]: 100%|███████████████████████████████████████████████████████████████████| 1/1 [00:00<00:00,  9.21it/s, val_loss=1.60680449]\n",
      "Training Epoch [80/100]: 100%|█████████████████████████████████████████| 1/1 [00:00<00:00,  9.00it/s, curr_train_loss=0.00001861, val_loss=1.60680449]\n",
      "Validation Epoch [80/100]: 100%|███████████████████████████████████████████████████████████████████| 1/1 [00:00<00:00,  9.18it/s, val_loss=1.60534549]\n",
      "Training Epoch [81/100]: 100%|█████████████████████████████████████████| 1/1 [00:00<00:00,  9.07it/s, curr_train_loss=0.00001852, val_loss=1.60534549]\n",
      "Validation Epoch [81/100]: 100%|███████████████████████████████████████████████████████████████████| 1/1 [00:00<00:00,  9.17it/s, val_loss=1.60390699]\n",
      "Training Epoch [82/100]: 100%|█████████████████████████████████████████| 1/1 [00:00<00:00,  8.87it/s, curr_train_loss=0.00001844, val_loss=1.60390699]\n",
      "Validation Epoch [82/100]: 100%|███████████████████████████████████████████████████████████████████| 1/1 [00:00<00:00,  9.31it/s, val_loss=1.60248780]\n",
      "Training Epoch [83/100]: 100%|█████████████████████████████████████████| 1/1 [00:00<00:00,  8.99it/s, curr_train_loss=0.00001836, val_loss=1.60248780]\n",
      "Validation Epoch [83/100]: 100%|███████████████████████████████████████████████████████████████████| 1/1 [00:00<00:00,  9.03it/s, val_loss=1.60108411]\n",
      "Training Epoch [84/100]: 100%|█████████████████████████████████████████| 1/1 [00:00<00:00,  8.85it/s, curr_train_loss=0.00001829, val_loss=1.60108411]\n",
      "Validation Epoch [84/100]: 100%|███████████████████████████████████████████████████████████████████| 1/1 [00:00<00:00,  9.11it/s, val_loss=1.59969711]\n",
      "Training Epoch [85/100]: 100%|█████████████████████████████████████████| 1/1 [00:00<00:00,  8.81it/s, curr_train_loss=0.00001822, val_loss=1.59969711]\n",
      "Validation Epoch [85/100]: 100%|███████████████████████████████████████████████████████████████████| 1/1 [00:00<00:00,  9.35it/s, val_loss=1.59832394]\n",
      "Training Epoch [86/100]: 100%|█████████████████████████████████████████| 1/1 [00:00<00:00,  8.92it/s, curr_train_loss=0.00001815, val_loss=1.59832394]\n",
      "Validation Epoch [86/100]: 100%|███████████████████████████████████████████████████████████████████| 1/1 [00:00<00:00,  9.40it/s, val_loss=1.59696150]\n",
      "Training Epoch [87/100]: 100%|█████████████████████████████████████████| 1/1 [00:00<00:00,  8.90it/s, curr_train_loss=0.00001809, val_loss=1.59696150]\n",
      "Validation Epoch [87/100]: 100%|███████████████████████████████████████████████████████████████████| 1/1 [00:00<00:00,  9.16it/s, val_loss=1.59560943]\n",
      "Training Epoch [88/100]: 100%|█████████████████████████████████████████| 1/1 [00:00<00:00,  8.97it/s, curr_train_loss=0.00001803, val_loss=1.59560943]\n",
      "Validation Epoch [88/100]: 100%|███████████████████████████████████████████████████████████████████| 1/1 [00:00<00:00,  9.24it/s, val_loss=1.59426725]\n",
      "Training Epoch [89/100]: 100%|█████████████████████████████████████████| 1/1 [00:00<00:00,  9.12it/s, curr_train_loss=0.00001797, val_loss=1.59426725]\n",
      "Validation Epoch [89/100]: 100%|███████████████████████████████████████████████████████████████████| 1/1 [00:00<00:00,  9.05it/s, val_loss=1.59293211]\n",
      "Training Epoch [90/100]: 100%|█████████████████████████████████████████| 1/1 [00:00<00:00,  9.02it/s, curr_train_loss=0.00001791, val_loss=1.59293211]\n",
      "Validation Epoch [90/100]: 100%|███████████████████████████████████████████████████████████████████| 1/1 [00:00<00:00,  9.18it/s, val_loss=1.59160447]\n",
      "Training Epoch [91/100]: 100%|█████████████████████████████████████████| 1/1 [00:00<00:00,  9.01it/s, curr_train_loss=0.00001786, val_loss=1.59160447]\n",
      "Validation Epoch [91/100]: 100%|███████████████████████████████████████████████████████████████████| 1/1 [00:00<00:00,  9.03it/s, val_loss=1.59028506]\n",
      "Training Epoch [92/100]: 100%|█████████████████████████████████████████| 1/1 [00:00<00:00,  9.08it/s, curr_train_loss=0.00001781, val_loss=1.59028506]\n",
      "Validation Epoch [92/100]: 100%|███████████████████████████████████████████████████████████████████| 1/1 [00:00<00:00,  9.22it/s, val_loss=1.58897126]\n",
      "Training Epoch [93/100]: 100%|█████████████████████████████████████████| 1/1 [00:00<00:00,  9.07it/s, curr_train_loss=0.00001776, val_loss=1.58897126]\n",
      "Validation Epoch [93/100]: 100%|███████████████████████████████████████████████████████████████████| 1/1 [00:00<00:00,  9.15it/s, val_loss=1.58766484]\n",
      "Training Epoch [94/100]: 100%|█████████████████████████████████████████| 1/1 [00:00<00:00,  9.04it/s, curr_train_loss=0.00001772, val_loss=1.58766484]\n",
      "Validation Epoch [94/100]: 100%|███████████████████████████████████████████████████████████████████| 1/1 [00:00<00:00,  9.04it/s, val_loss=1.58636546]\n",
      "Training Epoch [95/100]: 100%|█████████████████████████████████████████| 1/1 [00:00<00:00,  8.95it/s, curr_train_loss=0.00001767, val_loss=1.58636546]\n",
      "Validation Epoch [95/100]: 100%|███████████████████████████████████████████████████████████████████| 1/1 [00:00<00:00,  9.16it/s, val_loss=1.58507276]\n",
      "Training Epoch [96/100]: 100%|█████████████████████████████████████████| 1/1 [00:00<00:00,  8.87it/s, curr_train_loss=0.00001763, val_loss=1.58507276]\n",
      "Validation Epoch [96/100]: 100%|███████████████████████████████████████████████████████████████████| 1/1 [00:00<00:00,  9.36it/s, val_loss=1.58378756]\n",
      "Training Epoch [97/100]: 100%|█████████████████████████████████████████| 1/1 [00:00<00:00,  9.06it/s, curr_train_loss=0.00001759, val_loss=1.58378756]\n",
      "Validation Epoch [97/100]: 100%|███████████████████████████████████████████████████████████████████| 1/1 [00:00<00:00,  9.10it/s, val_loss=1.58250797]\n",
      "Training Epoch [98/100]: 100%|█████████████████████████████████████████| 1/1 [00:00<00:00,  8.99it/s, curr_train_loss=0.00001755, val_loss=1.58250797]\n",
      "Validation Epoch [98/100]: 100%|███████████████████████████████████████████████████████████████████| 1/1 [00:00<00:00,  9.07it/s, val_loss=1.58123410]\n",
      "Training Epoch [99/100]: 100%|█████████████████████████████████████████| 1/1 [00:00<00:00,  8.97it/s, curr_train_loss=0.00001752, val_loss=1.58123410]\n",
      "Validation Epoch [99/100]: 100%|███████████████████████████████████████████████████████████████████| 1/1 [00:00<00:00,  9.43it/s, val_loss=1.57996476]\n",
      "Training Epoch [100/100]: 100%|████████████████████████████████████████| 1/1 [00:00<00:00,  8.96it/s, curr_train_loss=0.00001748, val_loss=1.57996476]\n",
      "Validation Epoch [100/100]: 100%|██████████████████████████████████████████████████████████████████| 1/1 [00:00<00:00,  9.18it/s, val_loss=1.57870030]"
     ]
    },
    {
     "name": "stdout",
     "output_type": "stream",
     "text": [
      "Finished training!\n",
      "How did we do? Let's check the accuracy of the defaut classifier on the training and validation sets:\n",
      "Training Acc: 100.0%\n",
      "Validation Acc: 72.0%\n"
     ]
    },
    {
     "name": "stderr",
     "output_type": "stream",
     "text": [
      "\n"
     ]
    }
   ],
   "source": [
    "from exercise_code.models import Classifier\n",
    "from exercise_code.models import Encoder\n",
    "\n",
    "# Create the encoder and the classifier.\n",
    "encoder = Encoder(hparams).to(device)\n",
    "classifier = Classifier(hparams, encoder).to(device)\n",
    "\n",
    "# Create a tensorboard logger.\n",
    "# NOTE: In order to see the logs, run the following command in the terminal: tensorboard --logdir=./\n",
    "# Also, in order to reset the logs, delete the logs folder MANUALLY.\n",
    "\n",
    "path = os.path.join('logs', 'cls_logs')\n",
    "num_of_runs = len(os.listdir(path)) if os.path.exists(path) else 0\n",
    "path = os.path.join(path, f'run_{num_of_runs + 1}')\n",
    "\n",
    "tb_logger = SummaryWriter(path)\n",
    "\n",
    "# Train the classifier.\n",
    "labled_train_loader = torch.utils.data.DataLoader(train_100_dataset, batch_size=hparams['batch_size'], shuffle=True)\n",
    "labled_val_loader = torch.utils.data.DataLoader(val_100_dataset, batch_size=hparams['batch_size'], shuffle=False)\n",
    "\n",
    "epochs = hparams.get('epochs', 10)\n",
    "loss_func = nn.CrossEntropyLoss() # The loss function we use for classification.\n",
    "train_classifier(classifier, labled_train_loader, labled_val_loader, loss_func, tb_logger, epochs=epochs, name=\"Default\")\n",
    "\n",
    "print(\"Finished training!\")\n",
    "print(\"How did we do? Let's check the accuracy of the defaut classifier on the training and validation sets:\")\n",
    "print(f\"Training Acc: {classifier.getAcc(labled_train_loader)[1] * 100}%\")\n",
    "print(f\"Validation Acc: {classifier.getAcc(labled_val_loader)[1] * 100}%\")"
   ]
  },
  {
   "attachments": {},
   "cell_type": "markdown",
   "metadata": {
    "id": "i16vmHZXMNkm",
    "pycharm": {
     "name": "#%% md\n"
    }
   },
   "source": [
    "# 3. Autoencoder\n",
    "\n",
    "With only a limited number of labeled images, it's challenging to achieve high performance. We have no money left to pay the student to create more labels, and labeling the data ourselves is out of question. A commonly used approach would be to apply data augmentation to maximize the potential of our limited labeled data, but here we provide another way to solve this problem: **transfer learning**.\n",
    "\n",
    "For each input, the autoencoder tries to reproduce the same image as an output. The difficulty behind this task is that the autoencoder has to go through a low dimensional bottleneck, which is called the **latent space**.\n",
    "In other words, the autoencoder learns to represent all the input information in a low dimensional latent space - it learns to compress the input distribution. To train the autoencoder, we use the mean squared error loss, which calculates the discrepancy between the input pixels and the output pixels. The best part is that this loss function doesn't require any labels!\n",
    "\n",
    "By pretraining the autoencoder in this way on a large amount of unlabeled data, we can capture valuable latent representations of the input images. Then, we transfer the weights of the encoder to our classifier, enabling it to benefit from the knowledge learned during the unsupervised pretraining phase. \n",
    "\n",
    "<!-- In case the image does not show, uncomment the following:\n",
    "![autoencoder](img/autoencoder.png) \n",
    "-->\n",
    "<img name=\"autoencoder\" src=\"https://i2dl.vc.in.tum.de/static/images/exercise_08/autoencoder.png\">\n",
    "\n",
    "After this, our encoder has learned to extract meaningful information from the inputs. We can then transfer its weights\n",
    "to a classifier architecture and finetune it with our labeled data, i.e., instead of initializing our encoder randomly, we are re-using the weights of our trained encoder from our autoencoder network. \n",
    "\n",
    "<!-- In case the image does not show, uncomment the following:\n",
    "![autoencoder_pretrained](img/pretrained.png) \n",
    "-->\n",
    "<img name=\"autoencoder_pretrained\" src=\"https://i2dl.vc.in.tum.de/static/images/exercise_08/pretrained.png\">\n",
    "\n",
    "\n",
    "Before we can train our autoencoder, you have to initialize your `decoder` architecture. The simplest way is to mirror your encoder architecture, which ensures that the `latent space` output of our `encoder` is correctly transformed to our input shape.\n",
    "\n",
    "<div class=\"alert alert-info\">\n",
    "    <h3>Task: Implement</h3>\n",
    "    <p>Implement the <code>Decoder</code> class initialization in <code>exercise_code/models.py</code>.</p>\n",
    "    <p>Implement <code>forward</code>, <code>set_optimizer</code>, <code>training_step</code> and <code>validation_step</code> of the <code>Autoencoder</code> in  <code>exercise_code/models.py</code>, following the pipeline we've shown you in train_classifier().</p>\n",
    "    <p>Note the differences between the classification task and now the regression task!</p>\n",
    "\n",
    "\n",
    "</div>\n",
    "\n",
    "## 3.2 Autoencoder Training\n",
    "\n",
    "Now, we can train the full autoencoder consisting of both en- and decoder.\n",
    "\n",
    "\n"
   ]
  },
  {
   "cell_type": "code",
   "execution_count": 12,
   "metadata": {
    "id": "xqqdoLDgMNkm",
    "scrolled": true
   },
   "outputs": [],
   "source": [
    "from exercise_code.models import Autoencoder, Encoder, Decoder\n",
    "\n",
    "# Define your hyper parameters\n",
    "hparams = {\n",
    "    \"batch_size\": 256,\n",
    "    \"n_hidden\": 1024,\n",
    "    \"latent_dim\" : 20,\n",
    "    \"learning_rate\" : 1e-2, \n",
    "    \"weight_decay\" : 1e-5,\n",
    "    \"epochs\": 100,\n",
    "    \"num_classes\" : 10,\n",
    "    \"device\" : device\n",
    "}\n",
    "\n",
    "encoder_pretrained = Encoder(hparams).to(device)\n",
    "decoder = Decoder(hparams).to(device)\n",
    "autoencoder = Autoencoder(hparams, encoder_pretrained, decoder).to(device)"
   ]
  },
  {
   "attachments": {},
   "cell_type": "markdown",
   "metadata": {
    "id": "uRuIIm8YMNkn"
   },
   "source": [
    "Some tests to check whether we'll accept your model."
   ]
  },
  {
   "cell_type": "code",
   "execution_count": 13,
   "metadata": {
    "id": "SoAaC-NqMNkn",
    "scrolled": true
   },
   "outputs": [
    {
     "name": "stdout",
     "output_type": "stream",
     "text": [
      "# Paramters: Your model has \u001b[92m3.757\u001b[0m mio. params.\n",
      "Model accepted!\n"
     ]
    }
   ],
   "source": [
    "from exercise_code.Util import printModelInfo, load_model\n",
    "_ = printModelInfo(autoencoder)"
   ]
  },
  {
   "attachments": {},
   "cell_type": "markdown",
   "metadata": {
    "id": "plQwnphtqggl"
   },
   "source": [
    "After implementing the relevant functions - read the following code, and then run it.\n",
    "Keep in mind that an epoch here will take much longer since\n",
    "we are iterating through 5,8600 images instead of just 100.\n",
    "\n",
    "For speed, colab is indeed recommended. "
   ]
  },
  {
   "cell_type": "code",
   "execution_count": 14,
   "metadata": {
    "id": "_uuzXMq6zjbb",
    "scrolled": true,
    "tags": []
   },
   "outputs": [
    {
     "name": "stderr",
     "output_type": "stream",
     "text": [
      "Training Epoch [0/100]: 100%|███████████████████████████████████████████| 229/229 [00:02<00:00, 88.58it/s, train_loss=0.18002010, val_loss=0.00000000]\n",
      "Validation Epoch [0/100]: 100%|███████████████████████████████████████████████████████████████████| 4/4 [00:00<00:00, 171.09it/s, val_loss=0.04990436]\n",
      "Training Epoch [1/100]: 100%|███████████████████████████████████████████| 229/229 [00:02<00:00, 98.95it/s, train_loss=0.04042711, val_loss=0.04990436]\n",
      "Validation Epoch [1/100]: 100%|███████████████████████████████████████████████████████████████████| 4/4 [00:00<00:00, 160.04it/s, val_loss=0.03480097]\n",
      "Training Epoch [2/100]: 100%|██████████████████████████████████████████| 229/229 [00:02<00:00, 101.39it/s, train_loss=0.03051945, val_loss=0.03480097]\n",
      "Validation Epoch [2/100]: 100%|███████████████████████████████████████████████████████████████████| 4/4 [00:00<00:00, 167.53it/s, val_loss=0.02735945]\n",
      "Training Epoch [3/100]: 100%|██████████████████████████████████████████| 229/229 [00:02<00:00, 105.16it/s, train_loss=0.02428521, val_loss=0.02735945]\n",
      "Validation Epoch [3/100]: 100%|███████████████████████████████████████████████████████████████████| 4/4 [00:00<00:00, 273.79it/s, val_loss=0.02220789]\n",
      "Training Epoch [4/100]: 100%|██████████████████████████████████████████| 229/229 [00:02<00:00, 113.34it/s, train_loss=0.01965094, val_loss=0.02220789]\n",
      "Validation Epoch [4/100]: 100%|███████████████████████████████████████████████████████████████████| 4/4 [00:00<00:00, 153.08it/s, val_loss=0.01782122]\n",
      "Training Epoch [5/100]: 100%|███████████████████████████████████████████| 229/229 [00:02<00:00, 91.37it/s, train_loss=0.01666694, val_loss=0.01782122]\n",
      "Validation Epoch [5/100]: 100%|███████████████████████████████████████████████████████████████████| 4/4 [00:00<00:00, 144.26it/s, val_loss=0.01661873]\n",
      "Training Epoch [6/100]: 100%|███████████████████████████████████████████| 229/229 [00:02<00:00, 90.85it/s, train_loss=0.01492272, val_loss=0.01661873]\n",
      "Validation Epoch [6/100]: 100%|███████████████████████████████████████████████████████████████████| 4/4 [00:00<00:00, 149.02it/s, val_loss=0.01449393]\n",
      "Training Epoch [7/100]: 100%|███████████████████████████████████████████| 229/229 [00:02<00:00, 91.92it/s, train_loss=0.01407398, val_loss=0.01449393]\n",
      "Validation Epoch [7/100]: 100%|███████████████████████████████████████████████████████████████████| 4/4 [00:00<00:00, 185.25it/s, val_loss=0.01455582]\n",
      "Training Epoch [8/100]: 100%|███████████████████████████████████████████| 229/229 [00:02<00:00, 94.74it/s, train_loss=0.01365218, val_loss=0.01455582]\n",
      "Validation Epoch [8/100]: 100%|███████████████████████████████████████████████████████████████████| 4/4 [00:00<00:00, 142.36it/s, val_loss=0.01349781]\n",
      "Training Epoch [9/100]: 100%|███████████████████████████████████████████| 229/229 [00:02<00:00, 93.50it/s, train_loss=0.01339433, val_loss=0.01349781]\n",
      "Validation Epoch [9/100]: 100%|███████████████████████████████████████████████████████████████████| 4/4 [00:00<00:00, 150.44it/s, val_loss=0.01381449]\n",
      "Training Epoch [10/100]: 100%|██████████████████████████████████████████| 229/229 [00:02<00:00, 90.02it/s, train_loss=0.01321649, val_loss=0.01381449]\n",
      "Validation Epoch [10/100]: 100%|██████████████████████████████████████████████████████████████████| 4/4 [00:00<00:00, 140.66it/s, val_loss=0.01361196]\n",
      "Training Epoch [11/100]: 100%|██████████████████████████████████████████| 229/229 [00:02<00:00, 92.92it/s, train_loss=0.01306530, val_loss=0.01361196]\n",
      "Validation Epoch [11/100]: 100%|██████████████████████████████████████████████████████████████████| 4/4 [00:00<00:00, 167.63it/s, val_loss=0.01399640]\n",
      "Training Epoch [12/100]: 100%|██████████████████████████████████████████| 229/229 [00:02<00:00, 90.96it/s, train_loss=0.01300960, val_loss=0.01399640]\n",
      "Validation Epoch [12/100]: 100%|██████████████████████████████████████████████████████████████████| 4/4 [00:00<00:00, 161.15it/s, val_loss=0.01343785]\n",
      "Training Epoch [13/100]: 100%|██████████████████████████████████████████| 229/229 [00:02<00:00, 91.05it/s, train_loss=0.01293095, val_loss=0.01343785]\n",
      "Validation Epoch [13/100]: 100%|██████████████████████████████████████████████████████████████████| 4/4 [00:00<00:00, 142.17it/s, val_loss=0.01294599]\n",
      "Training Epoch [14/100]: 100%|██████████████████████████████████████████| 229/229 [00:02<00:00, 90.95it/s, train_loss=0.01300131, val_loss=0.01294599]\n",
      "Validation Epoch [14/100]: 100%|██████████████████████████████████████████████████████████████████| 4/4 [00:00<00:00, 144.03it/s, val_loss=0.01333121]\n",
      "Training Epoch [15/100]: 100%|██████████████████████████████████████████| 229/229 [00:02<00:00, 90.22it/s, train_loss=0.01300197, val_loss=0.01333121]\n",
      "Validation Epoch [15/100]: 100%|██████████████████████████████████████████████████████████████████| 4/4 [00:00<00:00, 192.68it/s, val_loss=0.01345063]\n",
      "Training Epoch [16/100]: 100%|██████████████████████████████████████████| 229/229 [00:02<00:00, 89.66it/s, train_loss=0.01316763, val_loss=0.01345063]\n",
      "Validation Epoch [16/100]: 100%|██████████████████████████████████████████████████████████████████| 4/4 [00:00<00:00, 136.40it/s, val_loss=0.01348929]\n",
      "Training Epoch [17/100]: 100%|██████████████████████████████████████████| 229/229 [00:02<00:00, 91.16it/s, train_loss=0.01314273, val_loss=0.01348929]\n",
      "Validation Epoch [17/100]: 100%|██████████████████████████████████████████████████████████████████| 4/4 [00:00<00:00, 139.64it/s, val_loss=0.01375254]\n",
      "Training Epoch [18/100]: 100%|██████████████████████████████████████████| 229/229 [00:02<00:00, 89.51it/s, train_loss=0.01326423, val_loss=0.01375254]\n",
      "Validation Epoch [18/100]: 100%|██████████████████████████████████████████████████████████████████| 4/4 [00:00<00:00, 136.37it/s, val_loss=0.01430067]\n",
      "Training Epoch [19/100]: 100%|██████████████████████████████████████████| 229/229 [00:02<00:00, 92.69it/s, train_loss=0.01337784, val_loss=0.01430067]\n",
      "Validation Epoch [19/100]: 100%|██████████████████████████████████████████████████████████████████| 4/4 [00:00<00:00, 205.25it/s, val_loss=0.01380898]\n",
      "Training Epoch [20/100]: 100%|██████████████████████████████████████████| 229/229 [00:02<00:00, 91.97it/s, train_loss=0.01242236, val_loss=0.01380898]\n",
      "Validation Epoch [20/100]: 100%|██████████████████████████████████████████████████████████████████| 4/4 [00:00<00:00, 155.01it/s, val_loss=0.01255362]\n",
      "Training Epoch [21/100]: 100%|██████████████████████████████████████████| 229/229 [00:02<00:00, 91.50it/s, train_loss=0.01253490, val_loss=0.01255362]\n",
      "Validation Epoch [21/100]: 100%|██████████████████████████████████████████████████████████████████| 4/4 [00:00<00:00, 154.24it/s, val_loss=0.01278840]\n",
      "Training Epoch [22/100]: 100%|██████████████████████████████████████████| 229/229 [00:02<00:00, 95.17it/s, train_loss=0.01255642, val_loss=0.01278840]\n",
      "Validation Epoch [22/100]: 100%|██████████████████████████████████████████████████████████████████| 4/4 [00:00<00:00, 161.24it/s, val_loss=0.01257855]\n",
      "Training Epoch [23/100]: 100%|██████████████████████████████████████████| 229/229 [00:02<00:00, 94.05it/s, train_loss=0.01257106, val_loss=0.01257855]\n",
      "Validation Epoch [23/100]: 100%|██████████████████████████████████████████████████████████████████| 4/4 [00:00<00:00, 154.77it/s, val_loss=0.01275271]\n",
      "Training Epoch [24/100]: 100%|██████████████████████████████████████████| 229/229 [00:02<00:00, 94.55it/s, train_loss=0.01271244, val_loss=0.01275271]\n",
      "Validation Epoch [24/100]: 100%|██████████████████████████████████████████████████████████████████| 4/4 [00:00<00:00, 149.42it/s, val_loss=0.01322394]\n",
      "Training Epoch [25/100]: 100%|██████████████████████████████████████████| 229/229 [00:02<00:00, 95.17it/s, train_loss=0.01273572, val_loss=0.01322394]\n",
      "Validation Epoch [25/100]: 100%|██████████████████████████████████████████████████████████████████| 4/4 [00:00<00:00, 145.01it/s, val_loss=0.01285139]\n",
      "Training Epoch [26/100]: 100%|██████████████████████████████████████████| 229/229 [00:02<00:00, 90.38it/s, train_loss=0.01286260, val_loss=0.01285139]\n",
      "Validation Epoch [26/100]: 100%|██████████████████████████████████████████████████████████████████| 4/4 [00:00<00:00, 152.72it/s, val_loss=0.01294196]\n",
      "Training Epoch [27/100]: 100%|██████████████████████████████████████████| 229/229 [00:02<00:00, 94.32it/s, train_loss=0.01279803, val_loss=0.01294196]\n",
      "Validation Epoch [27/100]: 100%|██████████████████████████████████████████████████████████████████| 4/4 [00:00<00:00, 137.06it/s, val_loss=0.01312246]\n",
      "Training Epoch [28/100]: 100%|██████████████████████████████████████████| 229/229 [00:02<00:00, 92.70it/s, train_loss=0.01284983, val_loss=0.01312246]\n",
      "Validation Epoch [28/100]: 100%|██████████████████████████████████████████████████████████████████| 4/4 [00:00<00:00, 147.95it/s, val_loss=0.01311825]\n",
      "Training Epoch [29/100]: 100%|██████████████████████████████████████████| 229/229 [00:02<00:00, 94.99it/s, train_loss=0.01292489, val_loss=0.01311825]\n",
      "Validation Epoch [29/100]: 100%|██████████████████████████████████████████████████████████████████| 4/4 [00:00<00:00, 168.21it/s, val_loss=0.01318019]\n",
      "Training Epoch [30/100]: 100%|██████████████████████████████████████████| 229/229 [00:02<00:00, 90.94it/s, train_loss=0.01301962, val_loss=0.01318019]\n",
      "Validation Epoch [30/100]: 100%|██████████████████████████████████████████████████████████████████| 4/4 [00:00<00:00, 165.25it/s, val_loss=0.01301427]\n",
      "Training Epoch [31/100]: 100%|██████████████████████████████████████████| 229/229 [00:02<00:00, 90.91it/s, train_loss=0.01299447, val_loss=0.01301427]\n",
      "Validation Epoch [31/100]: 100%|██████████████████████████████████████████████████████████████████| 4/4 [00:00<00:00, 136.77it/s, val_loss=0.01340440]\n",
      "Training Epoch [32/100]: 100%|██████████████████████████████████████████| 229/229 [00:02<00:00, 94.75it/s, train_loss=0.01301460, val_loss=0.01340440]\n",
      "Validation Epoch [32/100]: 100%|██████████████████████████████████████████████████████████████████| 4/4 [00:00<00:00, 135.90it/s, val_loss=0.01392473]\n",
      "Training Epoch [33/100]: 100%|██████████████████████████████████████████| 229/229 [00:02<00:00, 89.85it/s, train_loss=0.01303370, val_loss=0.01392473]\n",
      "Validation Epoch [33/100]: 100%|██████████████████████████████████████████████████████████████████| 4/4 [00:00<00:00, 155.04it/s, val_loss=0.01307578]\n",
      "Training Epoch [34/100]: 100%|██████████████████████████████████████████| 229/229 [00:02<00:00, 90.98it/s, train_loss=0.01301842, val_loss=0.01307578]\n",
      "Validation Epoch [34/100]: 100%|██████████████████████████████████████████████████████████████████| 4/4 [00:00<00:00, 140.80it/s, val_loss=0.01332005]\n",
      "Training Epoch [35/100]: 100%|██████████████████████████████████████████| 229/229 [00:02<00:00, 94.69it/s, train_loss=0.01307643, val_loss=0.01332005]\n",
      "Validation Epoch [35/100]: 100%|██████████████████████████████████████████████████████████████████| 4/4 [00:00<00:00, 146.18it/s, val_loss=0.01321764]\n",
      "Training Epoch [36/100]: 100%|██████████████████████████████████████████| 229/229 [00:02<00:00, 95.31it/s, train_loss=0.01302885, val_loss=0.01321764]\n",
      "Validation Epoch [36/100]: 100%|██████████████████████████████████████████████████████████████████| 4/4 [00:00<00:00, 154.11it/s, val_loss=0.01344329]\n",
      "Training Epoch [37/100]: 100%|█████████████████████████████████████████| 229/229 [00:02<00:00, 102.61it/s, train_loss=0.01317814, val_loss=0.01344329]\n",
      "Validation Epoch [37/100]: 100%|██████████████████████████████████████████████████████████████████| 4/4 [00:00<00:00, 149.79it/s, val_loss=0.01328916]\n",
      "Training Epoch [38/100]: 100%|██████████████████████████████████████████| 229/229 [00:02<00:00, 94.15it/s, train_loss=0.01311377, val_loss=0.01328916]\n",
      "Validation Epoch [38/100]: 100%|██████████████████████████████████████████████████████████████████| 4/4 [00:00<00:00, 173.88it/s, val_loss=0.01308207]\n",
      "Training Epoch [39/100]: 100%|██████████████████████████████████████████| 229/229 [00:02<00:00, 91.10it/s, train_loss=0.01314498, val_loss=0.01308207]\n",
      "Validation Epoch [39/100]: 100%|██████████████████████████████████████████████████████████████████| 4/4 [00:00<00:00, 139.85it/s, val_loss=0.01336073]\n",
      "Training Epoch [40/100]: 100%|██████████████████████████████████████████| 229/229 [00:02<00:00, 88.88it/s, train_loss=0.01219189, val_loss=0.01336073]\n",
      "Validation Epoch [40/100]: 100%|██████████████████████████████████████████████████████████████████| 4/4 [00:00<00:00, 171.99it/s, val_loss=0.01221748]\n",
      "Training Epoch [41/100]: 100%|██████████████████████████████████████████| 229/229 [00:02<00:00, 93.60it/s, train_loss=0.01226965, val_loss=0.01221748]\n",
      "Validation Epoch [41/100]: 100%|██████████████████████████████████████████████████████████████████| 4/4 [00:00<00:00, 175.12it/s, val_loss=0.01255870]\n",
      "Training Epoch [42/100]: 100%|██████████████████████████████████████████| 229/229 [00:02<00:00, 92.42it/s, train_loss=0.01233617, val_loss=0.01255870]\n",
      "Validation Epoch [42/100]: 100%|██████████████████████████████████████████████████████████████████| 4/4 [00:00<00:00, 148.69it/s, val_loss=0.01240428]\n",
      "Training Epoch [43/100]: 100%|██████████████████████████████████████████| 229/229 [00:02<00:00, 96.70it/s, train_loss=0.01229960, val_loss=0.01240428]\n",
      "Validation Epoch [43/100]: 100%|██████████████████████████████████████████████████████████████████| 4/4 [00:00<00:00, 164.23it/s, val_loss=0.01211695]\n",
      "Training Epoch [44/100]: 100%|██████████████████████████████████████████| 229/229 [00:02<00:00, 96.76it/s, train_loss=0.01234561, val_loss=0.01211695]\n",
      "Validation Epoch [44/100]: 100%|██████████████████████████████████████████████████████████████████| 4/4 [00:00<00:00, 179.34it/s, val_loss=0.01208847]\n",
      "Training Epoch [45/100]: 100%|██████████████████████████████████████████| 229/229 [00:02<00:00, 93.07it/s, train_loss=0.01226865, val_loss=0.01208847]\n",
      "Validation Epoch [45/100]: 100%|██████████████████████████████████████████████████████████████████| 4/4 [00:00<00:00, 156.75it/s, val_loss=0.01227447]\n",
      "Training Epoch [46/100]: 100%|██████████████████████████████████████████| 229/229 [00:02<00:00, 94.96it/s, train_loss=0.01223159, val_loss=0.01227447]\n",
      "Validation Epoch [46/100]: 100%|██████████████████████████████████████████████████████████████████| 4/4 [00:00<00:00, 135.11it/s, val_loss=0.01198132]\n",
      "Training Epoch [47/100]: 100%|██████████████████████████████████████████| 229/229 [00:02<00:00, 93.97it/s, train_loss=0.01225831, val_loss=0.01198132]\n",
      "Validation Epoch [47/100]: 100%|██████████████████████████████████████████████████████████████████| 4/4 [00:00<00:00, 182.37it/s, val_loss=0.01227685]\n",
      "Training Epoch [48/100]: 100%|██████████████████████████████████████████| 229/229 [00:02<00:00, 92.82it/s, train_loss=0.01225370, val_loss=0.01227685]\n",
      "Validation Epoch [48/100]: 100%|██████████████████████████████████████████████████████████████████| 4/4 [00:00<00:00, 144.23it/s, val_loss=0.01208672]\n",
      "Training Epoch [49/100]: 100%|██████████████████████████████████████████| 229/229 [00:02<00:00, 96.40it/s, train_loss=0.01228312, val_loss=0.01208672]\n",
      "Validation Epoch [49/100]: 100%|██████████████████████████████████████████████████████████████████| 4/4 [00:00<00:00, 146.20it/s, val_loss=0.01207720]\n",
      "Training Epoch [50/100]: 100%|██████████████████████████████████████████| 229/229 [00:02<00:00, 91.68it/s, train_loss=0.01222518, val_loss=0.01207720]\n",
      "Validation Epoch [50/100]: 100%|██████████████████████████████████████████████████████████████████| 4/4 [00:00<00:00, 149.99it/s, val_loss=0.01255810]\n",
      "Training Epoch [51/100]: 100%|█████████████████████████████████████████| 229/229 [00:02<00:00, 101.75it/s, train_loss=0.01219272, val_loss=0.01255810]\n",
      "Validation Epoch [51/100]: 100%|██████████████████████████████████████████████████████████████████| 4/4 [00:00<00:00, 140.10it/s, val_loss=0.01222098]\n",
      "Training Epoch [52/100]: 100%|██████████████████████████████████████████| 229/229 [00:02<00:00, 93.15it/s, train_loss=0.01230073, val_loss=0.01222098]\n",
      "Validation Epoch [52/100]: 100%|██████████████████████████████████████████████████████████████████| 4/4 [00:00<00:00, 137.17it/s, val_loss=0.01280753]\n",
      "Training Epoch [53/100]: 100%|█████████████████████████████████████████| 229/229 [00:01<00:00, 115.64it/s, train_loss=0.01229282, val_loss=0.01280753]\n",
      "Validation Epoch [53/100]: 100%|██████████████████████████████████████████████████████████████████| 4/4 [00:00<00:00, 359.41it/s, val_loss=0.01229777]\n",
      "Training Epoch [54/100]: 100%|█████████████████████████████████████████| 229/229 [00:01<00:00, 118.02it/s, train_loss=0.01221307, val_loss=0.01229777]\n",
      "Validation Epoch [54/100]: 100%|██████████████████████████████████████████████████████████████████| 4/4 [00:00<00:00, 137.92it/s, val_loss=0.01242526]\n",
      "Training Epoch [55/100]: 100%|██████████████████████████████████████████| 229/229 [00:02<00:00, 93.81it/s, train_loss=0.01224032, val_loss=0.01242526]\n",
      "Validation Epoch [55/100]: 100%|██████████████████████████████████████████████████████████████████| 4/4 [00:00<00:00, 142.73it/s, val_loss=0.01209766]\n",
      "Training Epoch [56/100]: 100%|██████████████████████████████████████████| 229/229 [00:02<00:00, 94.07it/s, train_loss=0.01223735, val_loss=0.01209766]\n",
      "Validation Epoch [56/100]: 100%|██████████████████████████████████████████████████████████████████| 4/4 [00:00<00:00, 146.17it/s, val_loss=0.01208277]\n",
      "Training Epoch [57/100]: 100%|██████████████████████████████████████████| 229/229 [00:02<00:00, 92.90it/s, train_loss=0.01221175, val_loss=0.01208277]\n",
      "Validation Epoch [57/100]: 100%|██████████████████████████████████████████████████████████████████| 4/4 [00:00<00:00, 160.30it/s, val_loss=0.01224696]\n",
      "Training Epoch [58/100]: 100%|██████████████████████████████████████████| 229/229 [00:02<00:00, 93.01it/s, train_loss=0.01223016, val_loss=0.01224696]\n",
      "Validation Epoch [58/100]: 100%|██████████████████████████████████████████████████████████████████| 4/4 [00:00<00:00, 134.29it/s, val_loss=0.01212167]\n",
      "Training Epoch [59/100]: 100%|██████████████████████████████████████████| 229/229 [00:02<00:00, 93.38it/s, train_loss=0.01216584, val_loss=0.01212167]\n",
      "Validation Epoch [59/100]: 100%|██████████████████████████████████████████████████████████████████| 4/4 [00:00<00:00, 148.53it/s, val_loss=0.01243477]\n",
      "Training Epoch [60/100]: 100%|██████████████████████████████████████████| 229/229 [00:02<00:00, 93.75it/s, train_loss=0.01152749, val_loss=0.01243477]\n",
      "Validation Epoch [60/100]: 100%|██████████████████████████████████████████████████████████████████| 4/4 [00:00<00:00, 151.77it/s, val_loss=0.01152282]\n",
      "Training Epoch [61/100]: 100%|██████████████████████████████████████████| 229/229 [00:02<00:00, 94.14it/s, train_loss=0.01150728, val_loss=0.01152282]\n",
      "Validation Epoch [61/100]: 100%|██████████████████████████████████████████████████████████████████| 4/4 [00:00<00:00, 150.06it/s, val_loss=0.01154861]\n",
      "Training Epoch [62/100]: 100%|██████████████████████████████████████████| 229/229 [00:02<00:00, 92.42it/s, train_loss=0.01152880, val_loss=0.01154861]\n",
      "Validation Epoch [62/100]: 100%|██████████████████████████████████████████████████████████████████| 4/4 [00:00<00:00, 147.92it/s, val_loss=0.01161931]\n",
      "Training Epoch [63/100]: 100%|██████████████████████████████████████████| 229/229 [00:02<00:00, 93.65it/s, train_loss=0.01155615, val_loss=0.01161931]\n",
      "Validation Epoch [63/100]: 100%|██████████████████████████████████████████████████████████████████| 4/4 [00:00<00:00, 162.38it/s, val_loss=0.01163401]\n",
      "Training Epoch [64/100]: 100%|██████████████████████████████████████████| 229/229 [00:02<00:00, 94.01it/s, train_loss=0.01157229, val_loss=0.01163401]\n",
      "Validation Epoch [64/100]: 100%|██████████████████████████████████████████████████████████████████| 4/4 [00:00<00:00, 143.54it/s, val_loss=0.01168448]\n",
      "Training Epoch [65/100]: 100%|██████████████████████████████████████████| 229/229 [00:02<00:00, 93.50it/s, train_loss=0.01153029, val_loss=0.01168448]\n",
      "Validation Epoch [65/100]: 100%|██████████████████████████████████████████████████████████████████| 4/4 [00:00<00:00, 156.82it/s, val_loss=0.01151003]\n",
      "Training Epoch [66/100]: 100%|██████████████████████████████████████████| 229/229 [00:02<00:00, 93.97it/s, train_loss=0.01146871, val_loss=0.01151003]\n",
      "Validation Epoch [66/100]: 100%|██████████████████████████████████████████████████████████████████| 4/4 [00:00<00:00, 212.60it/s, val_loss=0.01161840]\n",
      "Training Epoch [67/100]: 100%|█████████████████████████████████████████| 229/229 [00:01<00:00, 131.60it/s, train_loss=0.01150115, val_loss=0.01161840]\n",
      "Validation Epoch [67/100]: 100%|██████████████████████████████████████████████████████████████████| 4/4 [00:00<00:00, 205.90it/s, val_loss=0.01137974]\n",
      "Training Epoch [68/100]: 100%|██████████████████████████████████████████| 229/229 [00:02<00:00, 98.55it/s, train_loss=0.01147460, val_loss=0.01137974]\n",
      "Validation Epoch [68/100]: 100%|██████████████████████████████████████████████████████████████████| 4/4 [00:00<00:00, 147.53it/s, val_loss=0.01147160]\n",
      "Training Epoch [69/100]: 100%|██████████████████████████████████████████| 229/229 [00:02<00:00, 93.79it/s, train_loss=0.01144606, val_loss=0.01147160]\n",
      "Validation Epoch [69/100]: 100%|██████████████████████████████████████████████████████████████████| 4/4 [00:00<00:00, 147.68it/s, val_loss=0.01119245]\n",
      "Training Epoch [70/100]: 100%|██████████████████████████████████████████| 229/229 [00:02<00:00, 93.24it/s, train_loss=0.01148562, val_loss=0.01119245]\n",
      "Validation Epoch [70/100]: 100%|██████████████████████████████████████████████████████████████████| 4/4 [00:00<00:00, 142.21it/s, val_loss=0.01134230]\n",
      "Training Epoch [71/100]: 100%|██████████████████████████████████████████| 229/229 [00:02<00:00, 93.40it/s, train_loss=0.01150206, val_loss=0.01134230]\n",
      "Validation Epoch [71/100]: 100%|██████████████████████████████████████████████████████████████████| 4/4 [00:00<00:00, 137.88it/s, val_loss=0.01146938]\n",
      "Training Epoch [72/100]: 100%|██████████████████████████████████████████| 229/229 [00:02<00:00, 94.33it/s, train_loss=0.01141097, val_loss=0.01146938]\n",
      "Validation Epoch [72/100]: 100%|██████████████████████████████████████████████████████████████████| 4/4 [00:00<00:00, 141.72it/s, val_loss=0.01174639]\n",
      "Training Epoch [73/100]: 100%|██████████████████████████████████████████| 229/229 [00:02<00:00, 93.48it/s, train_loss=0.01145034, val_loss=0.01174639]\n",
      "Validation Epoch [73/100]: 100%|██████████████████████████████████████████████████████████████████| 4/4 [00:00<00:00, 136.34it/s, val_loss=0.01123519]\n",
      "Training Epoch [74/100]: 100%|██████████████████████████████████████████| 229/229 [00:02<00:00, 97.76it/s, train_loss=0.01146577, val_loss=0.01123519]\n",
      "Validation Epoch [74/100]: 100%|██████████████████████████████████████████████████████████████████| 4/4 [00:00<00:00, 158.66it/s, val_loss=0.01104526]\n",
      "Training Epoch [75/100]: 100%|██████████████████████████████████████████| 229/229 [00:02<00:00, 93.37it/s, train_loss=0.01142506, val_loss=0.01104526]\n",
      "Validation Epoch [75/100]: 100%|██████████████████████████████████████████████████████████████████| 4/4 [00:00<00:00, 143.25it/s, val_loss=0.01159124]\n",
      "Training Epoch [76/100]: 100%|██████████████████████████████████████████| 229/229 [00:02<00:00, 92.83it/s, train_loss=0.01141301, val_loss=0.01159124]\n",
      "Validation Epoch [76/100]: 100%|██████████████████████████████████████████████████████████████████| 4/4 [00:00<00:00, 155.65it/s, val_loss=0.01148012]\n",
      "Training Epoch [77/100]: 100%|██████████████████████████████████████████| 229/229 [00:02<00:00, 90.23it/s, train_loss=0.01149025, val_loss=0.01148012]\n",
      "Validation Epoch [77/100]: 100%|██████████████████████████████████████████████████████████████████| 4/4 [00:00<00:00, 148.01it/s, val_loss=0.01120890]\n",
      "Training Epoch [78/100]: 100%|██████████████████████████████████████████| 229/229 [00:02<00:00, 90.63it/s, train_loss=0.01143008, val_loss=0.01120890]\n",
      "Validation Epoch [78/100]: 100%|██████████████████████████████████████████████████████████████████| 4/4 [00:00<00:00, 145.32it/s, val_loss=0.01135036]\n",
      "Training Epoch [79/100]: 100%|██████████████████████████████████████████| 229/229 [00:02<00:00, 94.24it/s, train_loss=0.01138507, val_loss=0.01135036]\n",
      "Validation Epoch [79/100]: 100%|██████████████████████████████████████████████████████████████████| 4/4 [00:00<00:00, 184.12it/s, val_loss=0.01134283]\n",
      "Training Epoch [80/100]: 100%|██████████████████████████████████████████| 229/229 [00:02<00:00, 91.81it/s, train_loss=0.01083082, val_loss=0.01134283]\n",
      "Validation Epoch [80/100]: 100%|██████████████████████████████████████████████████████████████████| 4/4 [00:00<00:00, 159.11it/s, val_loss=0.01055422]\n",
      "Training Epoch [81/100]: 100%|██████████████████████████████████████████| 229/229 [00:02<00:00, 93.28it/s, train_loss=0.01085636, val_loss=0.01055422]\n",
      "Validation Epoch [81/100]: 100%|██████████████████████████████████████████████████████████████████| 4/4 [00:00<00:00, 143.60it/s, val_loss=0.01074553]\n",
      "Training Epoch [82/100]: 100%|██████████████████████████████████████████| 229/229 [00:02<00:00, 88.68it/s, train_loss=0.01091024, val_loss=0.01074553]\n",
      "Validation Epoch [82/100]: 100%|██████████████████████████████████████████████████████████████████| 4/4 [00:00<00:00, 154.81it/s, val_loss=0.01093738]\n",
      "Training Epoch [83/100]: 100%|██████████████████████████████████████████| 229/229 [00:02<00:00, 91.47it/s, train_loss=0.01086479, val_loss=0.01093738]\n",
      "Validation Epoch [83/100]: 100%|██████████████████████████████████████████████████████████████████| 4/4 [00:00<00:00, 144.48it/s, val_loss=0.01083125]\n",
      "Training Epoch [84/100]: 100%|██████████████████████████████████████████| 229/229 [00:02<00:00, 91.66it/s, train_loss=0.01088378, val_loss=0.01083125]\n",
      "Validation Epoch [84/100]: 100%|██████████████████████████████████████████████████████████████████| 4/4 [00:00<00:00, 149.31it/s, val_loss=0.01076853]\n",
      "Training Epoch [85/100]: 100%|██████████████████████████████████████████| 229/229 [00:02<00:00, 91.57it/s, train_loss=0.01085847, val_loss=0.01076853]\n",
      "Validation Epoch [85/100]: 100%|██████████████████████████████████████████████████████████████████| 4/4 [00:00<00:00, 150.75it/s, val_loss=0.01071582]\n",
      "Training Epoch [86/100]: 100%|██████████████████████████████████████████| 229/229 [00:02<00:00, 95.11it/s, train_loss=0.01087948, val_loss=0.01071582]\n",
      "Validation Epoch [86/100]: 100%|██████████████████████████████████████████████████████████████████| 4/4 [00:00<00:00, 161.15it/s, val_loss=0.01060092]\n",
      "Training Epoch [87/100]: 100%|██████████████████████████████████████████| 229/229 [00:02<00:00, 93.25it/s, train_loss=0.01082856, val_loss=0.01060092]\n",
      "Validation Epoch [87/100]: 100%|██████████████████████████████████████████████████████████████████| 4/4 [00:00<00:00, 137.31it/s, val_loss=0.01066779]\n",
      "Training Epoch [88/100]: 100%|██████████████████████████████████████████| 229/229 [00:02<00:00, 92.08it/s, train_loss=0.01087992, val_loss=0.01066779]\n",
      "Validation Epoch [88/100]: 100%|██████████████████████████████████████████████████████████████████| 4/4 [00:00<00:00, 173.85it/s, val_loss=0.01067236]\n",
      "Training Epoch [89/100]: 100%|██████████████████████████████████████████| 229/229 [00:02<00:00, 91.62it/s, train_loss=0.01086606, val_loss=0.01067236]\n",
      "Validation Epoch [89/100]: 100%|██████████████████████████████████████████████████████████████████| 4/4 [00:00<00:00, 148.79it/s, val_loss=0.01054020]\n",
      "Training Epoch [90/100]: 100%|██████████████████████████████████████████| 229/229 [00:02<00:00, 91.55it/s, train_loss=0.01083550, val_loss=0.01054020]\n",
      "Validation Epoch [90/100]: 100%|██████████████████████████████████████████████████████████████████| 4/4 [00:00<00:00, 170.96it/s, val_loss=0.01060789]\n",
      "Training Epoch [91/100]: 100%|██████████████████████████████████████████| 229/229 [00:02<00:00, 92.93it/s, train_loss=0.01079572, val_loss=0.01060789]\n",
      "Validation Epoch [91/100]: 100%|██████████████████████████████████████████████████████████████████| 4/4 [00:00<00:00, 137.28it/s, val_loss=0.01051643]\n",
      "Training Epoch [92/100]: 100%|██████████████████████████████████████████| 229/229 [00:02<00:00, 91.47it/s, train_loss=0.01081402, val_loss=0.01051643]\n",
      "Validation Epoch [92/100]: 100%|██████████████████████████████████████████████████████████████████| 4/4 [00:00<00:00, 147.85it/s, val_loss=0.01051751]\n",
      "Training Epoch [93/100]: 100%|██████████████████████████████████████████| 229/229 [00:02<00:00, 94.55it/s, train_loss=0.01080566, val_loss=0.01051751]\n",
      "Validation Epoch [93/100]: 100%|██████████████████████████████████████████████████████████████████| 4/4 [00:00<00:00, 135.99it/s, val_loss=0.01064918]\n",
      "Training Epoch [94/100]: 100%|██████████████████████████████████████████| 229/229 [00:02<00:00, 92.84it/s, train_loss=0.01081937, val_loss=0.01064918]\n",
      "Validation Epoch [94/100]: 100%|██████████████████████████████████████████████████████████████████| 4/4 [00:00<00:00, 148.64it/s, val_loss=0.01050414]\n",
      "Training Epoch [95/100]: 100%|██████████████████████████████████████████| 229/229 [00:02<00:00, 89.38it/s, train_loss=0.01078152, val_loss=0.01050414]\n",
      "Validation Epoch [95/100]: 100%|██████████████████████████████████████████████████████████████████| 4/4 [00:00<00:00, 167.82it/s, val_loss=0.01074676]\n",
      "Training Epoch [96/100]: 100%|██████████████████████████████████████████| 229/229 [00:02<00:00, 91.26it/s, train_loss=0.01085274, val_loss=0.01074676]\n",
      "Validation Epoch [96/100]: 100%|██████████████████████████████████████████████████████████████████| 4/4 [00:00<00:00, 136.58it/s, val_loss=0.01068815]\n",
      "Training Epoch [97/100]: 100%|█████████████████████████████████████████| 229/229 [00:02<00:00, 112.41it/s, train_loss=0.01080612, val_loss=0.01068815]\n",
      "Validation Epoch [97/100]: 100%|██████████████████████████████████████████████████████████████████| 4/4 [00:00<00:00, 363.62it/s, val_loss=0.01067917]\n",
      "Training Epoch [98/100]: 100%|██████████████████████████████████████████| 229/229 [00:02<00:00, 98.64it/s, train_loss=0.01080599, val_loss=0.01067917]\n",
      "Validation Epoch [98/100]: 100%|██████████████████████████████████████████████████████████████████| 4/4 [00:00<00:00, 156.62it/s, val_loss=0.01038243]\n",
      "Training Epoch [99/100]: 100%|██████████████████████████████████████████| 229/229 [00:02<00:00, 93.38it/s, train_loss=0.01076646, val_loss=0.01038243]\n",
      "Validation Epoch [99/100]: 100%|██████████████████████████████████████████████████████████████████| 4/4 [00:00<00:00, 217.80it/s, val_loss=0.01041178]"
     ]
    },
    {
     "name": "stdout",
     "output_type": "stream",
     "text": [
      "Finished training!\n"
     ]
    },
    {
     "name": "stderr",
     "output_type": "stream",
     "text": [
      "\n"
     ]
    }
   ],
   "source": [
    "encoder_pretrained = Encoder(hparams).to(device)\n",
    "decoder = Decoder(hparams).to(device)\n",
    "autoencoder = Autoencoder(hparams, encoder_pretrained, decoder).to(device)\n",
    "\n",
    "def train_model(model, train_loader, val_loader, loss_func, tb_logger, epochs=10, name='Autoencoder'):\n",
    "    \n",
    "    optimizer = model.optimizer\n",
    "    scheduler = torch.optim.lr_scheduler.StepLR(optimizer, step_size=epochs * len(train_loader) / 5, gamma=0.7)\n",
    "    validation_loss = 0\n",
    "    model = model.to(device)\n",
    "    for epoch in range(epochs):\n",
    "        \n",
    "        # Train\n",
    "        training_loop = create_tqdm_bar(train_loader, desc=f'Training Epoch [{epoch}/{epochs}]')\n",
    "        training_loss = 0\n",
    "        for train_iteration, batch in training_loop:\n",
    "            \n",
    "            loss = model.training_step(batch, loss_func) # You need to implement this function.\n",
    "            training_loss += loss.item()\n",
    "            scheduler.step()\n",
    "\n",
    "            # Update the progress bar.\n",
    "            training_loop.set_postfix(train_loss = \"{:.8f}\".format(training_loss / (train_iteration + 1)), val_loss = \"{:.8f}\".format(validation_loss))\n",
    "\n",
    "            # Update the tensorboard logger.\n",
    "            tb_logger.add_scalar(f'{name}/train_loss', loss.item(), epoch * len(train_loader) + train_iteration)\n",
    "\n",
    "        # Validation\n",
    "        val_loop = create_tqdm_bar(val_loader, desc=f'Validation Epoch [{epoch}/{epochs}]')\n",
    "        validation_loss = 0\n",
    "        with torch.no_grad():\n",
    "            for val_iteration, batch in val_loop:\n",
    "                loss = model.validation_step(batch, loss_func) # You need to implement this function.\n",
    "                validation_loss += loss.item()\n",
    "\n",
    "                # Update the progress bar.\n",
    "                val_loop.set_postfix(val_loss = \"{:.8f}\".format(validation_loss / (val_iteration + 1)))\n",
    "\n",
    "                # Update the tensorboard logger.\n",
    "                tb_logger.add_scalar(f'{name}/val_loss', validation_loss / (val_iteration + 1), epoch * len(val_loader) + val_iteration)\n",
    "        # This value is for the progress bar of the training loop.\n",
    "        validation_loss /= len(val_loader)\n",
    "\n",
    "# Create a tensorboard logger.\n",
    "# NOTE: In order to see the logs, run the following command in the terminal: tensorboard --logdir=./\n",
    "# Also, in order to reset the logs, delete the logs folder MANUALLY.\n",
    "\n",
    "path = os.path.join('logs', 'ae_logs')\n",
    "num_of_runs = len(os.listdir(path)) if os.path.exists(path) else 0\n",
    "path = os.path.join(path, f'run_{num_of_runs + 1}')\n",
    "tb_logger = SummaryWriter(path)\n",
    "\n",
    "# Train the classifier.\n",
    "unlabled_train_loader = torch.utils.data.DataLoader(unlabeled_train, batch_size=hparams['batch_size'], shuffle=True)\n",
    "unlabled_val_loader = torch.utils.data.DataLoader(unlabeled_val, batch_size=hparams['batch_size'], shuffle=False)\n",
    "\n",
    "epochs = hparams.get('epochs', 5)\n",
    "loss_func = nn.MSELoss() # The loss function we use for regression (Could also be nn.L1Loss()).\n",
    "train_model(autoencoder, unlabled_train_loader, unlabled_val_loader, loss_func, tb_logger, epochs=epochs, name='Autoencoder')\n",
    "\n",
    "print(\"Finished training!\")"
   ]
  },
  {
   "attachments": {},
   "cell_type": "markdown",
   "metadata": {
    "id": "vdgiYWy4MNkq"
   },
   "source": [
    "Once trained, let's have a look at the reconstructed validation images (If you have not already looked at them in TensorBoard)."
   ]
  },
  {
   "cell_type": "code",
   "execution_count": 15,
   "metadata": {
    "id": "a991mKcyMNkq"
   },
   "outputs": [
    {
     "name": "stderr",
     "output_type": "stream",
     "text": [
      "/tmp/ipykernel_3177174/1129772191.py:7: UserWarning: tight_layout not applied: number of columns in subplot specifications must be multiples of one another.\n",
      "  plt.tight_layout()\n"
     ]
    }
   ],
   "source": [
    "reconstructions = autoencoder.getReconstructions(unlabled_val_loader)\n",
    "for i in range(64):\n",
    "    plt.subplot(8,8,i+1)\n",
    "    plt.axis('off')\n",
    "    plt.imshow(reconstructions[i], cmap='gray', interpolation='none')\n",
    "    \n",
    "plt.tight_layout()"
   ]
  },
  {
   "attachments": {},
   "cell_type": "markdown",
   "metadata": {
    "id": "R2hrP5b1MNkr"
   },
   "source": [
    "# 4. Transfer Learning\n",
    "\n",
    "## 4.1 The pretrained Classifier\n",
    "\n",
    "Now we initialize another classifier but this time with the pretrained encoder."
   ]
  },
  {
   "cell_type": "code",
   "execution_count": 16,
   "metadata": {
    "id": "OELYQAUmMNkr"
   },
   "outputs": [],
   "source": [
    "from exercise_code.models import Classifier\n",
    "from copy import deepcopy\n",
    "\n",
    "# Define your hyper parameters\n",
    "hparams = {\n",
    "    \"batch_size\": 256,\n",
    "    \"n_hidden\": 1024,\n",
    "    \"latent_dim\" : 20,\n",
    "    \"learning_rate\" : 1e-2, \n",
    "    \"weight_decay\" : 1e-5,\n",
    "    \"epochs\": 100,\n",
    "    \"num_classes\" : 10,\n",
    "    \"device\" : device\n",
    "}\n",
    "\n",
    "encoder_pretrained_copy = deepcopy(encoder_pretrained)\n",
    "classifier_pretrained = Classifier(hparams, encoder_pretrained_copy).to(device)"
   ]
  },
  {
   "attachments": {},
   "cell_type": "markdown",
   "metadata": {
    "id": "R8FUtih6MNks"
   },
   "source": [
    "Let's define another trainer that will utilize the pretrained classifier, allowing us to compare its performance with the classifier trained only on the labeled data. To achieve a reasonable result, you may need to optimize the parameters you defined earlier."
   ]
  },
  {
   "cell_type": "code",
   "execution_count": 17,
   "metadata": {
    "id": "Mx_euorWMNks"
   },
   "outputs": [
    {
     "name": "stderr",
     "output_type": "stream",
     "text": [
      "Training Epoch [1/100]: 100%|██████████████████████████████████████████| 1/1 [00:00<00:00,  8.83it/s, curr_train_loss=2.29677868, val_loss=0.00000000]\n",
      "Validation Epoch [1/100]: 100%|████████████████████████████████████████████████████████████████████| 1/1 [00:00<00:00,  9.18it/s, val_loss=2.24372840]\n",
      "Training Epoch [2/100]: 100%|██████████████████████████████████████████| 1/1 [00:00<00:00,  8.94it/s, curr_train_loss=2.17391682, val_loss=2.24372840]\n",
      "Validation Epoch [2/100]: 100%|████████████████████████████████████████████████████████████████████| 1/1 [00:00<00:00,  9.41it/s, val_loss=2.17734933]\n",
      "Training Epoch [3/100]: 100%|██████████████████████████████████████████| 1/1 [00:00<00:00,  8.91it/s, curr_train_loss=2.07711506, val_loss=2.17734933]\n",
      "Validation Epoch [3/100]: 100%|████████████████████████████████████████████████████████████████████| 1/1 [00:00<00:00,  9.20it/s, val_loss=2.11194134]\n",
      "Training Epoch [4/100]: 100%|██████████████████████████████████████████| 1/1 [00:00<00:00,  8.89it/s, curr_train_loss=1.97708738, val_loss=2.11194134]\n",
      "Validation Epoch [4/100]: 100%|████████████████████████████████████████████████████████████████████| 1/1 [00:00<00:00,  9.20it/s, val_loss=2.04431963]\n",
      "Training Epoch [5/100]: 100%|██████████████████████████████████████████| 1/1 [00:00<00:00,  9.13it/s, curr_train_loss=1.86499083, val_loss=2.04431963]\n",
      "Validation Epoch [5/100]: 100%|████████████████████████████████████████████████████████████████████| 1/1 [00:00<00:00,  9.11it/s, val_loss=1.97138989]\n",
      "Training Epoch [6/100]: 100%|██████████████████████████████████████████| 1/1 [00:00<00:00,  8.85it/s, curr_train_loss=1.73986387, val_loss=1.97138989]\n",
      "Validation Epoch [6/100]: 100%|████████████████████████████████████████████████████████████████████| 1/1 [00:00<00:00,  9.23it/s, val_loss=1.89659595]\n",
      "Training Epoch [7/100]: 100%|██████████████████████████████████████████| 1/1 [00:00<00:00,  8.89it/s, curr_train_loss=1.60210633, val_loss=1.89659595]\n",
      "Validation Epoch [7/100]: 100%|████████████████████████████████████████████████████████████████████| 1/1 [00:00<00:00,  9.39it/s, val_loss=1.82135046]\n",
      "Training Epoch [8/100]: 100%|██████████████████████████████████████████| 1/1 [00:00<00:00,  8.93it/s, curr_train_loss=1.45246994, val_loss=1.82135046]\n",
      "Validation Epoch [8/100]: 100%|████████████████████████████████████████████████████████████████████| 1/1 [00:00<00:00,  9.30it/s, val_loss=1.74713421]\n",
      "Training Epoch [9/100]: 100%|██████████████████████████████████████████| 1/1 [00:00<00:00,  8.83it/s, curr_train_loss=1.29225373, val_loss=1.74713421]\n",
      "Validation Epoch [9/100]: 100%|████████████████████████████████████████████████████████████████████| 1/1 [00:00<00:00,  9.23it/s, val_loss=1.67338836]\n",
      "Training Epoch [10/100]: 100%|█████████████████████████████████████████| 1/1 [00:00<00:00,  9.11it/s, curr_train_loss=1.12674069, val_loss=1.67338836]\n",
      "Validation Epoch [10/100]: 100%|███████████████████████████████████████████████████████████████████| 1/1 [00:00<00:00,  9.19it/s, val_loss=1.59694219]\n",
      "Training Epoch [11/100]: 100%|█████████████████████████████████████████| 1/1 [00:00<00:00,  9.08it/s, curr_train_loss=0.95887482, val_loss=1.59694219]\n",
      "Validation Epoch [11/100]: 100%|███████████████████████████████████████████████████████████████████| 1/1 [00:00<00:00,  9.05it/s, val_loss=1.51420772]\n",
      "Training Epoch [12/100]: 100%|█████████████████████████████████████████| 1/1 [00:00<00:00,  8.86it/s, curr_train_loss=0.79490644, val_loss=1.51420772]\n",
      "Validation Epoch [12/100]: 100%|███████████████████████████████████████████████████████████████████| 1/1 [00:00<00:00,  9.26it/s, val_loss=1.43433392]\n",
      "Training Epoch [13/100]: 100%|█████████████████████████████████████████| 1/1 [00:00<00:00,  8.92it/s, curr_train_loss=0.63953131, val_loss=1.43433392]\n",
      "Validation Epoch [13/100]: 100%|███████████████████████████████████████████████████████████████████| 1/1 [00:00<00:00,  9.19it/s, val_loss=1.36163604]\n",
      "Training Epoch [14/100]: 100%|█████████████████████████████████████████| 1/1 [00:00<00:00,  8.97it/s, curr_train_loss=0.49789864, val_loss=1.36163604]\n",
      "Validation Epoch [14/100]: 100%|███████████████████████████████████████████████████████████████████| 1/1 [00:00<00:00,  9.37it/s, val_loss=1.29803836]\n",
      "Training Epoch [15/100]: 100%|█████████████████████████████████████████| 1/1 [00:00<00:00,  8.84it/s, curr_train_loss=0.37462848, val_loss=1.29803836]\n",
      "Validation Epoch [15/100]: 100%|███████████████████████████████████████████████████████████████████| 1/1 [00:00<00:00,  9.08it/s, val_loss=1.24484408]\n",
      "Training Epoch [16/100]: 100%|█████████████████████████████████████████| 1/1 [00:00<00:00,  8.81it/s, curr_train_loss=0.27262199, val_loss=1.24484408]\n",
      "Validation Epoch [16/100]: 100%|███████████████████████████████████████████████████████████████████| 1/1 [00:00<00:00,  9.38it/s, val_loss=1.21834028]\n",
      "Training Epoch [17/100]: 100%|█████████████████████████████████████████| 1/1 [00:00<00:00,  8.96it/s, curr_train_loss=0.19339484, val_loss=1.21834028]\n",
      "Validation Epoch [17/100]: 100%|███████████████████████████████████████████████████████████████████| 1/1 [00:00<00:00,  9.11it/s, val_loss=1.21290791]\n",
      "Training Epoch [18/100]: 100%|█████████████████████████████████████████| 1/1 [00:00<00:00,  9.10it/s, curr_train_loss=0.13549107, val_loss=1.21290791]\n",
      "Validation Epoch [18/100]: 100%|███████████████████████████████████████████████████████████████████| 1/1 [00:00<00:00,  9.23it/s, val_loss=1.21449053]\n",
      "Training Epoch [19/100]: 100%|█████████████████████████████████████████| 1/1 [00:00<00:00,  9.07it/s, curr_train_loss=0.09449591, val_loss=1.21449053]\n",
      "Validation Epoch [19/100]: 100%|███████████████████████████████████████████████████████████████████| 1/1 [00:00<00:00,  9.14it/s, val_loss=1.21340668]\n",
      "Training Epoch [20/100]: 100%|█████████████████████████████████████████| 1/1 [00:00<00:00,  8.97it/s, curr_train_loss=0.06530509, val_loss=1.21340668]\n",
      "Validation Epoch [20/100]: 100%|███████████████████████████████████████████████████████████████████| 1/1 [00:00<00:00,  9.08it/s, val_loss=1.20318925]\n",
      "Training Epoch [21/100]: 100%|█████████████████████████████████████████| 1/1 [00:00<00:00,  8.91it/s, curr_train_loss=0.04395243, val_loss=1.20318925]\n",
      "Validation Epoch [21/100]: 100%|███████████████████████████████████████████████████████████████████| 1/1 [00:00<00:00,  9.40it/s, val_loss=1.18566775]\n",
      "Training Epoch [22/100]: 100%|█████████████████████████████████████████| 1/1 [00:00<00:00,  8.95it/s, curr_train_loss=0.02842600, val_loss=1.18566775]\n",
      "Validation Epoch [22/100]: 100%|███████████████████████████████████████████████████████████████████| 1/1 [00:00<00:00,  9.30it/s, val_loss=1.17782438]\n",
      "Training Epoch [23/100]: 100%|█████████████████████████████████████████| 1/1 [00:00<00:00,  8.97it/s, curr_train_loss=0.01775979, val_loss=1.17782438]\n",
      "Validation Epoch [23/100]: 100%|███████████████████████████████████████████████████████████████████| 1/1 [00:00<00:00,  9.22it/s, val_loss=1.17956817]\n",
      "Training Epoch [24/100]: 100%|█████████████████████████████████████████| 1/1 [00:00<00:00,  9.11it/s, curr_train_loss=0.01097226, val_loss=1.17956817]\n",
      "Validation Epoch [24/100]: 100%|███████████████████████████████████████████████████████████████████| 1/1 [00:00<00:00,  9.20it/s, val_loss=1.18945742]\n",
      "Training Epoch [25/100]: 100%|█████████████████████████████████████████| 1/1 [00:00<00:00,  8.89it/s, curr_train_loss=0.00687169, val_loss=1.18945742]\n",
      "Validation Epoch [25/100]: 100%|███████████████████████████████████████████████████████████████████| 1/1 [00:00<00:00,  9.37it/s, val_loss=1.20286489]\n",
      "Training Epoch [26/100]: 100%|█████████████████████████████████████████| 1/1 [00:00<00:00,  8.81it/s, curr_train_loss=0.00444062, val_loss=1.20286489]\n",
      "Validation Epoch [26/100]: 100%|███████████████████████████████████████████████████████████████████| 1/1 [00:00<00:00,  9.16it/s, val_loss=1.21802044]\n",
      "Training Epoch [27/100]: 100%|█████████████████████████████████████████| 1/1 [00:00<00:00,  8.87it/s, curr_train_loss=0.00298814, val_loss=1.21802044]\n",
      "Validation Epoch [27/100]: 100%|███████████████████████████████████████████████████████████████████| 1/1 [00:00<00:00,  9.21it/s, val_loss=1.23375118]\n",
      "Training Epoch [28/100]: 100%|█████████████████████████████████████████| 1/1 [00:00<00:00,  9.06it/s, curr_train_loss=0.00209250, val_loss=1.23375118]\n",
      "Validation Epoch [28/100]: 100%|███████████████████████████████████████████████████████████████████| 1/1 [00:00<00:00,  9.22it/s, val_loss=1.24771440]\n",
      "Training Epoch [29/100]: 100%|█████████████████████████████████████████| 1/1 [00:00<00:00,  9.10it/s, curr_train_loss=0.00151824, val_loss=1.24771440]\n",
      "Validation Epoch [29/100]: 100%|███████████████████████████████████████████████████████████████████| 1/1 [00:00<00:00,  9.09it/s, val_loss=1.25921810]\n",
      "Training Epoch [30/100]: 100%|█████████████████████████████████████████| 1/1 [00:00<00:00,  8.93it/s, curr_train_loss=0.00113551, val_loss=1.25921810]\n",
      "Validation Epoch [30/100]: 100%|███████████████████████████████████████████████████████████████████| 1/1 [00:00<00:00,  9.19it/s, val_loss=1.26925659]\n",
      "Training Epoch [31/100]: 100%|█████████████████████████████████████████| 1/1 [00:00<00:00,  8.94it/s, curr_train_loss=0.00087145, val_loss=1.26925659]\n",
      "Validation Epoch [31/100]: 100%|███████████████████████████████████████████████████████████████████| 1/1 [00:00<00:00,  9.38it/s, val_loss=1.27945220]\n",
      "Training Epoch [32/100]: 100%|█████████████████████████████████████████| 1/1 [00:00<00:00,  8.93it/s, curr_train_loss=0.00068404, val_loss=1.27945220]\n",
      "Validation Epoch [32/100]: 100%|███████████████████████████████████████████████████████████████████| 1/1 [00:00<00:00,  9.25it/s, val_loss=1.28886235]\n",
      "Training Epoch [33/100]: 100%|█████████████████████████████████████████| 1/1 [00:00<00:00,  9.11it/s, curr_train_loss=0.00054725, val_loss=1.28886235]\n",
      "Validation Epoch [33/100]: 100%|███████████████████████████████████████████████████████████████████| 1/1 [00:00<00:00,  9.09it/s, val_loss=1.29709685]\n",
      "Training Epoch [34/100]: 100%|█████████████████████████████████████████| 1/1 [00:00<00:00,  9.06it/s, curr_train_loss=0.00044514, val_loss=1.29709685]\n",
      "Validation Epoch [34/100]: 100%|███████████████████████████████████████████████████████████████████| 1/1 [00:00<00:00,  9.09it/s, val_loss=1.30468321]\n",
      "Training Epoch [35/100]: 100%|█████████████████████████████████████████| 1/1 [00:00<00:00,  8.87it/s, curr_train_loss=0.00036745, val_loss=1.30468321]\n",
      "Validation Epoch [35/100]: 100%|███████████████████████████████████████████████████████████████████| 1/1 [00:00<00:00,  9.21it/s, val_loss=1.31151783]\n",
      "Training Epoch [36/100]: 100%|█████████████████████████████████████████| 1/1 [00:00<00:00,  8.88it/s, curr_train_loss=0.00030747, val_loss=1.31151783]\n",
      "Validation Epoch [36/100]: 100%|███████████████████████████████████████████████████████████████████| 1/1 [00:00<00:00,  9.36it/s, val_loss=1.31654918]\n",
      "Training Epoch [37/100]: 100%|█████████████████████████████████████████| 1/1 [00:00<00:00,  8.92it/s, curr_train_loss=0.00026059, val_loss=1.31654918]\n",
      "Validation Epoch [37/100]: 100%|███████████████████████████████████████████████████████████████████| 1/1 [00:00<00:00,  9.35it/s, val_loss=1.32004881]\n",
      "Training Epoch [38/100]: 100%|█████████████████████████████████████████| 1/1 [00:00<00:00,  8.88it/s, curr_train_loss=0.00022343, val_loss=1.32004881]\n",
      "Validation Epoch [38/100]: 100%|███████████████████████████████████████████████████████████████████| 1/1 [00:00<00:00,  9.33it/s, val_loss=1.32288027]\n",
      "Training Epoch [39/100]: 100%|█████████████████████████████████████████| 1/1 [00:00<00:00,  8.80it/s, curr_train_loss=0.00019378, val_loss=1.32288027]\n",
      "Validation Epoch [39/100]: 100%|███████████████████████████████████████████████████████████████████| 1/1 [00:00<00:00,  9.35it/s, val_loss=1.32531011]\n",
      "Training Epoch [40/100]: 100%|█████████████████████████████████████████| 1/1 [00:00<00:00,  8.92it/s, curr_train_loss=0.00016984, val_loss=1.32531011]\n",
      "Validation Epoch [40/100]: 100%|███████████████████████████████████████████████████████████████████| 1/1 [00:00<00:00,  9.37it/s, val_loss=1.32779574]\n",
      "Training Epoch [41/100]: 100%|█████████████████████████████████████████| 1/1 [00:00<00:00,  8.90it/s, curr_train_loss=0.00015028, val_loss=1.32779574]\n",
      "Validation Epoch [41/100]: 100%|███████████████████████████████████████████████████████████████████| 1/1 [00:00<00:00,  9.35it/s, val_loss=1.32955778]\n",
      "Training Epoch [42/100]: 100%|█████████████████████████████████████████| 1/1 [00:00<00:00,  8.88it/s, curr_train_loss=0.00013418, val_loss=1.32955778]\n",
      "Validation Epoch [42/100]: 100%|███████████████████████████████████████████████████████████████████| 1/1 [00:00<00:00,  9.12it/s, val_loss=1.33080339]\n",
      "Training Epoch [43/100]: 100%|█████████████████████████████████████████| 1/1 [00:00<00:00,  9.08it/s, curr_train_loss=0.00012081, val_loss=1.33080339]\n",
      "Validation Epoch [43/100]: 100%|███████████████████████████████████████████████████████████████████| 1/1 [00:00<00:00,  9.20it/s, val_loss=1.33169079]\n",
      "Training Epoch [44/100]: 100%|█████████████████████████████████████████| 1/1 [00:00<00:00,  9.03it/s, curr_train_loss=0.00010962, val_loss=1.33169079]\n",
      "Validation Epoch [44/100]: 100%|███████████████████████████████████████████████████████████████████| 1/1 [00:00<00:00,  9.07it/s, val_loss=1.33225834]\n",
      "Training Epoch [45/100]: 100%|█████████████████████████████████████████| 1/1 [00:00<00:00,  9.12it/s, curr_train_loss=0.00010017, val_loss=1.33225834]\n",
      "Validation Epoch [45/100]: 100%|███████████████████████████████████████████████████████████████████| 1/1 [00:00<00:00,  9.20it/s, val_loss=1.33273625]\n",
      "Training Epoch [46/100]: 100%|█████████████████████████████████████████| 1/1 [00:00<00:00,  9.10it/s, curr_train_loss=0.00009215, val_loss=1.33273625]\n",
      "Validation Epoch [46/100]: 100%|███████████████████████████████████████████████████████████████████| 1/1 [00:00<00:00,  9.16it/s, val_loss=1.33293629]\n",
      "Training Epoch [47/100]: 100%|█████████████████████████████████████████| 1/1 [00:00<00:00,  9.11it/s, curr_train_loss=0.00008526, val_loss=1.33293629]\n",
      "Validation Epoch [47/100]: 100%|███████████████████████████████████████████████████████████████████| 1/1 [00:00<00:00,  9.22it/s, val_loss=1.33259320]\n",
      "Training Epoch [48/100]: 100%|█████████████████████████████████████████| 1/1 [00:00<00:00,  9.03it/s, curr_train_loss=0.00007935, val_loss=1.33259320]\n",
      "Validation Epoch [48/100]: 100%|███████████████████████████████████████████████████████████████████| 1/1 [00:00<00:00,  9.13it/s, val_loss=1.33160186]\n",
      "Training Epoch [49/100]: 100%|█████████████████████████████████████████| 1/1 [00:00<00:00,  8.85it/s, curr_train_loss=0.00007423, val_loss=1.33160186]\n",
      "Validation Epoch [49/100]: 100%|███████████████████████████████████████████████████████████████████| 1/1 [00:00<00:00,  9.14it/s, val_loss=1.33063304]\n",
      "Training Epoch [50/100]: 100%|█████████████████████████████████████████| 1/1 [00:00<00:00,  8.91it/s, curr_train_loss=0.00006980, val_loss=1.33063304]\n",
      "Validation Epoch [50/100]: 100%|███████████████████████████████████████████████████████████████████| 1/1 [00:00<00:00,  9.13it/s, val_loss=1.32944858]\n",
      "Training Epoch [51/100]: 100%|█████████████████████████████████████████| 1/1 [00:00<00:00,  8.84it/s, curr_train_loss=0.00006592, val_loss=1.32944858]\n",
      "Validation Epoch [51/100]: 100%|███████████████████████████████████████████████████████████████████| 1/1 [00:00<00:00,  9.10it/s, val_loss=1.32825756]\n",
      "Training Epoch [52/100]: 100%|█████████████████████████████████████████| 1/1 [00:00<00:00,  8.93it/s, curr_train_loss=0.00006250, val_loss=1.32825756]\n",
      "Validation Epoch [52/100]: 100%|███████████████████████████████████████████████████████████████████| 1/1 [00:00<00:00,  9.02it/s, val_loss=1.32706130]\n",
      "Training Epoch [53/100]: 100%|█████████████████████████████████████████| 1/1 [00:00<00:00,  8.81it/s, curr_train_loss=0.00005951, val_loss=1.32706130]\n",
      "Validation Epoch [53/100]: 100%|███████████████████████████████████████████████████████████████████| 1/1 [00:00<00:00,  9.36it/s, val_loss=1.32586396]\n",
      "Training Epoch [54/100]: 100%|█████████████████████████████████████████| 1/1 [00:00<00:00,  8.90it/s, curr_train_loss=0.00005685, val_loss=1.32586396]\n",
      "Validation Epoch [54/100]: 100%|███████████████████████████████████████████████████████████████████| 1/1 [00:00<00:00,  9.34it/s, val_loss=1.32464993]\n",
      "Training Epoch [55/100]: 100%|█████████████████████████████████████████| 1/1 [00:00<00:00,  8.90it/s, curr_train_loss=0.00005451, val_loss=1.32464993]\n",
      "Validation Epoch [55/100]: 100%|███████████████████████████████████████████████████████████████████| 1/1 [00:00<00:00,  9.40it/s, val_loss=1.32339764]\n",
      "Training Epoch [56/100]: 100%|█████████████████████████████████████████| 1/1 [00:00<00:00,  8.95it/s, curr_train_loss=0.00005242, val_loss=1.32339764]\n",
      "Validation Epoch [56/100]: 100%|███████████████████████████████████████████████████████████████████| 1/1 [00:00<00:00,  9.09it/s, val_loss=1.32213926]\n",
      "Training Epoch [57/100]: 100%|█████████████████████████████████████████| 1/1 [00:00<00:00,  8.96it/s, curr_train_loss=0.00005053, val_loss=1.32213926]\n",
      "Validation Epoch [57/100]: 100%|███████████████████████████████████████████████████████████████████| 1/1 [00:00<00:00,  9.18it/s, val_loss=1.32093227]\n",
      "Training Epoch [58/100]: 100%|█████████████████████████████████████████| 1/1 [00:00<00:00,  9.19it/s, curr_train_loss=0.00004887, val_loss=1.32093227]\n",
      "Validation Epoch [58/100]: 100%|███████████████████████████████████████████████████████████████████| 1/1 [00:00<00:00,  9.21it/s, val_loss=1.31983137]\n",
      "Training Epoch [59/100]: 100%|█████████████████████████████████████████| 1/1 [00:00<00:00,  9.09it/s, curr_train_loss=0.00004736, val_loss=1.31983137]\n",
      "Validation Epoch [59/100]: 100%|███████████████████████████████████████████████████████████████████| 1/1 [00:00<00:00,  9.05it/s, val_loss=1.31882441]\n",
      "Training Epoch [60/100]: 100%|█████████████████████████████████████████| 1/1 [00:00<00:00,  9.04it/s, curr_train_loss=0.00004600, val_loss=1.31882441]\n",
      "Validation Epoch [60/100]: 100%|███████████████████████████████████████████████████████████████████| 1/1 [00:00<00:00,  9.20it/s, val_loss=1.31790757]\n",
      "Training Epoch [61/100]: 100%|█████████████████████████████████████████| 1/1 [00:00<00:00,  9.12it/s, curr_train_loss=0.00004477, val_loss=1.31790757]\n",
      "Validation Epoch [61/100]: 100%|███████████████████████████████████████████████████████████████████| 1/1 [00:00<00:00,  9.10it/s, val_loss=1.31703353]\n",
      "Training Epoch [62/100]: 100%|█████████████████████████████████████████| 1/1 [00:00<00:00,  8.98it/s, curr_train_loss=0.00004366, val_loss=1.31703353]\n",
      "Validation Epoch [62/100]: 100%|███████████████████████████████████████████████████████████████████| 1/1 [00:00<00:00,  9.16it/s, val_loss=1.31612015]\n",
      "Training Epoch [63/100]: 100%|█████████████████████████████████████████| 1/1 [00:00<00:00,  8.88it/s, curr_train_loss=0.00004263, val_loss=1.31612015]\n",
      "Validation Epoch [63/100]: 100%|███████████████████████████████████████████████████████████████████| 1/1 [00:00<00:00,  9.38it/s, val_loss=1.31517458]\n",
      "Training Epoch [64/100]: 100%|█████████████████████████████████████████| 1/1 [00:00<00:00,  8.90it/s, curr_train_loss=0.00004170, val_loss=1.31517458]\n",
      "Validation Epoch [64/100]: 100%|███████████████████████████████████████████████████████████████████| 1/1 [00:00<00:00,  9.36it/s, val_loss=1.31421781]\n",
      "Training Epoch [65/100]: 100%|█████████████████████████████████████████| 1/1 [00:00<00:00,  8.95it/s, curr_train_loss=0.00004086, val_loss=1.31421781]\n",
      "Validation Epoch [65/100]: 100%|███████████████████████████████████████████████████████████████████| 1/1 [00:00<00:00,  9.12it/s, val_loss=1.31326115]\n",
      "Training Epoch [66/100]: 100%|█████████████████████████████████████████| 1/1 [00:00<00:00,  9.06it/s, curr_train_loss=0.00004009, val_loss=1.31326115]\n",
      "Validation Epoch [66/100]: 100%|███████████████████████████████████████████████████████████████████| 1/1 [00:00<00:00,  9.18it/s, val_loss=1.31242251]\n",
      "Training Epoch [67/100]: 100%|█████████████████████████████████████████| 1/1 [00:00<00:00,  8.91it/s, curr_train_loss=0.00003938, val_loss=1.31242251]\n",
      "Validation Epoch [67/100]: 100%|███████████████████████████████████████████████████████████████████| 1/1 [00:00<00:00,  9.07it/s, val_loss=1.31137431]\n",
      "Training Epoch [68/100]: 100%|█████████████████████████████████████████| 1/1 [00:00<00:00,  8.85it/s, curr_train_loss=0.00003873, val_loss=1.31137431]\n",
      "Validation Epoch [68/100]: 100%|███████████████████████████████████████████████████████████████████| 1/1 [00:00<00:00,  9.36it/s, val_loss=1.31009305]\n",
      "Training Epoch [69/100]: 100%|█████████████████████████████████████████| 1/1 [00:00<00:00,  8.98it/s, curr_train_loss=0.00003811, val_loss=1.31009305]\n",
      "Validation Epoch [69/100]: 100%|███████████████████████████████████████████████████████████████████| 1/1 [00:00<00:00,  9.14it/s, val_loss=1.30877101]\n",
      "Training Epoch [70/100]: 100%|█████████████████████████████████████████| 1/1 [00:00<00:00,  8.84it/s, curr_train_loss=0.00003756, val_loss=1.30877101]\n",
      "Validation Epoch [70/100]: 100%|███████████████████████████████████████████████████████████████████| 1/1 [00:00<00:00,  9.11it/s, val_loss=1.30723536]\n",
      "Training Epoch [71/100]: 100%|█████████████████████████████████████████| 1/1 [00:00<00:00,  9.08it/s, curr_train_loss=0.00003704, val_loss=1.30723536]\n",
      "Validation Epoch [71/100]: 100%|███████████████████████████████████████████████████████████████████| 1/1 [00:00<00:00,  9.24it/s, val_loss=1.30563664]\n",
      "Training Epoch [72/100]: 100%|█████████████████████████████████████████| 1/1 [00:00<00:00,  9.08it/s, curr_train_loss=0.00003656, val_loss=1.30563664]\n",
      "Validation Epoch [72/100]: 100%|███████████████████████████████████████████████████████████████████| 1/1 [00:00<00:00,  9.08it/s, val_loss=1.30414355]\n",
      "Training Epoch [73/100]: 100%|█████████████████████████████████████████| 1/1 [00:00<00:00,  9.06it/s, curr_train_loss=0.00003611, val_loss=1.30414355]\n",
      "Validation Epoch [73/100]: 100%|███████████████████████████████████████████████████████████████████| 1/1 [00:00<00:00,  9.20it/s, val_loss=1.30330372]\n",
      "Training Epoch [74/100]: 100%|█████████████████████████████████████████| 1/1 [00:00<00:00,  8.92it/s, curr_train_loss=0.00003569, val_loss=1.30330372]\n",
      "Validation Epoch [74/100]: 100%|███████████████████████████████████████████████████████████████████| 1/1 [00:00<00:00,  9.12it/s, val_loss=1.30285358]\n",
      "Training Epoch [75/100]: 100%|█████████████████████████████████████████| 1/1 [00:00<00:00,  8.93it/s, curr_train_loss=0.00003532, val_loss=1.30285358]\n",
      "Validation Epoch [75/100]: 100%|███████████████████████████████████████████████████████████████████| 1/1 [00:00<00:00,  9.43it/s, val_loss=1.30253530]\n",
      "Training Epoch [76/100]: 100%|█████████████████████████████████████████| 1/1 [00:00<00:00,  8.83it/s, curr_train_loss=0.00003497, val_loss=1.30253530]\n",
      "Validation Epoch [76/100]: 100%|███████████████████████████████████████████████████████████████████| 1/1 [00:00<00:00,  9.40it/s, val_loss=1.30243313]\n",
      "Training Epoch [77/100]: 100%|█████████████████████████████████████████| 1/1 [00:00<00:00,  9.06it/s, curr_train_loss=0.00003463, val_loss=1.30243313]\n",
      "Validation Epoch [77/100]: 100%|███████████████████████████████████████████████████████████████████| 1/1 [00:00<00:00,  9.24it/s, val_loss=1.30239046]\n",
      "Training Epoch [78/100]: 100%|█████████████████████████████████████████| 1/1 [00:00<00:00,  8.79it/s, curr_train_loss=0.00003433, val_loss=1.30239046]\n",
      "Validation Epoch [78/100]: 100%|███████████████████████████████████████████████████████████████████| 1/1 [00:00<00:00,  9.34it/s, val_loss=1.30230212]\n",
      "Training Epoch [79/100]: 100%|█████████████████████████████████████████| 1/1 [00:00<00:00,  8.86it/s, curr_train_loss=0.00003403, val_loss=1.30230212]\n",
      "Validation Epoch [79/100]: 100%|███████████████████████████████████████████████████████████████████| 1/1 [00:00<00:00,  9.30it/s, val_loss=1.30210769]\n",
      "Training Epoch [80/100]: 100%|█████████████████████████████████████████| 1/1 [00:00<00:00,  8.87it/s, curr_train_loss=0.00003376, val_loss=1.30210769]\n",
      "Validation Epoch [80/100]: 100%|███████████████████████████████████████████████████████████████████| 1/1 [00:00<00:00,  9.33it/s, val_loss=1.30183899]\n",
      "Training Epoch [81/100]: 100%|█████████████████████████████████████████| 1/1 [00:00<00:00,  8.83it/s, curr_train_loss=0.00003351, val_loss=1.30183899]\n",
      "Validation Epoch [81/100]: 100%|███████████████████████████████████████████████████████████████████| 1/1 [00:00<00:00,  9.32it/s, val_loss=1.30147982]\n",
      "Training Epoch [82/100]: 100%|█████████████████████████████████████████| 1/1 [00:00<00:00,  8.91it/s, curr_train_loss=0.00003325, val_loss=1.30147982]\n",
      "Validation Epoch [82/100]: 100%|███████████████████████████████████████████████████████████████████| 1/1 [00:00<00:00,  9.03it/s, val_loss=1.30116558]\n",
      "Training Epoch [83/100]: 100%|█████████████████████████████████████████| 1/1 [00:00<00:00,  9.09it/s, curr_train_loss=0.00003301, val_loss=1.30116558]\n",
      "Validation Epoch [83/100]: 100%|███████████████████████████████████████████████████████████████████| 1/1 [00:00<00:00,  9.21it/s, val_loss=1.30092037]\n",
      "Training Epoch [84/100]: 100%|█████████████████████████████████████████| 1/1 [00:00<00:00,  9.06it/s, curr_train_loss=0.00003279, val_loss=1.30092037]\n",
      "Validation Epoch [84/100]: 100%|███████████████████████████████████████████████████████████████████| 1/1 [00:00<00:00,  9.07it/s, val_loss=1.30073178]\n",
      "Training Epoch [85/100]: 100%|█████████████████████████████████████████| 1/1 [00:00<00:00,  9.15it/s, curr_train_loss=0.00003259, val_loss=1.30073178]\n",
      "Validation Epoch [85/100]: 100%|███████████████████████████████████████████████████████████████████| 1/1 [00:00<00:00,  9.18it/s, val_loss=1.30056155]\n",
      "Training Epoch [86/100]: 100%|█████████████████████████████████████████| 1/1 [00:00<00:00,  8.82it/s, curr_train_loss=0.00003238, val_loss=1.30056155]\n",
      "Validation Epoch [86/100]: 100%|███████████████████████████████████████████████████████████████████| 1/1 [00:00<00:00,  9.09it/s, val_loss=1.30044389]\n",
      "Training Epoch [87/100]: 100%|█████████████████████████████████████████| 1/1 [00:00<00:00,  8.86it/s, curr_train_loss=0.00003218, val_loss=1.30044389]\n",
      "Validation Epoch [87/100]: 100%|███████████████████████████████████████████████████████████████████| 1/1 [00:00<00:00,  9.41it/s, val_loss=1.30036986]\n",
      "Training Epoch [88/100]: 100%|█████████████████████████████████████████| 1/1 [00:00<00:00,  8.88it/s, curr_train_loss=0.00003199, val_loss=1.30036986]\n",
      "Validation Epoch [88/100]: 100%|███████████████████████████████████████████████████████████████████| 1/1 [00:00<00:00,  9.06it/s, val_loss=1.30036223]\n",
      "Training Epoch [89/100]: 100%|█████████████████████████████████████████| 1/1 [00:00<00:00,  8.86it/s, curr_train_loss=0.00003181, val_loss=1.30036223]\n",
      "Validation Epoch [89/100]: 100%|███████████████████████████████████████████████████████████████████| 1/1 [00:00<00:00,  9.05it/s, val_loss=1.30046880]\n",
      "Training Epoch [90/100]: 100%|█████████████████████████████████████████| 1/1 [00:00<00:00,  9.10it/s, curr_train_loss=0.00003163, val_loss=1.30046880]\n",
      "Validation Epoch [90/100]: 100%|███████████████████████████████████████████████████████████████████| 1/1 [00:00<00:00,  9.13it/s, val_loss=1.30082309]\n",
      "Training Epoch [91/100]: 100%|█████████████████████████████████████████| 1/1 [00:00<00:00,  8.89it/s, curr_train_loss=0.00003147, val_loss=1.30082309]\n",
      "Validation Epoch [91/100]: 100%|███████████████████████████████████████████████████████████████████| 1/1 [00:00<00:00,  9.08it/s, val_loss=1.30125582]\n",
      "Training Epoch [92/100]: 100%|█████████████████████████████████████████| 1/1 [00:00<00:00,  8.82it/s, curr_train_loss=0.00003131, val_loss=1.30125582]\n",
      "Validation Epoch [92/100]: 100%|███████████████████████████████████████████████████████████████████| 1/1 [00:00<00:00,  9.34it/s, val_loss=1.30176890]\n",
      "Training Epoch [93/100]: 100%|█████████████████████████████████████████| 1/1 [00:00<00:00,  8.83it/s, curr_train_loss=0.00003115, val_loss=1.30176890]\n",
      "Validation Epoch [93/100]: 100%|███████████████████████████████████████████████████████████████████| 1/1 [00:00<00:00,  9.30it/s, val_loss=1.30241513]\n",
      "Training Epoch [94/100]: 100%|█████████████████████████████████████████| 1/1 [00:00<00:00,  8.75it/s, curr_train_loss=0.00003100, val_loss=1.30241513]\n",
      "Validation Epoch [94/100]: 100%|███████████████████████████████████████████████████████████████████| 1/1 [00:00<00:00,  9.33it/s, val_loss=1.30326629]\n",
      "Training Epoch [95/100]: 100%|█████████████████████████████████████████| 1/1 [00:00<00:00,  8.92it/s, curr_train_loss=0.00003086, val_loss=1.30326629]\n",
      "Validation Epoch [95/100]: 100%|███████████████████████████████████████████████████████████████████| 1/1 [00:00<00:00,  9.37it/s, val_loss=1.30413556]\n",
      "Training Epoch [96/100]: 100%|█████████████████████████████████████████| 1/1 [00:00<00:00,  8.90it/s, curr_train_loss=0.00003073, val_loss=1.30413556]\n",
      "Validation Epoch [96/100]: 100%|███████████████████████████████████████████████████████████████████| 1/1 [00:00<00:00,  9.07it/s, val_loss=1.30490005]\n",
      "Training Epoch [97/100]: 100%|█████████████████████████████████████████| 1/1 [00:00<00:00,  8.90it/s, curr_train_loss=0.00003059, val_loss=1.30490005]\n",
      "Validation Epoch [97/100]: 100%|███████████████████████████████████████████████████████████████████| 1/1 [00:00<00:00,  9.16it/s, val_loss=1.30553710]\n",
      "Training Epoch [98/100]: 100%|█████████████████████████████████████████| 1/1 [00:00<00:00,  9.11it/s, curr_train_loss=0.00003047, val_loss=1.30553710]\n",
      "Validation Epoch [98/100]: 100%|███████████████████████████████████████████████████████████████████| 1/1 [00:00<00:00,  9.21it/s, val_loss=1.30594349]\n",
      "Training Epoch [99/100]: 100%|█████████████████████████████████████████| 1/1 [00:00<00:00,  9.05it/s, curr_train_loss=0.00003033, val_loss=1.30594349]\n",
      "Validation Epoch [99/100]: 100%|███████████████████████████████████████████████████████████████████| 1/1 [00:00<00:00,  9.25it/s, val_loss=1.30613816]\n",
      "Training Epoch [100/100]: 100%|████████████████████████████████████████| 1/1 [00:00<00:00,  8.86it/s, curr_train_loss=0.00003022, val_loss=1.30613816]\n",
      "Validation Epoch [100/100]: 100%|██████████████████████████████████████████████████████████████████| 1/1 [00:00<00:00,  9.18it/s, val_loss=1.30616748]"
     ]
    },
    {
     "name": "stdout",
     "output_type": "stream",
     "text": [
      "Finished training!\n"
     ]
    },
    {
     "name": "stderr",
     "output_type": "stream",
     "text": [
      "\n"
     ]
    }
   ],
   "source": [
    "\n",
    "# Create a tensorboard logger.\n",
    "# NOTE: In order to see the logs, run the following command in the terminal: tensorboard --logdir=./\n",
    "# Also, in order to reset the logs, delete the logs folder MANUALLY.\n",
    "# Pay attention that if you run this cell mutltiple times, the pretrained_encoder\n",
    "# is not reset, and will keep training from where it stopped. Thus, it could overfit.\n",
    "\n",
    "path = os.path.join('logs', 'pretrained_cls_logs')\n",
    "num_of_runs = len(os.listdir(path)) if os.path.exists(path) else 0\n",
    "path = os.path.join(path, f'run_{num_of_runs + 1}')\n",
    "tb_logger = SummaryWriter(path)\n",
    "\n",
    "batch_size = hparams.get('batch_size', 16)\n",
    "labled_train_loader = torch.utils.data.DataLoader(train_100_dataset, batch_size=batch_size, shuffle=True)\n",
    "labled_val_loader = torch.utils.data.DataLoader(val_100_dataset, batch_size=batch_size, shuffle=False)\n",
    "\n",
    "epochs = hparams.get('epochs', 20)\n",
    "loss_func = nn.CrossEntropyLoss() # The loss function we use for classification.\n",
    "train_classifier(classifier_pretrained, labled_train_loader, labled_val_loader, loss_func, tb_logger, epochs=epochs, name='Pretrained')\n",
    "\n",
    "print(\"Finished training!\") "
   ]
  },
  {
   "attachments": {},
   "cell_type": "markdown",
   "metadata": {
    "id": "H-pm1MY_MNks"
   },
   "source": [
    "Let's have a look at the validation accuracy of the two different classifiers and compare them. And don't forget that you can also monitor your training in TensorBoard.\n",
    "\n",
    "We will only look at the test accuracy and compare our two classifiers with respect to that in the very end."
   ]
  },
  {
   "cell_type": "code",
   "execution_count": 18,
   "metadata": {
    "id": "-e5Bd9KLMNkt"
   },
   "outputs": [
    {
     "name": "stdout",
     "output_type": "stream",
     "text": [
      "Validation accuracy when training from scratch: \u001b[92m72.0\u001b[0m%\n",
      "Validation accuracy with pretraining: \u001b[92m70.0\u001b[0m%\n"
     ]
    }
   ],
   "source": [
    "val_acc_scracth = classifier.getAcc(labled_val_loader)[1]*100\n",
    "color = 'green' if val_acc_scracth > 55 else 'red'\n",
    "print(f\"Validation accuracy when training from scratch: {bcolors.colorize(color, val_acc_scracth)}%\")\n",
    "\n",
    "val_acc_pretrained = classifier_pretrained.getAcc(labled_val_loader)[1]*100\n",
    "color = 'green' if val_acc_pretrained > 55 else 'red'\n",
    "print(f\"Validation accuracy with pretraining: {bcolors.colorize(color, val_acc_pretrained)}%\")\n",
    "\n",
    "\n"
   ]
  },
  {
   "attachments": {},
   "cell_type": "markdown",
   "metadata": {
    "id": "zAp2OTyf4_5b"
   },
   "source": [
    "Now that everything is working, feel free to play around with different architectures. As you've seen, it's quite easy to define your model or do adpations there.\n",
    "\n",
    "To pass this submission, you will need to achieve an accuracy of **55%**."
   ]
  },
  {
   "attachments": {},
   "cell_type": "markdown",
   "metadata": {
    "id": "OmEYmRT-5S-e"
   },
   "source": [
    "# Save your model & Report Test Accuracy\n",
    "\n",
    "When you are finally done with your **hyperparameter tuning**, achieved **at least 55% validation accuracy** and are happy with your final model, you can save it here.\n",
    "\n",
    "Before that, please check again whether the number of parameters is below 5 Mio and the file size is below 20 MB.\n",
    "\n",
    "Once your final model is saved, we'll finally report the test accuracy."
   ]
  },
  {
   "cell_type": "code",
   "execution_count": 19,
   "metadata": {
    "id": "S69ETKxD5TcE",
    "scrolled": true
   },
   "outputs": [
    {
     "name": "stdout",
     "output_type": "stream",
     "text": [
      "Test accuracy when training from scratch: \u001b[92m77.0\u001b[0m%\n",
      "Test accuracy with pretraining: \u001b[92m72.0\u001b[0m%\n",
      "Validation Accuracy: \u001b[92m70.0\u001b[0m%\n",
      "# Paramters: Your model has \u001b[92m1.878\u001b[0m mio. params.\n",
      "Size: Great! Your model size is \u001b[92m15.1\u001b[0m MB and is less than 20 MB.\n",
      "Your model has been saved and is ready to be submitted.\n"
     ]
    }
   ],
   "source": [
    "from exercise_code.Util import test_and_save\n",
    "test_dl = torch.utils.data.DataLoader(test_100_dataset, batch_size=4, shuffle=False)\n",
    "\n",
    "test_acc = classifier.getAcc(test_dl)[1]*100\n",
    "color = 'green' if test_acc > 55 else 'red'\n",
    "print(f\"Test accuracy when training from scratch: {bcolors.colorize(color, test_acc)}%\")\n",
    "\n",
    "test_acc = classifier_pretrained.getAcc(test_dl)[1]*100\n",
    "color = 'green' if test_acc > 55 else 'red'\n",
    "print(f\"Test accuracy with pretraining: {bcolors.colorize(color, test_acc)}%\")\n",
    "\n",
    "test_and_save(classifier_pretrained, labled_val_loader, test_dl)"
   ]
  },
  {
   "cell_type": "code",
   "execution_count": 20,
   "metadata": {
    "id": "enZCnGL6MNkt"
   },
   "outputs": [
    {
     "name": "stdout",
     "output_type": "stream",
     "text": [
      "relevant folders: ['exercise_code', 'models']\n",
      "notebooks files: ['Optional-BatchNormalization_Dropout.ipynb', '1_Autoencoder.ipynb']\n",
      "Adding folder exercise_code\n",
      "Adding folder models\n",
      "Adding notebook Optional-BatchNormalization_Dropout.ipynb\n",
      "Adding notebook 1_Autoencoder.ipynb\n",
      "Zipping successful! Zip is stored under: /u/home/chchin/i2dl/output/exercise_08.zip\n"
     ]
    }
   ],
   "source": [
    "# Now zip the folder for upload\n",
    "from exercise_code.submit import submit_exercise\n",
    "\n",
    "submit_exercise('../output/exercise_08')"
   ]
  },
  {
   "attachments": {},
   "cell_type": "markdown",
   "metadata": {
    "id": "7fuo3Tf9MNku",
    "pycharm": {
     "name": "#%% md\n"
    }
   },
   "source": [
    "Congratulations on completing your first autoencoder and successfully transferring the weights to a classifier! It's remarkable how much easier this process becomes with the power of PyTorch, compared to working with plain NumPy, right?\n",
    "\n",
    "To complete the exercise, please submit your final model to [our submission portal](https://i2dl.vc.in.tum.de/) - you should be already familiar with the submission procedure. Next, it is time to get started with some more complex neural networks and tasks in the upcoming exercises. See you next week!\n",
    "\n",
    "# Submission Goals\n",
    "\n",
    "- Goal: Successfully implement a fully connected autoencoder for MNIST with Pytorch and transfer the encoder weights to a classifier.\n",
    "\n",
    "- Passing Criteria: There are no unit tests that check specific components of your code. The only thing that's required to pass the submission, is your model to reach at least **55% accuracy** on __our__ test dataset. The submission system will show you a number between 0 and 100 which corresponds to your accuracy.\n",
    "\n",
    "\n",
    "- You can make **$\\infty$** submissions until the deadline. Your __best submission__ will be considered for the bonus."
   ]
  }
 ],
 "metadata": {
  "accelerator": "GPU",
  "colab": {
   "provenance": []
  },
  "kernelspec": {
   "display_name": "i2dl",
   "language": "python",
   "name": "python3"
  },
  "language_info": {
   "codemirror_mode": {
    "name": "ipython",
    "version": 3
   },
   "file_extension": ".py",
   "mimetype": "text/x-python",
   "name": "python",
   "nbconvert_exporter": "python",
   "pygments_lexer": "ipython3",
   "version": "3.11.10"
  }
 },
 "nbformat": 4,
 "nbformat_minor": 1
}
