{
 "cells": [
  {
   "cell_type": "markdown",
   "metadata": {},
   "source": [
    "# Optional: Batch Normalization & Dropout \n",
    "\n",
    "In this Notebook we will introduce the idea of Batch Normalization and Dropout and how both these methods help in Neural Network training. \n",
    "\n",
    "By completing this exercise you will:\n",
    "1. Know the implementation details of Batch Norm and Dropout\n",
    "2. Notice the difference in behaviour during train and test time\n",
    "3. Use Batch Norm and Dropout in a Fully Connected Layer to see how it affects training\n",
    "\n",
    "Let us start with Batch Normalization:"
   ]
  },
  {
   "cell_type": "markdown",
   "metadata": {},
   "source": [
    "# 1. Batch Normalization\n",
    "\n",
    "## 1.1 What is Batch Normalization\n",
    "One way to make deep networks easier to train is to use more sophisticated optimization procedures such as SGD+momentum, RMSProp, or Adam. Another strategy is to change the architecture of the network to make it easier to train. One idea along these lines is batch normalization, which was proposed by [1].\n",
    "\n",
    "The idea is relatively straightforward. Machine learning methods tend to work better when their input data consists of uncorrelated features with zero mean and unit variance. When training a neural network, we can preprocess the data before feeding it to the network to explicitly decorrelate its features; this will ensure that the first layer of the network sees data that follows a nice distribution. However, even if we preprocess the input data, the activations at deeper layers of the network will likely no longer be decorrelated and will no longer have zero mean or unit variance since they are output from earlier layers in the network. Even worse, during the training process, the distribution of features at each layer of the network will shift as the weights of each layer are updated.\n",
    "\n",
    "The authors of [1] hypothesize that the shifting distribution of features inside deep neural networks may make training deep networks more difficult. To overcome this problem, [1] proposes to insert batch normalization layers into the network. At training time, a batch normalization layer uses a minibatch of data to estimate the mean and standard deviation of each feature. These estimated means and standard deviations are then used to center and normalize the features of the minibatch. A running average of these means and standard deviations is kept during training, and at test time, these running averages are used to center and normalize features.\n",
    "\n",
    "It is possible that this normalization strategy could reduce the representational power of the network since it may sometimes be optimal for certain layers to have features that are not zero-mean or unit variance. To this end, the batch normalization layer includes learnable shift and scale parameters for each feature dimension.\n",
    "\n",
    "[1] Sergey Ioffe and Christian Szegedy, \"Batch Normalization: Accelerating Deep Network Training by Reducing\n",
    "Internal Covariate Shift\", ICML 2015.\n",
    "\n",
    "\n"
   ]
  },
  {
   "cell_type": "markdown",
   "metadata": {},
   "source": [
    "### Before We Start\n",
    "\n",
    "It is important that we take a look at the Mathematical formula behind Batch Norm. Please make sure to understand the formula below since this will definitely help you with the implementation later. :)"
   ]
  },
  {
   "cell_type": "markdown",
   "metadata": {},
   "source": [
    "<!-- In case the image does not show, uncomment the following:\n",
    "<img name=\"batchnorm\" src=\"./img/batchnorm.jpg\">\n",
    " -->\n",
    "<img name=\"batchnorm\" src=\"https://i2dl.vc.in.tum.de/static/images/exercise_08/batchnorm.jpg\">\n"
   ]
  },
  {
   "cell_type": "markdown",
   "metadata": {},
   "source": [
    "### A quick explanation of the formula\n",
    "It may look a bit confusing at first glance, but that's not true. Let's summarize the mathematics here: In the left column, we are given the input data, which consists (as always) of $N$ samples of dimension $D$. Furthermore, we need the learnable shift and scale parameters which we call $\\beta$ and $\\gamma$. The intermediates describe the mean $\\mu$ and variance $\\sigma$ that we need to compute from the input data and then $\\hat{x}$ which is the normalized input data. The output is given by $y$ which is the combination of the normalized data with the learnable parameters. \n",
    "\n",
    "The right column contains the mathematical formulations and can be summarized as follows:\n",
    "1. For the given input x, we calculate the mean $\\mu$ across all input samples.\n",
    "2. Based on the mean $\\mu$, we compute the variances $\\sigma$ of each value in the sample.\n",
    "3. We then normalize the input data based on the computed mean and variance.\n",
    "4. Finally, we combine the normalized data with the learnable parameters $\\gamma$ and $\\beta$.\n",
    "\n",
    "Please remember that Batch Normalization behaves differently at training and test time. In the figure above, we see the behavior at training time. \n",
    "\n",
    "\n"
   ]
  },
  {
   "cell_type": "markdown",
   "metadata": {},
   "source": [
    "## (Optional) Mount folder in Colab\n",
    "\n",
    "Uncomment thefollowing cell to mount your gdrive if you are using the notebook in google colab:"
   ]
  },
  {
   "cell_type": "code",
   "execution_count": null,
   "metadata": {},
   "outputs": [],
   "source": [
    "# Use the following lines if you want to use Google Colab\n",
    "# Don't forget to change to GPU. Runtime --> Change runtime type --> GPU\n",
    "# NOTE: terminate all other colab sessions that use GPU!\n",
    "# NOTE 2: Make sure the correct exercise folder (e.g exercise_08) is given.\n",
    "# NOTE 3: For simplicity, create a folder \"i2dl\" within your main drive folder, and put the exercise there.\n",
    "\n",
    "\"\"\"\n",
    "from google.colab import drive\n",
    "import os\n",
    "gdrive_path='/content/gdrive/MyDrive/i2dl/exercise_08'\n",
    "\n",
    "# This will mount your google drive under 'MyDrive'\n",
    "drive.mount('/content/gdrive', force_remount=True)\n",
    "# In order to access the files in this notebook we have to navigate to the correct folder\n",
    "os.chdir(gdrive_path)\n",
    "# Check manually if all files are present\n",
    "\"\"\""
   ]
  },
  {
   "cell_type": "markdown",
   "metadata": {},
   "source": [
    "## 1.2 Batch Normalization: Implementation"
   ]
  },
  {
   "cell_type": "code",
   "execution_count": 7,
   "metadata": {},
   "outputs": [],
   "source": [
    "# As usual, a bit of setup\n",
    "\n",
    "import time\n",
    "import numpy as np\n",
    "import matplotlib.pyplot as plt\n",
    "from exercise_code.layers import *\n",
    "from exercise_code.tests import *\n",
    "import torch.nn as nn\n",
    "import torch.nn.functional as F\n",
    "import torch\n",
    "import torchvision\n",
    "import torchvision.transforms as transforms\n",
    "import os\n",
    "import shutil\n",
    "\n",
    "from torch.utils.tensorboard import SummaryWriter\n",
    "\n",
    "from exercise_code.BatchNormModel import SimpleNetwork, BatchNormNetwork, DropoutNetwork\n",
    "\n",
    "%matplotlib inline\n",
    "plt.rcParams['figure.figsize'] = (10.0, 8.0) # set default size of plots\n",
    "plt.rcParams['image.interpolation'] = 'nearest'\n",
    "plt.rcParams['image.cmap'] = 'gray'\n",
    "\n",
    "# for auto-reloading external modules\n",
    "# see http://stackoverflow.com/questions/1907993/autoreload-of-modules-in-ipython\n",
    "%load_ext autoreload\n",
    "%autoreload 2\n",
    "\n",
    "os.environ['KMP_DUPLICATE_LIB_OK']='True' # To prevent the kernel from dying.\n",
    "\n",
    "# supress cluttering warnings in solutions\n",
    "import warnings\n",
    "warnings.filterwarnings('ignore')\n",
    "\n",
    "def rel_error(x, y):\n",
    "    \"\"\" returns relative error \"\"\"\n",
    "    return np.max(np.abs(x - y) / (np.maximum(1e-8, np.abs(x) + np.abs(y))))\n",
    "\n",
    "\n",
    "# This will set the device on which to run the code, which defaults to the CPU.\n",
    "# If you have an Nvidia GPU, it will use that with cuda\n",
    "# For Apple Silicon, you can try to use the \"mps\" device by commenting in line 7.\n",
    "#  But it is not guaranteed to work and sometimes the CPU performs better.\n",
    "\n",
    "device = torch.device(\n",
    "    \"cuda:0\" if torch.cuda.is_available() else \n",
    "#   \"mps\" if torch.backends.mps.is_available() else \n",
    "    \"cpu\"\n",
    ")"
   ]
  },
  {
   "cell_type": "markdown",
   "metadata": {},
   "source": [
    "### Batch normalization: Forward Pass\n",
    "\n",
    "<div class=\"alert alert-success\">\n",
    "    <h3>Task: Check Code</h3>\n",
    "    <p>In the file <code>exercise_code/layers.py </code>, we have implemented the <code>batchnorm_forward</code> function. Read this implementation and make sure you understand what batch normalization is doing. Then execute the following cells to test the implementation.\n",
    " </p>\n",
    "</div>"
   ]
  },
  {
   "cell_type": "code",
   "execution_count": 8,
   "metadata": {},
   "outputs": [
    {
     "name": "stdout",
     "output_type": "stream",
     "text": [
      "Before batch normalization:\n",
      "  means:  [-18.45638153  -6.43262094 -16.38788136]\n",
      "  stds:  [31.98106437 31.5359993  24.56387286] \n",
      "\n",
      "After batch normalization with (gamma=1, beta=0)\n",
      "  mean:  [-4.44089210e-17 -9.21485110e-17  2.99760217e-17]\n",
      "  std:  [1.         0.99999999 0.99999999] \n",
      "\n",
      "After batch normalization with (nontrivial gamma, beta)\n",
      "  means:  [11. 12. 13.]\n",
      "  stds:  [1.         1.99999999 2.99999998]\n"
     ]
    }
   ],
   "source": [
    "# Check the training-time forward pass by checking means and variances\n",
    "# of features both before and after batch normalization\n",
    "\n",
    "# Simulate the forward pass for a two-layer network\n",
    "N, D1, D2, D3 = 200, 50, 60, 3\n",
    "X = np.random.randn(N, D1)\n",
    "W1 = np.random.randn(D1, D2)\n",
    "W2 = np.random.randn(D2, D3)\n",
    "a = np.maximum(0, X.dot(W1)).dot(W2)\n",
    "\n",
    "print('Before batch normalization:')\n",
    "print('  means: ', a.mean(axis=0))\n",
    "print('  stds: ', a.std(axis=0), '\\n')\n",
    "\n",
    "# Means should be close to zero and stds close to one\n",
    "print('After batch normalization with (gamma=1, beta=0)')\n",
    "a_norm, _ = batchnorm_forward(a, np.ones(D3), np.zeros(D3), {'mode': 'train'})\n",
    "print('  mean: ', a_norm.mean(axis=0))\n",
    "print('  std: ', a_norm.std(axis=0) , '\\n')\n",
    "\n",
    "# Now means should be close to beta and stds close to gamma\n",
    "beta = np.asarray([11.0, 12.0, 13.0])\n",
    "gamma = np.asarray([1.0, 2.0, 3.0])\n",
    "a_norm, _ = batchnorm_forward(a, gamma, beta, {'mode': 'train'})\n",
    "print('After batch normalization with (nontrivial gamma, beta)')\n",
    "print('  means: ', a_norm.mean(axis=0))\n",
    "print('  stds: ', a_norm.std(axis=0) )"
   ]
  },
  {
   "cell_type": "markdown",
   "metadata": {},
   "source": [
    "Since the mean and variances in batch norm are computed in training time,\n",
    "before invoking the test-time forward pass run the training-time\n",
    "forward pass (previous cell) many times to warm up the running averages. Then\n",
    "checking the means and variances of activations for a test-time\n",
    "forward pass."
   ]
  },
  {
   "cell_type": "code",
   "execution_count": 9,
   "metadata": {},
   "outputs": [
    {
     "name": "stdout",
     "output_type": "stream",
     "text": [
      "After batch normalization (test-time):\n",
      "  means:  [0.06199073 0.10025696 0.06207077]\n",
      "  stds:  [1.08709564 0.96084071 0.99678458]\n"
     ]
    }
   ],
   "source": [
    "# Check the test-time forward pass by checking means and variances \n",
    "# of features after batch normalization\n",
    "\n",
    "N, D1, D2, D3 = 200, 50, 60, 3\n",
    "W1 = np.random.randn(D1, D2)\n",
    "W2 = np.random.randn(D2, D3)\n",
    "\n",
    "bn_param = {'mode': 'train'}\n",
    "gamma = np.ones(D3)\n",
    "beta = np.zeros(D3)\n",
    "for t in range(50):\n",
    "    X = np.random.randn(N, D1)\n",
    "    a = np.maximum(0, X.dot(W1)).dot(W2)\n",
    "    batchnorm_forward(a, gamma, beta, bn_param)\n",
    "bn_param['mode'] = 'test'\n",
    "X = np.random.randn(N, D1)\n",
    "a = np.maximum(0, X.dot(W1)).dot(W2)\n",
    "a_norm, _ = batchnorm_forward(a, gamma, beta, bn_param)\n",
    "\n",
    "# Means should be close to zero and stds close to one, but will be\n",
    "# noisier than training-time forward passes.\n",
    "print('After batch normalization (test-time):')\n",
    "print('  means: ', a_norm.mean(axis=0))\n",
    "print('  stds: ', a_norm.std(axis=0))"
   ]
  },
  {
   "cell_type": "markdown",
   "metadata": {},
   "source": [
    "### Batch Normalization: Backward Pass\n",
    "Since batch normalization is realized by a more complex function of learnable parameters, it is a good exercise to train your backprop skills through this computational graph.\n",
    "\n",
    "<div class=\"alert alert-info\">\n",
    "    <h3>Task: Implement</h3>\n",
    "    <p>Open <code>exercise_code/layers.py</code> and implement the backward pass for Batch Normalization in the function <code> batchnorm_backward() </code>.\n",
    "    </p>\n",
    "    <p> To derive the backward pass you should write out the computation graph for batch normalization and backprop through each of the intermediate nodes. Some intermediates may have multiple outgoing branches; make sure to sum gradients across these branches in the backward pass. You can stay close to the forward pass implementation we have provided for you, i.e. go line by line backward.\n",
    "    </p>\n",
    "    <p> Once you have finished, run the following to numerically check your backward pass.\n",
    "    </p>\n",
    "</div>"
   ]
  },
  {
   "cell_type": "code",
   "execution_count": 11,
   "metadata": {},
   "outputs": [
    {
     "name": "stdout",
     "output_type": "stream",
     "text": [
      "dx error:  1.085192131267446e-08\n",
      "dgamma error:  4.597795665096508e-12\n",
      "dbeta error:  4.37335740671464e-12\n"
     ]
    }
   ],
   "source": [
    "# Gradient check batchnorm backward pass\n",
    "\n",
    "N, D = 4, 5\n",
    "x = 5 * np.random.randn(N, D) + 12\n",
    "gamma = np.random.randn(D)\n",
    "beta = np.random.randn(D)\n",
    "dout = np.random.randn(N, D)\n",
    "\n",
    "bn_param = {'mode': 'train'}\n",
    "\n",
    "fx = lambda x: batchnorm_forward(x, gamma, beta, bn_param)[0]\n",
    "fg = lambda a: batchnorm_forward(x, gamma, beta, bn_param)[0]\n",
    "fb = lambda b: batchnorm_forward(x, gamma, beta, bn_param)[0]\n",
    "\n",
    "dx_num = eval_numerical_gradient_array(fx, x, dout)\n",
    "da_num = eval_numerical_gradient_array(fg, gamma, dout)\n",
    "db_num = eval_numerical_gradient_array(fb, beta, dout)\n",
    "\n",
    "_, cache = batchnorm_forward(x, gamma, beta, bn_param)\n",
    "dx, dgamma, dbeta = batchnorm_backward(dout, cache)\n",
    "\n",
    "print('dx error: ', rel_error(dx_num, dx))\n",
    "print('dgamma error: ', rel_error(da_num, dgamma))\n",
    "print('dbeta error: ', rel_error(db_num, dbeta))"
   ]
  },
  {
   "cell_type": "markdown",
   "metadata": {},
   "source": [
    "## 1.3 Using Batch Normalization with PyTorch\n",
    "\n",
    "Now that we have seen the implementation of Batch Normalization, it is interesting to see how it would affect the overall Model Performance. Since you have already worked with PyTorch in the last exercise, you have seen how easy it makes our lives. As an experiment, we will use a simple Fully Connected Network in PyTorch here."
   ]
  },
  {
   "cell_type": "markdown",
   "metadata": {},
   "source": [
    "### Setup TensorBoard\n",
    "In exercise 07 you've already learned how to use TensorBoard. Let's use it again to make the debugging of our network and training process more convenient! Throughout this notebook, feel free to add further logs or visualizations your TensorBoard!"
   ]
  },
  {
   "cell_type": "code",
   "execution_count": 12,
   "metadata": {},
   "outputs": [],
   "source": [
    "# Few Hyperparameters before we start things off\n",
    "hidden_dim = 200\n",
    "batch_size = 50\n",
    "\n",
    "logdir = './batch_norm_logs'\n",
    "if os.path.exists(logdir):\n",
    "    # We delete the logs on the first run\n",
    "    shutil.rmtree(logdir)\n",
    "os.mkdir(logdir)\n",
    "\n",
    "epochs = 5\n",
    "learning_rate = 0.00005"
   ]
  },
  {
   "cell_type": "code",
   "execution_count": null,
   "metadata": {},
   "outputs": [],
   "source": [
    "################# COLAB ONLY #################\n",
    "# %load_ext tensorboard\n",
    "# %tensorboard --logdir=./ --port 6006\n",
    "\n",
    "# Use the cmd for less trouble, if you can. From the working directory, run: tensorboard --logdir=./ --port 6006"
   ]
  },
  {
   "cell_type": "markdown",
   "metadata": {},
   "source": [
    "### Train a model without Batch Normalization. \n",
    "\n",
    "<div class=\"alert alert-success\">\n",
    "    <h3>Task: Check Code</h3>\n",
    "    <p>Let us first start with a simple network which does not make use of Batch Normalization. We have already implemented the a simple network <code>SimpleNetwork</code> in <code>exercise_code/BatchNormModel.py</code>. Feel free to check it out and play around with the parameters. The cell below is setting up a short trainings process for this network.\n",
    " </p>\n",
    "</div>"
   ]
  },
  {
   "cell_type": "code",
   "execution_count": 13,
   "metadata": {},
   "outputs": [],
   "source": [
    "from tqdm import tqdm\n",
    "def create_tqdm_bar(iterable, desc):\n",
    "    return tqdm(enumerate(iterable),total=len(iterable), ncols=150, desc=desc)\n",
    "\n",
    "def train_model(model, train_loader, val_loader, loss_func, tb_logger, epochs=10, name='Autoencoder'):\n",
    "    \n",
    "    optimizer = model.configure_optimizer()\n",
    "    scheduler = torch.optim.lr_scheduler.StepLR(optimizer, step_size=epochs * len(train_loader) / 5, gamma=0.7)\n",
    "    validation_loss = 0\n",
    "    model = model.to(device)\n",
    "    for epoch in range(epochs):\n",
    "        \n",
    "        # Train\n",
    "        training_loop = create_tqdm_bar(train_loader, desc=f'Training Epoch [{epoch + 1}/{epochs}]')\n",
    "        training_loss = 0\n",
    "        for train_iteration, batch in training_loop:\n",
    "            optimizer.zero_grad()\n",
    "            loss = model.training_step(batch, loss_func)\n",
    "            loss.backward()\n",
    "            optimizer.step()\n",
    "            scheduler.step()\n",
    "            \n",
    "            training_loss += loss.item()\n",
    "\n",
    "            # Update the progress bar.\n",
    "            training_loop.set_postfix(train_loss = \"{:.8f}\".format(training_loss / (train_iteration + 1)), val_loss = \"{:.8f}\".format(validation_loss))\n",
    "\n",
    "            # Update the tensorboard logger.\n",
    "            tb_logger.add_scalar(f'{name}/train_loss', loss.item(), epoch * len(train_loader) + train_iteration)\n",
    "\n",
    "        # Validation\n",
    "        val_loop = create_tqdm_bar(val_loader, desc=f'Validation Epoch [{epoch + 1}/{epochs}]')\n",
    "        validation_loss = 0\n",
    "        with torch.no_grad():\n",
    "            for val_iteration, batch in val_loop:\n",
    "                loss = model.validation_step(batch, loss_func) # You need to implement this function.\n",
    "                validation_loss += loss.item()\n",
    "\n",
    "                # Update the progress bar.\n",
    "                val_loop.set_postfix(val_loss = \"{:.8f}\".format(validation_loss / (val_iteration + 1)))\n",
    "\n",
    "                # Update the tensorboard logger.\n",
    "                tb_logger.add_scalar(f'{name}/val_loss', validation_loss / (val_iteration + 1), epoch * len(val_loader) + val_iteration)\n",
    "        # This value is for the progress bar of the training loop.\n",
    "        validation_loss /= len(val_loader)"
   ]
  },
  {
   "cell_type": "code",
   "execution_count": 14,
   "metadata": {},
   "outputs": [
    {
     "name": "stdout",
     "output_type": "stream",
     "text": [
      "Downloading http://fashion-mnist.s3-website.eu-central-1.amazonaws.com/train-images-idx3-ubyte.gz\n",
      "Downloading http://fashion-mnist.s3-website.eu-central-1.amazonaws.com/train-images-idx3-ubyte.gz to ../datasets/FashionMNIST/raw/train-images-idx3-ubyte.gz\n"
     ]
    },
    {
     "name": "stderr",
     "output_type": "stream",
     "text": [
      "100%|██████████| 26.4M/26.4M [00:00<00:00, 96.6MB/s]\n"
     ]
    },
    {
     "name": "stdout",
     "output_type": "stream",
     "text": [
      "Extracting ../datasets/FashionMNIST/raw/train-images-idx3-ubyte.gz to ../datasets/FashionMNIST/raw\n",
      "\n",
      "Downloading http://fashion-mnist.s3-website.eu-central-1.amazonaws.com/train-labels-idx1-ubyte.gz\n",
      "Downloading http://fashion-mnist.s3-website.eu-central-1.amazonaws.com/train-labels-idx1-ubyte.gz to ../datasets/FashionMNIST/raw/train-labels-idx1-ubyte.gz\n"
     ]
    },
    {
     "name": "stderr",
     "output_type": "stream",
     "text": [
      "100%|██████████| 29.5k/29.5k [00:00<00:00, 4.54MB/s]\n"
     ]
    },
    {
     "name": "stdout",
     "output_type": "stream",
     "text": [
      "Extracting ../datasets/FashionMNIST/raw/train-labels-idx1-ubyte.gz to ../datasets/FashionMNIST/raw\n",
      "\n",
      "Downloading http://fashion-mnist.s3-website.eu-central-1.amazonaws.com/t10k-images-idx3-ubyte.gz\n",
      "Downloading http://fashion-mnist.s3-website.eu-central-1.amazonaws.com/t10k-images-idx3-ubyte.gz to ../datasets/FashionMNIST/raw/t10k-images-idx3-ubyte.gz\n"
     ]
    },
    {
     "name": "stderr",
     "output_type": "stream",
     "text": [
      "100%|██████████| 4.42M/4.42M [00:00<00:00, 49.3MB/s]\n"
     ]
    },
    {
     "name": "stdout",
     "output_type": "stream",
     "text": [
      "Extracting ../datasets/FashionMNIST/raw/t10k-images-idx3-ubyte.gz to ../datasets/FashionMNIST/raw\n",
      "\n",
      "Downloading http://fashion-mnist.s3-website.eu-central-1.amazonaws.com/t10k-labels-idx1-ubyte.gz\n",
      "Downloading http://fashion-mnist.s3-website.eu-central-1.amazonaws.com/t10k-labels-idx1-ubyte.gz to ../datasets/FashionMNIST/raw/t10k-labels-idx1-ubyte.gz\n"
     ]
    },
    {
     "name": "stderr",
     "output_type": "stream",
     "text": [
      "100%|██████████| 5.15k/5.15k [00:00<00:00, 27.7MB/s]"
     ]
    },
    {
     "name": "stdout",
     "output_type": "stream",
     "text": [
      "Extracting ../datasets/FashionMNIST/raw/t10k-labels-idx1-ubyte.gz to ../datasets/FashionMNIST/raw\n",
      "\n"
     ]
    },
    {
     "name": "stderr",
     "output_type": "stream",
     "text": [
      "\n",
      "Training Epoch [1/5]: 100%|█████████████████████████████████████████████| 960/960 [00:15<00:00, 60.49it/s, train_loss=0.54225833, val_loss=0.00000000]\n",
      "Validation Epoch [1/5]: 100%|█████████████████████████████████████████████████████████████████| 240/240 [00:02<00:00, 105.12it/s, val_loss=0.42230390]\n",
      "Training Epoch [2/5]: 100%|█████████████████████████████████████████████| 960/960 [00:14<00:00, 67.58it/s, train_loss=0.39014810, val_loss=0.42230390]\n",
      "Validation Epoch [2/5]: 100%|█████████████████████████████████████████████████████████████████| 240/240 [00:02<00:00, 119.19it/s, val_loss=0.39300138]\n",
      "Training Epoch [3/5]: 100%|█████████████████████████████████████████████| 960/960 [00:11<00:00, 86.86it/s, train_loss=0.34735235, val_loss=0.39300138]\n",
      "Validation Epoch [3/5]: 100%|██████████████████████████████████████████████████████████████████| 240/240 [00:02<00:00, 86.31it/s, val_loss=0.34910136]\n",
      "Training Epoch [4/5]: 100%|█████████████████████████████████████████████| 960/960 [00:13<00:00, 69.86it/s, train_loss=0.32032694, val_loss=0.34910136]\n",
      "Validation Epoch [4/5]: 100%|██████████████████████████████████████████████████████████████████| 240/240 [00:02<00:00, 88.60it/s, val_loss=0.33949894]\n",
      "Training Epoch [5/5]: 100%|█████████████████████████████████████████████| 960/960 [00:13<00:00, 70.30it/s, train_loss=0.30343364, val_loss=0.33949894]\n",
      "Validation Epoch [5/5]: 100%|█████████████████████████████████████████████████████████████████| 240/240 [00:01<00:00, 138.77it/s, val_loss=0.33159039]\n"
     ]
    }
   ],
   "source": [
    "# Train a simple model without batch normalization.\n",
    "\n",
    "model = SimpleNetwork(hidden_dim=hidden_dim, batch_size=batch_size, learning_rate=learning_rate).to(device)\n",
    "path = os.path.join('logs', 'Bn_model_logs')\n",
    "if os.path.exists(path):\n",
    "    shutil.rmtree(path)\n",
    "path = os.path.join(path, f'simple-model')\n",
    "tb_logger = SummaryWriter(path)\n",
    "\n",
    "# Train the classifier.\n",
    "train_dl, val_dl, _ = model.prepare_data()\n",
    "\n",
    "epochs = 5\n",
    "loss_func = F.cross_entropy # The loss function we use for regression (Could also be nn.L1Loss()).\n",
    "train_model(model, train_dl, val_dl, loss_func, tb_logger, epochs=epochs, name='BatchNorm')\n"
   ]
  },
  {
   "cell_type": "markdown",
   "metadata": {},
   "source": [
    "### Train a model incl. Batch Normalization\n",
    "\n",
    "<div class=\"alert alert-success\">\n",
    "    <h3>Task: Check Code</h3>\n",
    "    <p> Now that we have already seen how our simple network should work, let us look at a model that is actually using Batch Normalization. Again, we provide you with such a model <code>BatchNormNetwork</code> in <code>exercise_code/BatchNormModel.py</code>. Same as before: Feel free to check it out and play around with the parameters. The cell below is setting up a short trainings process for this model. \n",
    " </p>\n",
    "</div>"
   ]
  },
  {
   "cell_type": "code",
   "execution_count": 15,
   "metadata": {},
   "outputs": [
    {
     "name": "stderr",
     "output_type": "stream",
     "text": [
      "Training Epoch [1/5]: 100%|█████████████████████████████████████████████| 960/960 [00:14<00:00, 65.28it/s, train_loss=0.47301565, val_loss=0.00000000]\n",
      "Validation Epoch [1/5]: 100%|█████████████████████████████████████████████████████████████████| 240/240 [00:01<00:00, 153.23it/s, val_loss=0.39101067]\n",
      "Training Epoch [2/5]: 100%|█████████████████████████████████████████████| 960/960 [00:14<00:00, 68.29it/s, train_loss=0.35042817, val_loss=0.39101067]\n",
      "Validation Epoch [2/5]: 100%|█████████████████████████████████████████████████████████████████| 240/240 [00:02<00:00, 106.98it/s, val_loss=0.37462278]\n",
      "Training Epoch [3/5]: 100%|█████████████████████████████████████████████| 960/960 [00:14<00:00, 66.83it/s, train_loss=0.30778737, val_loss=0.37462278]\n",
      "Validation Epoch [3/5]: 100%|██████████████████████████████████████████████████████████████████| 240/240 [00:02<00:00, 81.89it/s, val_loss=0.33263666]\n",
      "Training Epoch [4/5]: 100%|█████████████████████████████████████████████| 960/960 [00:13<00:00, 69.53it/s, train_loss=0.27579516, val_loss=0.33263666]\n",
      "Validation Epoch [4/5]: 100%|█████████████████████████████████████████████████████████████████| 240/240 [00:01<00:00, 142.40it/s, val_loss=0.32980690]\n",
      "Training Epoch [5/5]: 100%|█████████████████████████████████████████████| 960/960 [00:13<00:00, 72.69it/s, train_loss=0.25453248, val_loss=0.32980690]\n",
      "Validation Epoch [5/5]: 100%|██████████████████████████████████████████████████████████████████| 240/240 [00:02<00:00, 86.18it/s, val_loss=0.32025956]\n"
     ]
    }
   ],
   "source": [
    "model = BatchNormNetwork(hidden_dim=hidden_dim, batch_size=batch_size, learning_rate=learning_rate)\n",
    "\n",
    "path = os.path.join('logs', 'Bn_model_logs')\n",
    "path = os.path.join(path, f'BN-model')\n",
    "tb_logger = SummaryWriter(path)\n",
    "\n",
    "# Train the classifier.\n",
    "train_dl, val_dl, _ = model.prepare_data()\n",
    "\n",
    "epochs = 5\n",
    "loss_func = F.cross_entropy # The loss function we use for regression (Could also be nn.L1Loss()).\n",
    "train_model(model, train_dl, val_dl, loss_func, tb_logger, epochs=epochs, name='BatchNorm')"
   ]
  },
  {
   "cell_type": "markdown",
   "metadata": {},
   "source": [
    "### Observations\n",
    "Take a look at TensorBoard to compare the performance of both networks:"
   ]
  },
  {
   "cell_type": "code",
   "execution_count": null,
   "metadata": {},
   "outputs": [],
   "source": [
    "################# COLAB ONLY #################\n",
    "# %load_ext tensorboard\n",
    "# %tensorboard --logdir=./ --port 6006\n",
    "\n",
    "# Use the cmd for less trouble, if you can. From the working directory, run: tensorboard --logdir=./ --port 6006"
   ]
  },
  {
   "cell_type": "markdown",
   "metadata": {},
   "source": [
    "As you can see, using Batch Normalization resulted in better performance. You can easily observe lower validation loss and higher validation accuracy from the graphs. Batch Norm in general is helpful since it would lead to faster model training.\n",
    "\n",
    "Batch Normalization has other related benefits, for instance, it provides a bit of regularization. However, we would look for better methods of regularization such as Dropout. So in the second part of this notebook, let's have a more detailed look at the effect of Dropout. :)"
   ]
  },
  {
   "cell_type": "markdown",
   "metadata": {},
   "source": [
    "# 2. Dropout"
   ]
  },
  {
   "cell_type": "markdown",
   "metadata": {},
   "source": [
    "## 2.1 What is Dropout\n",
    "\n",
    "Dropout [1] is a technique for regularizing neural networks by randomly setting some features to zero during the forward pass. While training, dropout is implemented by only keeping a neuron active with some probability p\n",
    "(a hyperparameter), or setting it to zero otherwise. The Dropout technique would help your Neural Network to perform better on Test data.\n",
    "\n",
    "We want to repeat the approach that we saw above for Batch Normalization, but this time for Dropout. Let us thus first have a look at the implementation and then compare two networks with each other where one is using Dropout and one is not. \n",
    "\n",
    "[1] Srivastava et al, \"Dropout: A Simple Way to Prevent Neural Networks from Overfitting\", 2014"
   ]
  },
  {
   "cell_type": "markdown",
   "metadata": {},
   "source": [
    "<!-- In case the image does not show, uncomment the following:<img name=\"dropout\" src=\"./img/dropout.jpg\"> -->\n",
    "<img name=\"dropout\" src=\"https://i2dl.vc.in.tum.de/static/images/exercise_08/dropout.jpg\">\n"
   ]
  },
  {
   "cell_type": "markdown",
   "metadata": {},
   "source": [
    "## 2.2 Dropout Implementation"
   ]
  },
  {
   "cell_type": "markdown",
   "metadata": {},
   "source": [
    "### Dropout: Forward Pass\n",
    "\n",
    "The dropout method is a little less complex to implement than the Batch Normalization, hence we ask you to implement both, the forward and the backward pass. Let us start with the forward pass:\n",
    "\n",
    "<div class=\"alert alert-info\">\n",
    "    <h3>Task: Implement</h3>\n",
    "    <p> In the file <code>exercise_code/layers.py</code>, implement the forward pass for Dropout in <code>dropout_forward()</code>. Since Dropout behaves differently during training and testing, make sure to implement the operation for both modes.\n",
    "    </p>\n",
    "    <p> Once you have done so, run the cell below to test your implementation.\n",
    "    </p>\n",
    "</div>"
   ]
  },
  {
   "cell_type": "code",
   "execution_count": 19,
   "metadata": {},
   "outputs": [
    {
     "name": "stdout",
     "output_type": "stream",
     "text": [
      "Running tests with p =  0.3\n",
      "Mean of input:  10.00299235287822\n",
      "Mean of train-time output:  10.010620653806221\n",
      "Mean of test-time output:  10.00299235287822\n",
      "Fraction of train-time output set to zero:  0.299328\n",
      "Fraction of test-time output set to zero:  0.0\n",
      "\n",
      "Running tests with p =  0.6\n",
      "Mean of input:  10.00299235287822\n",
      "Mean of train-time output:  9.997353506875358\n",
      "Mean of test-time output:  10.00299235287822\n",
      "Fraction of train-time output set to zero:  0.6003\n",
      "Fraction of test-time output set to zero:  0.0\n",
      "\n",
      "Running tests with p =  0.75\n",
      "Mean of input:  10.00299235287822\n",
      "Mean of train-time output:  10.02131711890852\n",
      "Mean of test-time output:  10.00299235287822\n",
      "Fraction of train-time output set to zero:  0.749544\n",
      "Fraction of test-time output set to zero:  0.0\n",
      "\n"
     ]
    }
   ],
   "source": [
    "x = np.random.randn(500, 500) + 10\n",
    "# Let us use different dropout values(p) for our dropout layer and see their effects\n",
    "for p in [0.3, 0.6, 0.75]:\n",
    "    out, _ = dropout_forward(x, {'mode': 'train', 'p': p})\n",
    "    out_test, _ = dropout_forward(x, {'mode': 'test', 'p': p})\n",
    "\n",
    "    print('Running tests with p = ', p)\n",
    "    print('Mean of input: ', x.mean())\n",
    "    print('Mean of train-time output: ', out.mean())\n",
    "    print('Mean of test-time output: ', out_test.mean())\n",
    "    print('Fraction of train-time output set to zero: ', (out == 0).mean())\n",
    "    print('Fraction of test-time output set to zero: ', (out_test == 0).mean())\n",
    "    print()"
   ]
  },
  {
   "cell_type": "markdown",
   "metadata": {},
   "source": [
    "### Dropout: Backward Pass\n",
    "\n",
    "<div class=\"alert alert-info\">\n",
    "    <h3>Task: Implement</h3>\n",
    "    <p> In the file <code>exercise_code/layers.py</code>, implement the backward pass for dropout in <code>dropout_backward()</code>. After doing so, run the following cell to numerically gradient-check your implementation.\n",
    "    </p>\n",
    "</div>"
   ]
  },
  {
   "cell_type": "code",
   "execution_count": 20,
   "metadata": {},
   "outputs": [
    {
     "name": "stdout",
     "output_type": "stream",
     "text": [
      "dx relative error:  1.8929033151985206e-11\n"
     ]
    }
   ],
   "source": [
    "x = np.random.randn(10, 10) + 10\n",
    "dout = np.random.randn(*x.shape)\n",
    "\n",
    "dropout_param = {'mode': 'train', 'p': 0.8, 'seed': 123}\n",
    "out, cache = dropout_forward(x, dropout_param)\n",
    "dx = dropout_backward(dout, cache)\n",
    "dx_num = eval_numerical_gradient_array(lambda xx: dropout_forward(xx, dropout_param)[0], x, dout)\n",
    "\n",
    "print('dx relative error: ', rel_error(dx, dx_num))"
   ]
  },
  {
   "cell_type": "markdown",
   "metadata": {},
   "source": [
    "## 2.3 Using Dropout with PyTorch\n",
    "\n",
    "Same experiment as for Batch Normalization: We will train a pair of two-layer networks on a training dataset where one network will use no Dropout and one will use a Dropout probability of 0.75. We will then visualize the training and validation accuracies of the two networks over time."
   ]
  },
  {
   "cell_type": "markdown",
   "metadata": {},
   "source": [
    "### Setup TensorBoard\n",
    "\n",
    "In exercise 07 you've already learned how to use TensorBoard. Let's use it again to make the debugging of our network and training process more convenient! Throughout this notebook, feel free to add further logs or visualizations to your TensorBoard!"
   ]
  },
  {
   "cell_type": "code",
   "execution_count": 21,
   "metadata": {},
   "outputs": [],
   "source": [
    "# Few Hyperparameters before we start things off\n",
    "hidden_dim = 200\n",
    "batch_size = 50\n",
    "\n",
    "epochs = 5\n",
    "learning_rate = 0.00005\n",
    "\n",
    "logdir = './logs/dropout_logs'\n",
    "if os.path.exists(logdir):\n",
    "    # We delete the logs on the first run\n",
    "    shutil.rmtree(logdir)\n",
    "os.mkdir(logdir)"
   ]
  },
  {
   "cell_type": "code",
   "execution_count": 24,
   "metadata": {},
   "outputs": [
    {
     "name": "stdout",
     "output_type": "stream",
     "text": [
      "TensorFlow installation not found - running with reduced feature set.\n",
      "\n",
      "NOTE: Using experimental fast data loading logic. To disable, pass\n",
      "    \"--load_fast=false\" and report issues on GitHub. More details:\n",
      "    https://github.com/tensorflow/tensorboard/issues/4784\n",
      "\n",
      "Serving TensorBoard on localhost; to expose to the network, use a proxy or pass --bind_all\n",
      "TensorBoard 2.18.0 at http://localhost:6007/ (Press CTRL+C to quit)\n",
      "^C\n"
     ]
    }
   ],
   "source": [
    "################# COLAB ONLY #################\n",
    "# %load_ext tensorboard\n",
    "# %tensorboard --logdir=./ --port 6006\n",
    "\n",
    "# Use the cmd for less trouble if you can."
   ]
  },
  {
   "cell_type": "markdown",
   "metadata": {},
   "source": [
    "<div class=\"alert alert-success\">\n",
    "    <h3>Task: Check Code</h3>\n",
    "    <p> As before, we have already implemented those two networks for you. You may check them out in <code>exercise_code/BatchNormModel.py</code>. As always, feel free to play around with the parameters here. Run the following two cells to setup both models and train them for a few epochs in order to compare the performance with and without Dropout. \n",
    " </p>\n",
    "</div>\n",
    "\n",
    "### Train a model without Dropout\n",
    "\n",
    "Let us first start with a simple network `SimpleNetwork` which does not make use of Dropout."
   ]
  },
  {
   "cell_type": "code",
   "execution_count": 25,
   "metadata": {},
   "outputs": [
    {
     "name": "stderr",
     "output_type": "stream",
     "text": [
      "Training Epoch [1/5]: 100%|█████████████████████████████████████████████| 960/960 [00:13<00:00, 71.01it/s, train_loss=0.54338337, val_loss=0.00000000]\n",
      "Validation Epoch [1/5]: 100%|█████████████████████████████████████████████████████████████████| 240/240 [00:01<00:00, 168.54it/s, val_loss=0.42335227]\n",
      "Training Epoch [2/5]: 100%|█████████████████████████████████████████████| 960/960 [00:12<00:00, 79.08it/s, train_loss=0.39164129, val_loss=0.42335227]\n",
      "Validation Epoch [2/5]: 100%|█████████████████████████████████████████████████████████████████| 240/240 [00:01<00:00, 149.18it/s, val_loss=0.39433253]\n",
      "Training Epoch [3/5]: 100%|█████████████████████████████████████████████| 960/960 [00:13<00:00, 68.94it/s, train_loss=0.34860347, val_loss=0.39433253]\n",
      "Validation Epoch [3/5]: 100%|█████████████████████████████████████████████████████████████████| 240/240 [00:01<00:00, 127.07it/s, val_loss=0.35084208]\n",
      "Training Epoch [4/5]: 100%|█████████████████████████████████████████████| 960/960 [00:11<00:00, 80.75it/s, train_loss=0.32162306, val_loss=0.35084208]\n",
      "Validation Epoch [4/5]: 100%|█████████████████████████████████████████████████████████████████| 240/240 [00:02<00:00, 108.58it/s, val_loss=0.34120339]\n",
      "Training Epoch [5/5]: 100%|████████████████████████████████████████████| 960/960 [00:09<00:00, 101.41it/s, train_loss=0.30490240, val_loss=0.34120339]\n",
      "Validation Epoch [5/5]: 100%|█████████████████████████████████████████████████████████████████| 240/240 [00:01<00:00, 125.18it/s, val_loss=0.33163064]\n"
     ]
    }
   ],
   "source": [
    "# train a model without Dropout\n",
    "model = SimpleNetwork(hidden_dim=hidden_dim, batch_size=batch_size, learning_rate=learning_rate)\n",
    "path = os.path.join('logs', 'Dropout_model_logs')\n",
    "if os.path.exists(path):\n",
    "    shutil.rmtree(path)\n",
    "path = os.path.join(path, f'Simple-model')\n",
    "tb_logger = SummaryWriter(path)\n",
    "\n",
    "# Train the classifier.\n",
    "train_dl, val_dl, _ = model.prepare_data()\n",
    "\n",
    "epochs = 5\n",
    "loss_func = F.cross_entropy # The loss function we use for regression (Could also be nn.L1Loss()).\n",
    "train_model(model, train_dl, val_dl, loss_func, tb_logger, epochs=epochs, name='Dropout')"
   ]
  },
  {
   "cell_type": "markdown",
   "metadata": {},
   "source": [
    "### Train a model with Dropout\n",
    "\n",
    "Now that we have already seen how our simple network should work, let us look at the model `DropoutNetwork` that is actually using Dropout."
   ]
  },
  {
   "cell_type": "code",
   "execution_count": 26,
   "metadata": {},
   "outputs": [
    {
     "name": "stderr",
     "output_type": "stream",
     "text": [
      "Training Epoch [1/5]: 100%|█████████████████████████████████████████████| 960/960 [00:12<00:00, 74.16it/s, train_loss=0.49560051, val_loss=0.00000000]\n",
      "Validation Epoch [1/5]: 100%|█████████████████████████████████████████████████████████████████| 240/240 [00:01<00:00, 152.64it/s, val_loss=0.41237447]\n",
      "Training Epoch [2/5]: 100%|█████████████████████████████████████████████| 960/960 [00:12<00:00, 78.91it/s, train_loss=0.37492261, val_loss=0.41237447]\n",
      "Validation Epoch [2/5]: 100%|██████████████████████████████████████████████████████████████████| 240/240 [00:02<00:00, 89.07it/s, val_loss=0.39313713]\n",
      "Training Epoch [3/5]: 100%|█████████████████████████████████████████████| 960/960 [00:13<00:00, 70.64it/s, train_loss=0.33560108, val_loss=0.39313713]\n",
      "Validation Epoch [3/5]: 100%|█████████████████████████████████████████████████████████████████| 240/240 [00:01<00:00, 158.32it/s, val_loss=0.35334592]\n",
      "Training Epoch [4/5]: 100%|█████████████████████████████████████████████| 960/960 [00:12<00:00, 77.25it/s, train_loss=0.30786043, val_loss=0.35334592]\n",
      "Validation Epoch [4/5]: 100%|█████████████████████████████████████████████████████████████████| 240/240 [00:01<00:00, 161.63it/s, val_loss=0.34819740]\n",
      "Training Epoch [5/5]: 100%|█████████████████████████████████████████████| 960/960 [00:14<00:00, 67.99it/s, train_loss=0.28784596, val_loss=0.34819740]\n",
      "Validation Epoch [5/5]: 100%|█████████████████████████████████████████████████████████████████| 240/240 [00:01<00:00, 122.49it/s, val_loss=0.34161092]\n"
     ]
    }
   ],
   "source": [
    "# train a model with Dropout\n",
    "model = DropoutNetwork(hidden_dim=hidden_dim, batch_size=batch_size, learning_rate=learning_rate,dropout_p=0.2)\n",
    "path = os.path.join('logs', 'Dropout_model_logs')\n",
    "path = os.path.join(path, f'Dropout-model')\n",
    "tb_logger = SummaryWriter(path)\n",
    "\n",
    "# Train the classifier.\n",
    "train_dl, val_dl, _ = model.prepare_data()\n",
    "\n",
    "epochs = 5\n",
    "loss_func = F.cross_entropy # The loss function we use for regression (Could also be nn.L1Loss()).\n",
    "train_model(model, train_dl, val_dl, loss_func, tb_logger, epochs=epochs, name='Dropout')"
   ]
  },
  {
   "cell_type": "markdown",
   "metadata": {},
   "source": [
    "### Observations\n",
    "\n",
    "Take a look at TensorBoard to compare the performance of both networks:"
   ]
  },
  {
   "cell_type": "code",
   "execution_count": null,
   "metadata": {},
   "outputs": [],
   "source": [
    "%load_ext tensorboard\n",
    "%tensorboard --logdir dropout_logs"
   ]
  },
  {
   "cell_type": "markdown",
   "metadata": {},
   "source": [
    "By using Dropout, it becomes evident that the Training Loss may increase; however, the model tends to exhibit improved performance on the Validation Set. Similar to Batch Normalization, Dropout demonstrates distinct behavior during training and testing phases."
   ]
  }
 ],
 "metadata": {
  "kernelspec": {
   "display_name": "i2dl",
   "language": "python",
   "name": "python3"
  },
  "language_info": {
   "codemirror_mode": {
    "name": "ipython",
    "version": 3
   },
   "file_extension": ".py",
   "mimetype": "text/x-python",
   "name": "python",
   "nbconvert_exporter": "python",
   "pygments_lexer": "ipython3",
   "version": "3.11.10"
  }
 },
 "nbformat": 4,
 "nbformat_minor": 1
}
