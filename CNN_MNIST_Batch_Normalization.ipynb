{
  "cells": [
    {
      "cell_type": "markdown",
      "metadata": {
        "id": "80ryF5K1KUwe"
      },
      "source": [
        "## CNN use pytorch in MNIST dataset"
      ]
    },
    {
      "cell_type": "code",
      "execution_count": 3,
      "metadata": {
        "id": "znKp2OTXMCcA"
      },
      "outputs": [],
      "source": [
        "import torch\n",
        "import torch.nn as nn\n",
        "from torchvision import transforms\n",
        "import torch.utils.data as data\n",
        "import torchvision.datasets as datasets\n",
        "import matplotlib.pyplot as plt\n",
        "import numpy as np"
      ]
    },
    {
      "cell_type": "code",
      "execution_count": 4,
      "metadata": {
        "colab": {
          "base_uri": "https://localhost:8080/",
          "height": 423,
          "referenced_widgets": [
            "cd366b50cc7b4843bc1b5a78edfa4b50",
            "8dba287b18554bc194d65bd0945265a4",
            "1ad8cb175c984cc8911daf40d6aeb764",
            "41dd08a4f9ba4110869487b5bc2624d8",
            "2584ca5ad4374713aa3c6ae039e291d5",
            "c7ebb5d1efeb4f9e969ffe2847551667",
            "751ad3eb0065488db4ff93360ff26c7b",
            "c999200cae20442daf172fae5cfc7cc4",
            "91a8c4415f824fc48fa58ede761e089d",
            "07ba81cef9c0442e8ad49cea61de8dd2",
            "8ae62a8849e342409b476a855471ed74",
            "54529d39e9ec4378b9c857396c8648bf",
            "9ef5e4f7b6194610a85ce3feabd870d2",
            "eacc4e6bb0ca496b9f5421a6158b7f8f",
            "d36592f41c7f4e27bb1c6f31ee08927d",
            "4ddef9e861bd417e9b04d8b449a7d36c",
            "42d01745213243049a52e9020e16df9d",
            "74df1003651645d5929170fc14de78d8",
            "243a823a59ab4118a120cda4563bf474",
            "22062920eb9f47b9ae3123ee1eb74edb",
            "2299921fa69e4dad8128eb9a471ba2a2",
            "667ff810550040c28e694091de0932b0",
            "34c59e158bd94e6c8b6a949d46433108",
            "036bda68541340c391892989e20a0a8c",
            "44fc824c62c34bf39e97e1cd79adbf8a",
            "1f96bbf0261f4dc6b9136aff959843d2",
            "6bb6a43c35d147a79f6777a4c83f25c9",
            "38ed3380f5994adfa76dda54a52eb3ac",
            "05181549df9d456dabc63b6923f0c9f5",
            "5ccfa3c9f0c3421598dc87cd38bd75d2",
            "ea9bdd9ca6ff4db4ab4ceb2262b62107",
            "7852a757dbb3433a927621ef9d69d42b",
            "515efd6744174470aa164ad3600c81b5",
            "f92a02fc54d64a8ba01ab52420aa62b1",
            "2d3d939febdb4851b90a0220fbb89ac3",
            "220e34770c3444428f74b5a5f69f8079",
            "676b704abb0e426280294b831550e643",
            "074e29c0b76b4e87b735282966c25fff",
            "afd5c6832ba44ee7803c83a5979e566f",
            "8b760b345cc44f7080d4ea8177a0a33d",
            "61ca4e55a89d4b8fa08c51c091a95ce9",
            "760cb9ce872942b483c17ee3b106efef",
            "b3057d7adca7430cbd67e1a63910a289",
            "49c5c930035140b397b2709f34015a04"
          ]
        },
        "id": "c1QIowgpMEvI",
        "outputId": "49b5b745-9877-4e74-8d72-fc98f7b0d3d9"
      },
      "outputs": [
        {
          "output_type": "stream",
          "name": "stdout",
          "text": [
            "Downloading http://yann.lecun.com/exdb/mnist/train-images-idx3-ubyte.gz\n",
            "Downloading http://yann.lecun.com/exdb/mnist/train-images-idx3-ubyte.gz to data/MNIST/raw/train-images-idx3-ubyte.gz\n"
          ]
        },
        {
          "output_type": "display_data",
          "data": {
            "text/plain": [
              "  0%|          | 0/9912422 [00:00<?, ?it/s]"
            ],
            "application/vnd.jupyter.widget-view+json": {
              "version_major": 2,
              "version_minor": 0,
              "model_id": "cd366b50cc7b4843bc1b5a78edfa4b50"
            }
          },
          "metadata": {}
        },
        {
          "output_type": "stream",
          "name": "stdout",
          "text": [
            "Extracting data/MNIST/raw/train-images-idx3-ubyte.gz to data/MNIST/raw\n",
            "\n",
            "Downloading http://yann.lecun.com/exdb/mnist/train-labels-idx1-ubyte.gz\n",
            "Downloading http://yann.lecun.com/exdb/mnist/train-labels-idx1-ubyte.gz to data/MNIST/raw/train-labels-idx1-ubyte.gz\n"
          ]
        },
        {
          "output_type": "display_data",
          "data": {
            "text/plain": [
              "  0%|          | 0/28881 [00:00<?, ?it/s]"
            ],
            "application/vnd.jupyter.widget-view+json": {
              "version_major": 2,
              "version_minor": 0,
              "model_id": "54529d39e9ec4378b9c857396c8648bf"
            }
          },
          "metadata": {}
        },
        {
          "output_type": "stream",
          "name": "stdout",
          "text": [
            "Extracting data/MNIST/raw/train-labels-idx1-ubyte.gz to data/MNIST/raw\n",
            "\n",
            "Downloading http://yann.lecun.com/exdb/mnist/t10k-images-idx3-ubyte.gz\n",
            "Downloading http://yann.lecun.com/exdb/mnist/t10k-images-idx3-ubyte.gz to data/MNIST/raw/t10k-images-idx3-ubyte.gz\n"
          ]
        },
        {
          "output_type": "display_data",
          "data": {
            "text/plain": [
              "  0%|          | 0/1648877 [00:00<?, ?it/s]"
            ],
            "application/vnd.jupyter.widget-view+json": {
              "version_major": 2,
              "version_minor": 0,
              "model_id": "34c59e158bd94e6c8b6a949d46433108"
            }
          },
          "metadata": {}
        },
        {
          "output_type": "stream",
          "name": "stdout",
          "text": [
            "Extracting data/MNIST/raw/t10k-images-idx3-ubyte.gz to data/MNIST/raw\n",
            "\n",
            "Downloading http://yann.lecun.com/exdb/mnist/t10k-labels-idx1-ubyte.gz\n",
            "Downloading http://yann.lecun.com/exdb/mnist/t10k-labels-idx1-ubyte.gz to data/MNIST/raw/t10k-labels-idx1-ubyte.gz\n"
          ]
        },
        {
          "output_type": "display_data",
          "data": {
            "text/plain": [
              "  0%|          | 0/4542 [00:00<?, ?it/s]"
            ],
            "application/vnd.jupyter.widget-view+json": {
              "version_major": 2,
              "version_minor": 0,
              "model_id": "f92a02fc54d64a8ba01ab52420aa62b1"
            }
          },
          "metadata": {}
        },
        {
          "output_type": "stream",
          "name": "stdout",
          "text": [
            "Extracting data/MNIST/raw/t10k-labels-idx1-ubyte.gz to data/MNIST/raw\n",
            "\n"
          ]
        }
      ],
      "source": [
        "# Download MNIST dataset in local system\n",
        "from torchvision import datasets\n",
        "from torchvision.transforms import ToTensor\n",
        "train_data = datasets.MNIST (\n",
        "   root = \"data\",              # 保存的位置\n",
        "   train = True,               # this is training data \n",
        "   transform = ToTensor (),    # Converts a PIL.Image or numpy.ndarray to tensor  # 把灰階從 0~255 壓縮到 0~1\n",
        "                               # torch.FloatTensor (C x H x W), 訓練的時候 normalize 成 [0, 1]區間\n",
        "   download = True, \n",
        ") \n",
        "test_data = datasets.MNIST (\n",
        "    root = \"data\",\n",
        "    train = False,             # 不用 train\n",
        "    transform = ToTensor ()\n",
        ")\n",
        "\n",
        "# split test dataset to test_data and val_data\n",
        "val_data, test_data = data.random_split (test_data, [int (0.9 * len (test_data)), int (0.1 * len (test_data))])\n"
      ]
    },
    {
      "cell_type": "code",
      "execution_count": null,
      "metadata": {
        "colab": {
          "base_uri": "https://localhost:8080/"
        },
        "id": "0dCNCmOrCHA9",
        "outputId": "85ad53d8-73f1-420a-ff8f-51ca585226ef"
      },
      "outputs": [
        {
          "name": "stdout",
          "output_type": "stream",
          "text": [
            "Training dataset size:  60000\n",
            "Validation dataset size:  1000\n",
            "Testing dataset size:  9000\n"
          ]
        }
      ],
      "source": [
        "# print (\"Training dataset size: \", len (train_data))\n",
        "# print (\"Validation dataset size: \", len (test_data))\n",
        "# print (\"Testing dataset size: \", len (val_data))\n"
      ]
    },
    {
      "cell_type": "code",
      "execution_count": 5,
      "metadata": {
        "id": "l8kAaw15B1Wm"
      },
      "outputs": [],
      "source": [
        "# Preparing data for training with DataLoaders\n",
        "loaders = {\n",
        "    'train' : data.DataLoader (dataset = train_data,\n",
        "                               batch_size = 100, \n",
        "                               shuffle = True, \n",
        "                               num_workers = 1),  # 表示開多少個thread個去運算數據\n",
        "    \n",
        "    'test'  : data.DataLoader (dataset = test_data, \n",
        "                               batch_size = 100, \n",
        "                               shuffle = True, \n",
        "                               num_workers = 1),\n",
        "    'val'  : data.DataLoader (dataset = val_data, \n",
        "                               batch_size = 100, \n",
        "                               shuffle = True, \n",
        "                               num_workers = 1),\n",
        "}"
      ]
    },
    {
      "cell_type": "code",
      "execution_count": null,
      "metadata": {
        "colab": {
          "base_uri": "https://localhost:8080/",
          "height": 223
        },
        "id": "AqYHbrTXDCNH",
        "outputId": "231b9acc-bd18-4618-f1da-7975f41e16f0"
      },
      "outputs": [
        {
          "data": {
            "image/png": "[encoded data removed]",
            "text/plain": [
              "<Figure size 1440x720 with 5 Axes>"
            ]
          },
          "metadata": {},
          "output_type": "display_data"
        }
      ],
      "source": [
        "# Visualize data\n",
        "# fig= plt.figure (figsize=(20, 10))\n",
        "# for i in range (1, 6) :\n",
        "#     img = transforms .ToPILImage (mode = \"L\") (train_data [i][0])  # value\n",
        "#     fig.add_subplot (1, 6, i)   # (row，col)\n",
        "#     plt.title (train_data[i][1])  # index\n",
        "#     plt.imshow (img)\n",
        "# plt.show()"
      ]
    },
    {
      "cell_type": "code",
      "execution_count": 7,
      "metadata": {
        "id": "QHCNoMgrGcCN"
      },
      "outputs": [],
      "source": [
        "# Define the Convolutional Neural Network model\n",
        "# Conv2d: Applies a 2D convolution over an input signal composed of several input planes.\n",
        "class CNN (nn.Module) :\n",
        "    def __init__ (self) :\n",
        "        super (CNN, self).__init__()       # 調用了nn.Module.__init__()\n",
        "        self.conv1 = nn.Sequential(        ## input shape (1, 28, 28)\n",
        "            nn.Conv2d (                    # convolution filter\n",
        "                in_channels = 1,           # input height   # gray\n",
        "                out_channels = 16,         # n_filters      # extract 16 feature\n",
        "                kernel_size = 5,           # filter size\n",
        "                stride = 1,                # filter movement/step\n",
        "                padding = 2,               # if want same width and length of this image after Conv2d, padding=(kernel_size-1)/2 if stride=1\n",
        "            ),\n",
        "            nn.ReLU (),                    ## output shape (16, 28, 28)\n",
        "            nn.MaxPool2d (kernel_size = 2),# choose max value in 2x2 area, ## output shape (16, 14, 14)\n",
        "            nn.BatchNorm2d (16, eps = 1e-5, momentum = 0.1, affine = True, track_running_stats = True )\n",
        "        )\n",
        "        self.conv2 = nn.Sequential (       ## input shape (16, 14, 14)\n",
        "            nn.Conv2d (16, 32 ,5 ,1 ,2),   ## output shape (32, 14, 14)\n",
        "            nn.ReLU (),\n",
        "            nn.MaxPool2d (2),              ## output shape (32, 7, 7)\n",
        "            nn.BatchNorm2d (32, eps = 1e-5, momentum = 0.1, affine = True, track_running_stats = True ),\n",
        "        )\n",
        "        # fully connected layer, output 10 classes\n",
        "        self.out = nn.Linear (32 * 7 * 7, 10)   #flatten\n",
        "\n",
        "    # Pass defines the way we compute our output using the given layers and functions.\n",
        "    def forward (self, x) :\n",
        "        x = self.conv1 (x)\n",
        "        x = self.conv2 (x)                 # (batch_size, 32 ,7 , 7)\n",
        "        x = x.view (x.size (0), -1)        # flatten the output of conv2 to (batch_size, 32 * 7 * 7)\n",
        "        pred = self.out (x)\n",
        "        return pred"
      ]
    },
    {
      "cell_type": "code",
      "execution_count": 8,
      "metadata": {
        "colab": {
          "base_uri": "https://localhost:8080/"
        },
        "id": "mWr87gwIr8bx",
        "outputId": "fab0231c-8d4c-4aab-c173-70fd47772747"
      },
      "outputs": [
        {
          "output_type": "stream",
          "name": "stdout",
          "text": [
            "CNN(\n",
            "  (conv1): Sequential(\n",
            "    (0): Conv2d(1, 16, kernel_size=(5, 5), stride=(1, 1), padding=(2, 2))\n",
            "    (1): ReLU()\n",
            "    (2): MaxPool2d(kernel_size=2, stride=2, padding=0, dilation=1, ceil_mode=False)\n",
            "    (3): BatchNorm2d(16, eps=1e-05, momentum=0.1, affine=True, track_running_stats=True)\n",
            "  )\n",
            "  (conv2): Sequential(\n",
            "    (0): Conv2d(16, 32, kernel_size=(5, 5), stride=(1, 1), padding=(2, 2))\n",
            "    (1): ReLU()\n",
            "    (2): MaxPool2d(kernel_size=2, stride=2, padding=0, dilation=1, ceil_mode=False)\n",
            "    (3): BatchNorm2d(32, eps=1e-05, momentum=0.1, affine=True, track_running_stats=True)\n",
            "  )\n",
            "  (out): Linear(in_features=1568, out_features=10, bias=True)\n",
            ")\n",
            "SGD (\n",
            "Parameter Group 0\n",
            "    dampening: 0\n",
            "    differentiable: False\n",
            "    foreach: None\n",
            "    lr: 0.01\n",
            "    maximize: False\n",
            "    momentum: 0\n",
            "    nesterov: False\n",
            "    weight_decay: 0\n",
            ")\n"
          ]
        }
      ],
      "source": [
        "# net architecture\n",
        "cnn = CNN ()\n",
        "print (cnn) \n",
        "\n",
        "# Define loss function\n",
        "criterion = nn.CrossEntropyLoss ()  # combines a softmax function nn.LogSoftmax() along with nn.NLLLoss() loss function.\n",
        "\n",
        "# Define a Optimization Function\n",
        "optimizer = torch.optim.SGD (cnn.parameters (), lr = 0.01)\n",
        "print (optimizer)"
      ]
    },
    {
      "cell_type": "code",
      "execution_count": 9,
      "metadata": {
        "colab": {
          "base_uri": "https://localhost:8080/"
        },
        "id": "LgjbGQHskkMO",
        "outputId": "b5fc78b1-732d-4ca4-ba43-b2ff688de6a8"
      },
      "outputs": [
        {
          "output_type": "stream",
          "name": "stdout",
          "text": [
            "\n",
            "Epoch: 1/50, Train Loss: 0.19670458, Val Loss: 0.08042762, Val Accuracy: 0.97833333\n",
            "\n",
            "Epoch: 2/50, Train Loss: 0.07400516, Val Loss: 0.05690332, Val Accuracy: 0.98322222\n",
            "\n",
            "Epoch: 3/50, Train Loss: 0.05548269, Val Loss: 0.04788195, Val Accuracy: 0.98588889\n",
            "\n",
            "Epoch: 4/50, Train Loss: 0.04614924, Val Loss: 0.04161211, Val Accuracy: 0.98700000\n",
            "\n",
            "Epoch: 5/50, Train Loss: 0.03975684, Val Loss: 0.03874188, Val Accuracy: 0.98777778\n",
            "\n",
            "Epoch: 6/50, Train Loss: 0.03494553, Val Loss: 0.03757785, Val Accuracy: 0.98855556\n",
            "\n",
            "Epoch: 7/50, Train Loss: 0.03139255, Val Loss: 0.03466039, Val Accuracy: 0.98833333\n",
            "\n",
            "Epoch: 8/50, Train Loss: 0.02832782, Val Loss: 0.03548139, Val Accuracy: 0.98822222\n",
            "\n",
            "Epoch: 9/50, Train Loss: 0.02577370, Val Loss: 0.03136929, Val Accuracy: 0.98988889\n",
            "\n",
            "Epoch: 10/50, Train Loss: 0.02372688, Val Loss: 0.03072898, Val Accuracy: 0.98955556\n",
            "\n",
            "Epoch: 11/50, Train Loss: 0.02178524, Val Loss: 0.02975199, Val Accuracy: 0.99100000\n",
            "\n",
            "Epoch: 12/50, Train Loss: 0.02031662, Val Loss: 0.02964868, Val Accuracy: 0.98911111\n",
            "\n",
            "Epoch: 13/50, Train Loss: 0.01854158, Val Loss: 0.02944357, Val Accuracy: 0.99133333\n",
            "\n",
            "Epoch: 14/50, Train Loss: 0.01744645, Val Loss: 0.02934422, Val Accuracy: 0.99111111\n",
            "\n",
            "Epoch: 15/50, Train Loss: 0.01604248, Val Loss: 0.02884998, Val Accuracy: 0.99033333\n",
            "\n",
            "Epoch: 16/50, Train Loss: 0.01508594, Val Loss: 0.02747900, Val Accuracy: 0.99088889\n",
            "\n",
            "Epoch: 17/50, Train Loss: 0.01412560, Val Loss: 0.02653745, Val Accuracy: 0.99122222\n",
            "\n",
            "Epoch: 18/50, Train Loss: 0.01331659, Val Loss: 0.02732068, Val Accuracy: 0.99044444\n",
            "\n",
            "Epoch: 19/50, Train Loss: 0.01218854, Val Loss: 0.02667872, Val Accuracy: 0.99166667\n",
            "\n",
            "Epoch: 20/50, Train Loss: 0.01153393, Val Loss: 0.02497177, Val Accuracy: 0.99177778\n",
            "\n",
            "Epoch: 21/50, Train Loss: 0.01083110, Val Loss: 0.02569530, Val Accuracy: 0.99166667\n",
            "\n",
            "Epoch: 22/50, Train Loss: 0.01024566, Val Loss: 0.02599520, Val Accuracy: 0.99122222\n",
            "\n",
            "Epoch: 23/50, Train Loss: 0.00954938, Val Loss: 0.02617990, Val Accuracy: 0.99122222\n",
            "\n",
            "Epoch: 24/50, Train Loss: 0.00893193, Val Loss: 0.02559824, Val Accuracy: 0.99155556\n",
            "\n",
            "Epoch: 25/50, Train Loss: 0.00851217, Val Loss: 0.02590769, Val Accuracy: 0.99155556\n",
            "\n",
            "Epoch: 26/50, Train Loss: 0.00807191, Val Loss: 0.02637960, Val Accuracy: 0.99133333\n",
            "\n",
            "Epoch: 27/50, Train Loss: 0.00761690, Val Loss: 0.02540934, Val Accuracy: 0.99177778\n",
            "\n",
            "Epoch: 28/50, Train Loss: 0.00716540, Val Loss: 0.02552405, Val Accuracy: 0.99177778\n",
            "\n",
            "Epoch: 29/50, Train Loss: 0.00680609, Val Loss: 0.02526463, Val Accuracy: 0.99200000\n",
            "\n",
            "Epoch: 30/50, Train Loss: 0.00640291, Val Loss: 0.02612402, Val Accuracy: 0.99144444\n",
            "\n",
            "Epoch: 31/50, Train Loss: 0.00616864, Val Loss: 0.02468201, Val Accuracy: 0.99155556\n",
            "\n",
            "Epoch: 32/50, Train Loss: 0.00567944, Val Loss: 0.02585280, Val Accuracy: 0.99133333\n",
            "\n",
            "Epoch: 33/50, Train Loss: 0.00549818, Val Loss: 0.02436017, Val Accuracy: 0.99244444\n",
            "\n",
            "Epoch: 34/50, Train Loss: 0.00519423, Val Loss: 0.02430753, Val Accuracy: 0.99200000\n",
            "\n",
            "Epoch: 35/50, Train Loss: 0.00501975, Val Loss: 0.02494031, Val Accuracy: 0.99188889\n",
            "\n",
            "Epoch: 36/50, Train Loss: 0.00475729, Val Loss: 0.02440137, Val Accuracy: 0.99177778\n",
            "\n",
            "Epoch: 37/50, Train Loss: 0.00461237, Val Loss: 0.02422944, Val Accuracy: 0.99266667\n",
            "\n",
            "Epoch: 38/50, Train Loss: 0.00436681, Val Loss: 0.02462117, Val Accuracy: 0.99188889\n",
            "\n",
            "Epoch: 39/50, Train Loss: 0.00411703, Val Loss: 0.02453221, Val Accuracy: 0.99211111\n",
            "\n",
            "Epoch: 40/50, Train Loss: 0.00399261, Val Loss: 0.02432633, Val Accuracy: 0.99222222\n",
            "\n",
            "Epoch: 41/50, Train Loss: 0.00381692, Val Loss: 0.02455623, Val Accuracy: 0.99244444\n",
            "\n",
            "Epoch: 42/50, Train Loss: 0.00364148, Val Loss: 0.02420436, Val Accuracy: 0.99233333\n",
            "\n",
            "Epoch: 43/50, Train Loss: 0.00352805, Val Loss: 0.02480980, Val Accuracy: 0.99177778\n",
            "\n",
            "Epoch: 44/50, Train Loss: 0.00339134, Val Loss: 0.02439550, Val Accuracy: 0.99222222\n",
            "\n",
            "Epoch: 45/50, Train Loss: 0.00324965, Val Loss: 0.02405705, Val Accuracy: 0.99222222\n",
            "\n",
            "Epoch: 46/50, Train Loss: 0.00315077, Val Loss: 0.02403205, Val Accuracy: 0.99233333\n",
            "\n",
            "Epoch: 47/50, Train Loss: 0.00302613, Val Loss: 0.02497275, Val Accuracy: 0.99222222\n",
            "\n",
            "Epoch: 48/50, Train Loss: 0.00295365, Val Loss: 0.02385126, Val Accuracy: 0.99211111\n",
            "\n",
            "Epoch: 49/50, Train Loss: 0.00284166, Val Loss: 0.02485691, Val Accuracy: 0.99188889\n",
            "\n",
            "Epoch: 50/50, Train Loss: 0.00275668, Val Loss: 0.02491863, Val Accuracy: 0.99211111\n"
          ]
        }
      ],
      "source": [
        "# Training and Valdiation\n",
        "no_epochs = 50\n",
        "train_loss = list()\n",
        "val_loss = list()\n",
        "best_val_loss = 1\n",
        "for epoch in range (no_epochs):\n",
        "    total_train_loss = 0\n",
        "    total_val_loss = 0\n",
        "\n",
        "    # Training\n",
        "    cnn.train()\n",
        "    for itr, (image, label) in enumerate (loaders ['train']) :  # enumerate 把 load 進來的 data 列出來成（x, y）\n",
        "        pred = cnn(image)                 # 計算預測值 \n",
        "        loss = criterion (pred, label)    # cross entropy loss\n",
        "        total_train_loss += loss.item()   # item(): 只包含一個元素的 tensor中提取值\n",
        "        optimizer.zero_grad ()            # clear gradients for this training step\n",
        "        loss.backward()                   # backpropagation, compute gradients\n",
        "        optimizer.step()                  # apply gradients\n",
        "        \n",
        "    total_train_loss = total_train_loss / (itr + 1)\n",
        "    # Record train loss\n",
        "    train_loss.append(total_train_loss)\n",
        "\n",
        "    # Validation\n",
        "    cnn.eval()\n",
        "    total = 0\n",
        "    for itr, (image, label) in enumerate (loaders ['val']):\n",
        "        pred = cnn (image)\n",
        "        loss = criterion (pred, label)\n",
        "        total_val_loss += loss.item ()\n",
        "        pred = nn.functional.softmax (pred, dim = 1)  # 一維 # use softmax\n",
        "\n",
        "        for i, p in enumerate (pred) :\n",
        "            if label [i] == torch.max (p.data, 0)[1] :\n",
        "                total = total + 1\n",
        "\n",
        "    accuracy = total / len (val_data)\n",
        "\n",
        "    total_val_loss = total_val_loss / (itr + 1)\n",
        "    # Record validation loss\n",
        "    val_loss.append(total_val_loss)\n",
        "\n",
        "    print('\\nEpoch: {}/{}, Train Loss: {:.8f}, Val Loss: {:.8f}, Val Accuracy: {:.8f}'.format (epoch + 1, no_epochs, total_train_loss, total_val_loss, accuracy))"
      ]
    },
    {
      "cell_type": "code",
      "execution_count": 10,
      "metadata": {
        "colab": {
          "base_uri": "https://localhost:8080/",
          "height": 610
        },
        "id": "nxgO7ScfuRQo",
        "outputId": "593a227a-eed0-4676-fa9a-b5f613a9bcb4"
      },
      "outputs": [
        {
          "output_type": "display_data",
          "data": {
            "text/plain": [
              "<Figure size 1440x720 with 1 Axes>"
            ],
            "image/png": "[encoded data removed]"
          },
          "metadata": {
            "needs_background": "light"
          }
        }
      ],
      "source": [
        "  # train and validation loss plot\n",
        "fig = plt.figure (figsize = (20, 10))\n",
        "plt.plot (np.arange (1, no_epochs + 1), train_loss, label = \"Train loss\")   # np.arange()支援步長為小數\n",
        "plt.plot (np.arange (1, no_epochs + 1), val_loss, label= \"Validation loss\")\n",
        "plt.xlabel ('Loss')\n",
        "plt.ylabel ('Epochs')\n",
        "plt.title (\"Loss Plots\")\n",
        "plt.legend (loc = 'upper right')\n",
        "plt.show ()"
      ]
    },
    {
      "cell_type": "code",
      "execution_count": 11,
      "metadata": {
        "id": "UPnsF05fgYhA"
      },
      "outputs": [],
      "source": [
        "FILE = 'model_MNIST_CNN.pt'\n",
        "torch.save(cnn, FILE)"
      ]
    },
    {
      "cell_type": "code",
      "execution_count": 12,
      "metadata": {
        "colab": {
          "base_uri": "https://localhost:8080/"
        },
        "id": "TRZaKmkPLEjI",
        "outputId": "393aebaf-e511-4e61-e598-933549ed00b0"
      },
      "outputs": [
        {
          "output_type": "stream",
          "name": "stdout",
          "text": [
            "Test accuracy: 99.00000000\n"
          ]
        }
      ],
      "source": [
        "# test model\n",
        "model = torch.load('model_MNIST_CNN.pt')\n",
        "cnn.eval()\n",
        "\n",
        "results = list()\n",
        "total = 0\n",
        "for itr, (image, label) in enumerate((loaders ['test'])):\n",
        "\n",
        "    pred = cnn(image)\n",
        "    pred = torch.nn.functional.softmax(pred, dim=1)\n",
        "\n",
        "\n",
        "    for i, p in enumerate(pred):\n",
        "        if label[i] == torch.max(p.data, 0)[1]:\n",
        "            total = total + 1\n",
        "            results.append((image, torch.max(p.data, 0)[1]))\n",
        "\n",
        "test_accuracy = total / (itr + 1)\n",
        "print('Test accuracy: {:.8f}'.format(test_accuracy))"
      ]
    },
    {
      "cell_type": "code",
      "execution_count": 13,
      "metadata": {
        "colab": {
          "base_uri": "https://localhost:8080/"
        },
        "id": "hoSy-hAQrJUF",
        "outputId": "80e55e42-8bfd-44ef-c5a4-d6fbcacab7e9"
      },
      "outputs": [
        {
          "output_type": "stream",
          "name": "stdout",
          "text": [
            "Test Loss: 0.033360\n"
          ]
        }
      ],
      "source": [
        "test_loss = 0.0\n",
        "y_pred = [] \n",
        "cnn.eval()\n",
        "for image, label in (loaders ['test']):\n",
        "    output = cnn (image)\n",
        "    loss = criterion (output, label)\n",
        "    _, pred = torch.max (output, 1)\n",
        "    y_pred.append (pred)\n",
        "    test_loss += loss.item() * image.size(0)\n",
        "\n",
        "print('Test Loss: {:.6f}'.format(test_loss/len(loaders ['test'].sampler)))"
      ]
    },
    {
      "cell_type": "code",
      "execution_count": 14,
      "metadata": {
        "colab": {
          "base_uri": "https://localhost:8080/",
          "height": 459
        },
        "id": "h-1eIHsOkhxe",
        "outputId": "2672a9f7-d956-4985-c3d6-3765f615a23e"
      },
      "outputs": [
        {
          "output_type": "execute_result",
          "data": {
            "text/plain": [
              "Text(0.5, 42.0, 'Predicted label')"
            ]
          },
          "metadata": {},
          "execution_count": 14
        },
        {
          "output_type": "display_data",
          "data": {
            "text/plain": [
              "<Figure size 864x504 with 2 Axes>"
            ],
            "image/png": "[encoded data removed]"
          },
          "metadata": {
            "needs_background": "light"
          }
        }
      ],
      "source": [
        "# Build confusion matrix\n",
        "from sklearn.metrics import confusion_matrix\n",
        "import seaborn as sn\n",
        "import pandas as pd\n",
        "\n",
        "y_pred = []\n",
        "y_true = []\n",
        "\n",
        "# iterate over test data\n",
        "for inputs, labels in loaders ['test']:\n",
        "        output = cnn(inputs)  # Feed Network\n",
        "\n",
        "        output = (torch.max(torch.exp(output), 1)[1]).data.cpu().numpy()\n",
        "        y_pred.extend(output) # Save Prediction\n",
        "        \n",
        "        labels = labels.data.cpu().numpy()\n",
        "        y_true.extend(labels) # Save Truth\n",
        "\n",
        "\n",
        "cf_matrix = confusion_matrix(y_true, y_pred)\n",
        "plt.figure(figsize = (12,7))\n",
        "sn.heatmap(cf_matrix, annot=True, fmt=\"d\")\n",
        "plt.ylabel(\"True label\")\n",
        "plt.xlabel(\"Predicted label\")"
      ]
    },
    {
      "cell_type": "code",
      "execution_count": 15,
      "metadata": {
        "colab": {
          "base_uri": "https://localhost:8080/",
          "height": 643
        },
        "id": "WdQhSkRcZTl1",
        "outputId": "dc0faaa8-4acb-4b5d-c397-fbe43542de7c"
      },
      "outputs": [
        {
          "name": "stdout",
          "output_type": "stream",
          "text": [
            "n = 3\n"
          ]
        },
        {
          "output_type": "display_data",
          "data": {
            "text/plain": [
              "<Figure size 432x288 with 1 Axes>"
            ],
            "image/png": "[encoded data removed]"
          },
          "metadata": {
            "needs_background": "light"
          }
        },
        {
          "name": "stdout",
          "output_type": "stream",
          "text": [
            "Inference label: 6\n",
            "Ground truth label: 6\n",
            "------------------------------\n",
            "n = 8\n"
          ]
        },
        {
          "output_type": "display_data",
          "data": {
            "text/plain": [
              "<Figure size 432x288 with 1 Axes>"
            ],
            "image/png": "[encoded data removed]"
          },
          "metadata": {
            "needs_background": "light"
          }
        },
        {
          "name": "stdout",
          "output_type": "stream",
          "text": [
            "Inference label: 8\n",
            "Ground truth label: 8\n",
            "------------------------------\n",
            "n = -1\n"
          ]
        }
      ],
      "source": [
        "# visualize results\n",
        "def plot(a):\n",
        "    a *= 255\n",
        "    a = a.astype(np.uint8)\n",
        "    return a.reshape(28, 28)\n",
        "\n",
        "while True:\n",
        "    print(\"n = \", end = '')\n",
        "    n = int(input())\n",
        "    if n == -1: break\n",
        "    ax = plt.subplot()\n",
        "    plt.imshow(plot(val_data[n][0].numpy()), cmap = 'gray')\n",
        "    ax.get_xaxis().set_visible(False)\n",
        "    ax.get_yaxis().set_visible(False)\n",
        "    plt.show()\n",
        "\n",
        "    ### Print inference results corresponding to the image we plot\n",
        "    prediction = model(val_data[n][0].reshape(1, 1, 28, 28))\n",
        "    print(\"Inference label: {}\".format(np.argmax(prediction.detach().numpy(), axis = 1)[0]))\n",
        "    print(\"Ground truth label: {}\".format(val_data[n][1], axis = 0)) \n",
        "    print('------------------------------')"
      ]
    },
    {
      "cell_type": "markdown",
      "metadata": {
        "id": "jY1rVUHnKUxH"
      },
      "source": [
        "## Reference"
      ]
    },
    {
      "cell_type": "markdown",
      "metadata": {
        "id": "77kAX1O_uM-6"
      },
      "source": [
        "https://towardsdatascience.com/mnist-handwritten-digits-classification-using-a-convolutional-neural-network-cnn-af5fafbc35e9"
      ]
    }
  ],
  "metadata": {
    "colab": {
      "provenance": []
    },
    "kernelspec": {
      "display_name": "Python 3",
      "language": "python",
      "name": "python3"
    },
    "language_info": {
      "codemirror_mode": {
        "name": "ipython",
        "version": 3
      },
      "file_extension": ".py",
      "mimetype": "text/x-python",
      "name": "python",
      "nbconvert_exporter": "python",
      "pygments_lexer": "ipython3",
      "version": "3.8.8"
    },
    "widgets": {
      "application/vnd.jupyter.widget-state+json": {
        "cd366b50cc7b4843bc1b5a78edfa4b50": {
          "model_module": "@jupyter-widgets/controls",
          "model_name": "HBoxModel",
          "model_module_version": "1.5.0",
          "state": {
            "_dom_classes": [],
            "_model_module": "@jupyter-widgets/controls",
            "_model_module_version": "1.5.0",
            "_model_name": "HBoxModel",
            "_view_count": null,
            "_view_module": "@jupyter-widgets/controls",
            "_view_module_version": "1.5.0",
            "_view_name": "HBoxView",
            "box_style": "",
            "children": [
              "IPY_MODEL_8dba287b18554bc194d65bd0945265a4",
              "IPY_MODEL_1ad8cb175c984cc8911daf40d6aeb764",
              "IPY_MODEL_41dd08a4f9ba4110869487b5bc2624d8"
            ],
            "layout": "IPY_MODEL_2584ca5ad4374713aa3c6ae039e291d5"
          }
        },
        "8dba287b18554bc194d65bd0945265a4": {
          "model_module": "@jupyter-widgets/controls",
          "model_name": "HTMLModel",
          "model_module_version": "1.5.0",
          "state": {
            "_dom_classes": [],
            "_model_module": "@jupyter-widgets/controls",
            "_model_module_version": "1.5.0",
            "_model_name": "HTMLModel",
            "_view_count": null,
            "_view_module": "@jupyter-widgets/controls",
            "_view_module_version": "1.5.0",
            "_view_name": "HTMLView",
            "description": "",
            "description_tooltip": null,
            "layout": "IPY_MODEL_c7ebb5d1efeb4f9e969ffe2847551667",
            "placeholder": "​",
            "style": "IPY_MODEL_751ad3eb0065488db4ff93360ff26c7b",
            "value": "100%"
          }
        },
        "1ad8cb175c984cc8911daf40d6aeb764": {
          "model_module": "@jupyter-widgets/controls",
          "model_name": "FloatProgressModel",
          "model_module_version": "1.5.0",
          "state": {
            "_dom_classes": [],
            "_model_module": "@jupyter-widgets/controls",
            "_model_module_version": "1.5.0",
            "_model_name": "FloatProgressModel",
            "_view_count": null,
            "_view_module": "@jupyter-widgets/controls",
            "_view_module_version": "1.5.0",
            "_view_name": "ProgressView",
            "bar_style": "success",
            "description": "",
            "description_tooltip": null,
            "layout": "IPY_MODEL_c999200cae20442daf172fae5cfc7cc4",
            "max": 9912422,
            "min": 0,
            "orientation": "horizontal",
            "style": "IPY_MODEL_91a8c4415f824fc48fa58ede761e089d",
            "value": 9912422
          }
        },
        "41dd08a4f9ba4110869487b5bc2624d8": {
          "model_module": "@jupyter-widgets/controls",
          "model_name": "HTMLModel",
          "model_module_version": "1.5.0",
          "state": {
            "_dom_classes": [],
            "_model_module": "@jupyter-widgets/controls",
            "_model_module_version": "1.5.0",
            "_model_name": "HTMLModel",
            "_view_count": null,
            "_view_module": "@jupyter-widgets/controls",
            "_view_module_version": "1.5.0",
            "_view_name": "HTMLView",
            "description": "",
            "description_tooltip": null,
            "layout": "IPY_MODEL_07ba81cef9c0442e8ad49cea61de8dd2",
            "placeholder": "​",
            "style": "IPY_MODEL_8ae62a8849e342409b476a855471ed74",
            "value": " 9912422/9912422 [00:00&lt;00:00, 131838223.85it/s]"
          }
        },
        "2584ca5ad4374713aa3c6ae039e291d5": {
          "model_module": "@jupyter-widgets/base",
          "model_name": "LayoutModel",
          "model_module_version": "1.2.0",
          "state": {
            "_model_module": "@jupyter-widgets/base",
            "_model_module_version": "1.2.0",
            "_model_name": "LayoutModel",
            "_view_count": null,
            "_view_module": "@jupyter-widgets/base",
            "_view_module_version": "1.2.0",
            "_view_name": "LayoutView",
            "align_content": null,
            "align_items": null,
            "align_self": null,
            "border": null,
            "bottom": null,
            "display": null,
            "flex": null,
            "flex_flow": null,
            "grid_area": null,
            "grid_auto_columns": null,
            "grid_auto_flow": null,
            "grid_auto_rows": null,
            "grid_column": null,
            "grid_gap": null,
            "grid_row": null,
            "grid_template_areas": null,
            "grid_template_columns": null,
            "grid_template_rows": null,
            "height": null,
            "justify_content": null,
            "justify_items": null,
            "left": null,
            "margin": null,
            "max_height": null,
            "max_width": null,
            "min_height": null,
            "min_width": null,
            "object_fit": null,
            "object_position": null,
            "order": null,
            "overflow": null,
            "overflow_x": null,
            "overflow_y": null,
            "padding": null,
            "right": null,
            "top": null,
            "visibility": null,
            "width": null
          }
        },
        "c7ebb5d1efeb4f9e969ffe2847551667": {
          "model_module": "@jupyter-widgets/base",
          "model_name": "LayoutModel",
          "model_module_version": "1.2.0",
          "state": {
            "_model_module": "@jupyter-widgets/base",
            "_model_module_version": "1.2.0",
            "_model_name": "LayoutModel",
            "_view_count": null,
            "_view_module": "@jupyter-widgets/base",
            "_view_module_version": "1.2.0",
            "_view_name": "LayoutView",
            "align_content": null,
            "align_items": null,
            "align_self": null,
            "border": null,
            "bottom": null,
            "display": null,
            "flex": null,
            "flex_flow": null,
            "grid_area": null,
            "grid_auto_columns": null,
            "grid_auto_flow": null,
            "grid_auto_rows": null,
            "grid_column": null,
            "grid_gap": null,
            "grid_row": null,
            "grid_template_areas": null,
            "grid_template_columns": null,
            "grid_template_rows": null,
            "height": null,
            "justify_content": null,
            "justify_items": null,
            "left": null,
            "margin": null,
            "max_height": null,
            "max_width": null,
            "min_height": null,
            "min_width": null,
            "object_fit": null,
            "object_position": null,
            "order": null,
            "overflow": null,
            "overflow_x": null,
            "overflow_y": null,
            "padding": null,
            "right": null,
            "top": null,
            "visibility": null,
            "width": null
          }
        },
        "751ad3eb0065488db4ff93360ff26c7b": {
          "model_module": "@jupyter-widgets/controls",
          "model_name": "DescriptionStyleModel",
          "model_module_version": "1.5.0",
          "state": {
            "_model_module": "@jupyter-widgets/controls",
            "_model_module_version": "1.5.0",
            "_model_name": "DescriptionStyleModel",
            "_view_count": null,
            "_view_module": "@jupyter-widgets/base",
            "_view_module_version": "1.2.0",
            "_view_name": "StyleView",
            "description_width": ""
          }
        },
        "c999200cae20442daf172fae5cfc7cc4": {
          "model_module": "@jupyter-widgets/base",
          "model_name": "LayoutModel",
          "model_module_version": "1.2.0",
          "state": {
            "_model_module": "@jupyter-widgets/base",
            "_model_module_version": "1.2.0",
            "_model_name": "LayoutModel",
            "_view_count": null,
            "_view_module": "@jupyter-widgets/base",
            "_view_module_version": "1.2.0",
            "_view_name": "LayoutView",
            "align_content": null,
            "align_items": null,
            "align_self": null,
            "border": null,
            "bottom": null,
            "display": null,
            "flex": null,
            "flex_flow": null,
            "grid_area": null,
            "grid_auto_columns": null,
            "grid_auto_flow": null,
            "grid_auto_rows": null,
            "grid_column": null,
            "grid_gap": null,
            "grid_row": null,
            "grid_template_areas": null,
            "grid_template_columns": null,
            "grid_template_rows": null,
            "height": null,
            "justify_content": null,
            "justify_items": null,
            "left": null,
            "margin": null,
            "max_height": null,
            "max_width": null,
            "min_height": null,
            "min_width": null,
            "object_fit": null,
            "object_position": null,
            "order": null,
            "overflow": null,
            "overflow_x": null,
            "overflow_y": null,
            "padding": null,
            "right": null,
            "top": null,
            "visibility": null,
            "width": null
          }
        },
        "91a8c4415f824fc48fa58ede761e089d": {
          "model_module": "@jupyter-widgets/controls",
          "model_name": "ProgressStyleModel",
          "model_module_version": "1.5.0",
          "state": {
            "_model_module": "@jupyter-widgets/controls",
            "_model_module_version": "1.5.0",
            "_model_name": "ProgressStyleModel",
            "_view_count": null,
            "_view_module": "@jupyter-widgets/base",
            "_view_module_version": "1.2.0",
            "_view_name": "StyleView",
            "bar_color": null,
            "description_width": ""
          }
        },
        "07ba81cef9c0442e8ad49cea61de8dd2": {
          "model_module": "@jupyter-widgets/base",
          "model_name": "LayoutModel",
          "model_module_version": "1.2.0",
          "state": {
            "_model_module": "@jupyter-widgets/base",
            "_model_module_version": "1.2.0",
            "_model_name": "LayoutModel",
            "_view_count": null,
            "_view_module": "@jupyter-widgets/base",
            "_view_module_version": "1.2.0",
            "_view_name": "LayoutView",
            "align_content": null,
            "align_items": null,
            "align_self": null,
            "border": null,
            "bottom": null,
            "display": null,
            "flex": null,
            "flex_flow": null,
            "grid_area": null,
            "grid_auto_columns": null,
            "grid_auto_flow": null,
            "grid_auto_rows": null,
            "grid_column": null,
            "grid_gap": null,
            "grid_row": null,
            "grid_template_areas": null,
            "grid_template_columns": null,
            "grid_template_rows": null,
            "height": null,
            "justify_content": null,
            "justify_items": null,
            "left": null,
            "margin": null,
            "max_height": null,
            "max_width": null,
            "min_height": null,
            "min_width": null,
            "object_fit": null,
            "object_position": null,
            "order": null,
            "overflow": null,
            "overflow_x": null,
            "overflow_y": null,
            "padding": null,
            "right": null,
            "top": null,
            "visibility": null,
            "width": null
          }
        },
        "8ae62a8849e342409b476a855471ed74": {
          "model_module": "@jupyter-widgets/controls",
          "model_name": "DescriptionStyleModel",
          "model_module_version": "1.5.0",
          "state": {
            "_model_module": "@jupyter-widgets/controls",
            "_model_module_version": "1.5.0",
            "_model_name": "DescriptionStyleModel",
            "_view_count": null,
            "_view_module": "@jupyter-widgets/base",
            "_view_module_version": "1.2.0",
            "_view_name": "StyleView",
            "description_width": ""
          }
        },
        "54529d39e9ec4378b9c857396c8648bf": {
          "model_module": "@jupyter-widgets/controls",
          "model_name": "HBoxModel",
          "model_module_version": "1.5.0",
          "state": {
            "_dom_classes": [],
            "_model_module": "@jupyter-widgets/controls",
            "_model_module_version": "1.5.0",
            "_model_name": "HBoxModel",
            "_view_count": null,
            "_view_module": "@jupyter-widgets/controls",
            "_view_module_version": "1.5.0",
            "_view_name": "HBoxView",
            "box_style": "",
            "children": [
              "IPY_MODEL_9ef5e4f7b6194610a85ce3feabd870d2",
              "IPY_MODEL_eacc4e6bb0ca496b9f5421a6158b7f8f",
              "IPY_MODEL_d36592f41c7f4e27bb1c6f31ee08927d"
            ],
            "layout": "IPY_MODEL_4ddef9e861bd417e9b04d8b449a7d36c"
          }
        },
        "9ef5e4f7b6194610a85ce3feabd870d2": {
          "model_module": "@jupyter-widgets/controls",
          "model_name": "HTMLModel",
          "model_module_version": "1.5.0",
          "state": {
            "_dom_classes": [],
            "_model_module": "@jupyter-widgets/controls",
            "_model_module_version": "1.5.0",
            "_model_name": "HTMLModel",
            "_view_count": null,
            "_view_module": "@jupyter-widgets/controls",
            "_view_module_version": "1.5.0",
            "_view_name": "HTMLView",
            "description": "",
            "description_tooltip": null,
            "layout": "IPY_MODEL_42d01745213243049a52e9020e16df9d",
            "placeholder": "​",
            "style": "IPY_MODEL_74df1003651645d5929170fc14de78d8",
            "value": "100%"
          }
        },
        "eacc4e6bb0ca496b9f5421a6158b7f8f": {
          "model_module": "@jupyter-widgets/controls",
          "model_name": "FloatProgressModel",
          "model_module_version": "1.5.0",
          "state": {
            "_dom_classes": [],
            "_model_module": "@jupyter-widgets/controls",
            "_model_module_version": "1.5.0",
            "_model_name": "FloatProgressModel",
            "_view_count": null,
            "_view_module": "@jupyter-widgets/controls",
            "_view_module_version": "1.5.0",
            "_view_name": "ProgressView",
            "bar_style": "success",
            "description": "",
            "description_tooltip": null,
            "layout": "IPY_MODEL_243a823a59ab4118a120cda4563bf474",
            "max": 28881,
            "min": 0,
            "orientation": "horizontal",
            "style": "IPY_MODEL_22062920eb9f47b9ae3123ee1eb74edb",
            "value": 28881
          }
        },
        "d36592f41c7f4e27bb1c6f31ee08927d": {
          "model_module": "@jupyter-widgets/controls",
          "model_name": "HTMLModel",
          "model_module_version": "1.5.0",
          "state": {
            "_dom_classes": [],
            "_model_module": "@jupyter-widgets/controls",
            "_model_module_version": "1.5.0",
            "_model_name": "HTMLModel",
            "_view_count": null,
            "_view_module": "@jupyter-widgets/controls",
            "_view_module_version": "1.5.0",
            "_view_name": "HTMLView",
            "description": "",
            "description_tooltip": null,
            "layout": "IPY_MODEL_2299921fa69e4dad8128eb9a471ba2a2",
            "placeholder": "​",
            "style": "IPY_MODEL_667ff810550040c28e694091de0932b0",
            "value": " 28881/28881 [00:00&lt;00:00, 1292734.58it/s]"
          }
        },
        "4ddef9e861bd417e9b04d8b449a7d36c": {
          "model_module": "@jupyter-widgets/base",
          "model_name": "LayoutModel",
          "model_module_version": "1.2.0",
          "state": {
            "_model_module": "@jupyter-widgets/base",
            "_model_module_version": "1.2.0",
            "_model_name": "LayoutModel",
            "_view_count": null,
            "_view_module": "@jupyter-widgets/base",
            "_view_module_version": "1.2.0",
            "_view_name": "LayoutView",
            "align_content": null,
            "align_items": null,
            "align_self": null,
            "border": null,
            "bottom": null,
            "display": null,
            "flex": null,
            "flex_flow": null,
            "grid_area": null,
            "grid_auto_columns": null,
            "grid_auto_flow": null,
            "grid_auto_rows": null,
            "grid_column": null,
            "grid_gap": null,
            "grid_row": null,
            "grid_template_areas": null,
            "grid_template_columns": null,
            "grid_template_rows": null,
            "height": null,
            "justify_content": null,
            "justify_items": null,
            "left": null,
            "margin": null,
            "max_height": null,
            "max_width": null,
            "min_height": null,
            "min_width": null,
            "object_fit": null,
            "object_position": null,
            "order": null,
            "overflow": null,
            "overflow_x": null,
            "overflow_y": null,
            "padding": null,
            "right": null,
            "top": null,
            "visibility": null,
            "width": null
          }
        },
        "42d01745213243049a52e9020e16df9d": {
          "model_module": "@jupyter-widgets/base",
          "model_name": "LayoutModel",
          "model_module_version": "1.2.0",
          "state": {
            "_model_module": "@jupyter-widgets/base",
            "_model_module_version": "1.2.0",
            "_model_name": "LayoutModel",
            "_view_count": null,
            "_view_module": "@jupyter-widgets/base",
            "_view_module_version": "1.2.0",
            "_view_name": "LayoutView",
            "align_content": null,
            "align_items": null,
            "align_self": null,
            "border": null,
            "bottom": null,
            "display": null,
            "flex": null,
            "flex_flow": null,
            "grid_area": null,
            "grid_auto_columns": null,
            "grid_auto_flow": null,
            "grid_auto_rows": null,
            "grid_column": null,
            "grid_gap": null,
            "grid_row": null,
            "grid_template_areas": null,
            "grid_template_columns": null,
            "grid_template_rows": null,
            "height": null,
            "justify_content": null,
            "justify_items": null,
            "left": null,
            "margin": null,
            "max_height": null,
            "max_width": null,
            "min_height": null,
            "min_width": null,
            "object_fit": null,
            "object_position": null,
            "order": null,
            "overflow": null,
            "overflow_x": null,
            "overflow_y": null,
            "padding": null,
            "right": null,
            "top": null,
            "visibility": null,
            "width": null
          }
        },
        "74df1003651645d5929170fc14de78d8": {
          "model_module": "@jupyter-widgets/controls",
          "model_name": "DescriptionStyleModel",
          "model_module_version": "1.5.0",
          "state": {
            "_model_module": "@jupyter-widgets/controls",
            "_model_module_version": "1.5.0",
            "_model_name": "DescriptionStyleModel",
            "_view_count": null,
            "_view_module": "@jupyter-widgets/base",
            "_view_module_version": "1.2.0",
            "_view_name": "StyleView",
            "description_width": ""
          }
        },
        "243a823a59ab4118a120cda4563bf474": {
          "model_module": "@jupyter-widgets/base",
          "model_name": "LayoutModel",
          "model_module_version": "1.2.0",
          "state": {
            "_model_module": "@jupyter-widgets/base",
            "_model_module_version": "1.2.0",
            "_model_name": "LayoutModel",
            "_view_count": null,
            "_view_module": "@jupyter-widgets/base",
            "_view_module_version": "1.2.0",
            "_view_name": "LayoutView",
            "align_content": null,
            "align_items": null,
            "align_self": null,
            "border": null,
            "bottom": null,
            "display": null,
            "flex": null,
            "flex_flow": null,
            "grid_area": null,
            "grid_auto_columns": null,
            "grid_auto_flow": null,
            "grid_auto_rows": null,
            "grid_column": null,
            "grid_gap": null,
            "grid_row": null,
            "grid_template_areas": null,
            "grid_template_columns": null,
            "grid_template_rows": null,
            "height": null,
            "justify_content": null,
            "justify_items": null,
            "left": null,
            "margin": null,
            "max_height": null,
            "max_width": null,
            "min_height": null,
            "min_width": null,
            "object_fit": null,
            "object_position": null,
            "order": null,
            "overflow": null,
            "overflow_x": null,
            "overflow_y": null,
            "padding": null,
            "right": null,
            "top": null,
            "visibility": null,
            "width": null
          }
        },
        "22062920eb9f47b9ae3123ee1eb74edb": {
          "model_module": "@jupyter-widgets/controls",
          "model_name": "ProgressStyleModel",
          "model_module_version": "1.5.0",
          "state": {
            "_model_module": "@jupyter-widgets/controls",
            "_model_module_version": "1.5.0",
            "_model_name": "ProgressStyleModel",
            "_view_count": null,
            "_view_module": "@jupyter-widgets/base",
            "_view_module_version": "1.2.0",
            "_view_name": "StyleView",
            "bar_color": null,
            "description_width": ""
          }
        },
        "2299921fa69e4dad8128eb9a471ba2a2": {
          "model_module": "@jupyter-widgets/base",
          "model_name": "LayoutModel",
          "model_module_version": "1.2.0",
          "state": {
            "_model_module": "@jupyter-widgets/base",
            "_model_module_version": "1.2.0",
            "_model_name": "LayoutModel",
            "_view_count": null,
            "_view_module": "@jupyter-widgets/base",
            "_view_module_version": "1.2.0",
            "_view_name": "LayoutView",
            "align_content": null,
            "align_items": null,
            "align_self": null,
            "border": null,
            "bottom": null,
            "display": null,
            "flex": null,
            "flex_flow": null,
            "grid_area": null,
            "grid_auto_columns": null,
            "grid_auto_flow": null,
            "grid_auto_rows": null,
            "grid_column": null,
            "grid_gap": null,
            "grid_row": null,
            "grid_template_areas": null,
            "grid_template_columns": null,
            "grid_template_rows": null,
            "height": null,
            "justify_content": null,
            "justify_items": null,
            "left": null,
            "margin": null,
            "max_height": null,
            "max_width": null,
            "min_height": null,
            "min_width": null,
            "object_fit": null,
            "object_position": null,
            "order": null,
            "overflow": null,
            "overflow_x": null,
            "overflow_y": null,
            "padding": null,
            "right": null,
            "top": null,
            "visibility": null,
            "width": null
          }
        },
        "667ff810550040c28e694091de0932b0": {
          "model_module": "@jupyter-widgets/controls",
          "model_name": "DescriptionStyleModel",
          "model_module_version": "1.5.0",
          "state": {
            "_model_module": "@jupyter-widgets/controls",
            "_model_module_version": "1.5.0",
            "_model_name": "DescriptionStyleModel",
            "_view_count": null,
            "_view_module": "@jupyter-widgets/base",
            "_view_module_version": "1.2.0",
            "_view_name": "StyleView",
            "description_width": ""
          }
        },
        "34c59e158bd94e6c8b6a949d46433108": {
          "model_module": "@jupyter-widgets/controls",
          "model_name": "HBoxModel",
          "model_module_version": "1.5.0",
          "state": {
            "_dom_classes": [],
            "_model_module": "@jupyter-widgets/controls",
            "_model_module_version": "1.5.0",
            "_model_name": "HBoxModel",
            "_view_count": null,
            "_view_module": "@jupyter-widgets/controls",
            "_view_module_version": "1.5.0",
            "_view_name": "HBoxView",
            "box_style": "",
            "children": [
              "IPY_MODEL_036bda68541340c391892989e20a0a8c",
              "IPY_MODEL_44fc824c62c34bf39e97e1cd79adbf8a",
              "IPY_MODEL_1f96bbf0261f4dc6b9136aff959843d2"
            ],
            "layout": "IPY_MODEL_6bb6a43c35d147a79f6777a4c83f25c9"
          }
        },
        "036bda68541340c391892989e20a0a8c": {
          "model_module": "@jupyter-widgets/controls",
          "model_name": "HTMLModel",
          "model_module_version": "1.5.0",
          "state": {
            "_dom_classes": [],
            "_model_module": "@jupyter-widgets/controls",
            "_model_module_version": "1.5.0",
            "_model_name": "HTMLModel",
            "_view_count": null,
            "_view_module": "@jupyter-widgets/controls",
            "_view_module_version": "1.5.0",
            "_view_name": "HTMLView",
            "description": "",
            "description_tooltip": null,
            "layout": "IPY_MODEL_38ed3380f5994adfa76dda54a52eb3ac",
            "placeholder": "​",
            "style": "IPY_MODEL_05181549df9d456dabc63b6923f0c9f5",
            "value": "100%"
          }
        },
        "44fc824c62c34bf39e97e1cd79adbf8a": {
          "model_module": "@jupyter-widgets/controls",
          "model_name": "FloatProgressModel",
          "model_module_version": "1.5.0",
          "state": {
            "_dom_classes": [],
            "_model_module": "@jupyter-widgets/controls",
            "_model_module_version": "1.5.0",
            "_model_name": "FloatProgressModel",
            "_view_count": null,
            "_view_module": "@jupyter-widgets/controls",
            "_view_module_version": "1.5.0",
            "_view_name": "ProgressView",
            "bar_style": "success",
            "description": "",
            "description_tooltip": null,
            "layout": "IPY_MODEL_5ccfa3c9f0c3421598dc87cd38bd75d2",
            "max": 1648877,
            "min": 0,
            "orientation": "horizontal",
            "style": "IPY_MODEL_ea9bdd9ca6ff4db4ab4ceb2262b62107",
            "value": 1648877
          }
        },
        "1f96bbf0261f4dc6b9136aff959843d2": {
          "model_module": "@jupyter-widgets/controls",
          "model_name": "HTMLModel",
          "model_module_version": "1.5.0",
          "state": {
            "_dom_classes": [],
            "_model_module": "@jupyter-widgets/controls",
            "_model_module_version": "1.5.0",
            "_model_name": "HTMLModel",
            "_view_count": null,
            "_view_module": "@jupyter-widgets/controls",
            "_view_module_version": "1.5.0",
            "_view_name": "HTMLView",
            "description": "",
            "description_tooltip": null,
            "layout": "IPY_MODEL_7852a757dbb3433a927621ef9d69d42b",
            "placeholder": "​",
            "style": "IPY_MODEL_515efd6744174470aa164ad3600c81b5",
            "value": " 1648877/1648877 [00:00&lt;00:00, 52362571.81it/s]"
          }
        },
        "6bb6a43c35d147a79f6777a4c83f25c9": {
          "model_module": "@jupyter-widgets/base",
          "model_name": "LayoutModel",
          "model_module_version": "1.2.0",
          "state": {
            "_model_module": "@jupyter-widgets/base",
            "_model_module_version": "1.2.0",
            "_model_name": "LayoutModel",
            "_view_count": null,
            "_view_module": "@jupyter-widgets/base",
            "_view_module_version": "1.2.0",
            "_view_name": "LayoutView",
            "align_content": null,
            "align_items": null,
            "align_self": null,
            "border": null,
            "bottom": null,
            "display": null,
            "flex": null,
            "flex_flow": null,
            "grid_area": null,
            "grid_auto_columns": null,
            "grid_auto_flow": null,
            "grid_auto_rows": null,
            "grid_column": null,
            "grid_gap": null,
            "grid_row": null,
            "grid_template_areas": null,
            "grid_template_columns": null,
            "grid_template_rows": null,
            "height": null,
            "justify_content": null,
            "justify_items": null,
            "left": null,
            "margin": null,
            "max_height": null,
            "max_width": null,
            "min_height": null,
            "min_width": null,
            "object_fit": null,
            "object_position": null,
            "order": null,
            "overflow": null,
            "overflow_x": null,
            "overflow_y": null,
            "padding": null,
            "right": null,
            "top": null,
            "visibility": null,
            "width": null
          }
        },
        "38ed3380f5994adfa76dda54a52eb3ac": {
          "model_module": "@jupyter-widgets/base",
          "model_name": "LayoutModel",
          "model_module_version": "1.2.0",
          "state": {
            "_model_module": "@jupyter-widgets/base",
            "_model_module_version": "1.2.0",
            "_model_name": "LayoutModel",
            "_view_count": null,
            "_view_module": "@jupyter-widgets/base",
            "_view_module_version": "1.2.0",
            "_view_name": "LayoutView",
            "align_content": null,
            "align_items": null,
            "align_self": null,
            "border": null,
            "bottom": null,
            "display": null,
            "flex": null,
            "flex_flow": null,
            "grid_area": null,
            "grid_auto_columns": null,
            "grid_auto_flow": null,
            "grid_auto_rows": null,
            "grid_column": null,
            "grid_gap": null,
            "grid_row": null,
            "grid_template_areas": null,
            "grid_template_columns": null,
            "grid_template_rows": null,
            "height": null,
            "justify_content": null,
            "justify_items": null,
            "left": null,
            "margin": null,
            "max_height": null,
            "max_width": null,
            "min_height": null,
            "min_width": null,
            "object_fit": null,
            "object_position": null,
            "order": null,
            "overflow": null,
            "overflow_x": null,
            "overflow_y": null,
            "padding": null,
            "right": null,
            "top": null,
            "visibility": null,
            "width": null
          }
        },
        "05181549df9d456dabc63b6923f0c9f5": {
          "model_module": "@jupyter-widgets/controls",
          "model_name": "DescriptionStyleModel",
          "model_module_version": "1.5.0",
          "state": {
            "_model_module": "@jupyter-widgets/controls",
            "_model_module_version": "1.5.0",
            "_model_name": "DescriptionStyleModel",
            "_view_count": null,
            "_view_module": "@jupyter-widgets/base",
            "_view_module_version": "1.2.0",
            "_view_name": "StyleView",
            "description_width": ""
          }
        },
        "5ccfa3c9f0c3421598dc87cd38bd75d2": {
          "model_module": "@jupyter-widgets/base",
          "model_name": "LayoutModel",
          "model_module_version": "1.2.0",
          "state": {
            "_model_module": "@jupyter-widgets/base",
            "_model_module_version": "1.2.0",
            "_model_name": "LayoutModel",
            "_view_count": null,
            "_view_module": "@jupyter-widgets/base",
            "_view_module_version": "1.2.0",
            "_view_name": "LayoutView",
            "align_content": null,
            "align_items": null,
            "align_self": null,
            "border": null,
            "bottom": null,
            "display": null,
            "flex": null,
            "flex_flow": null,
            "grid_area": null,
            "grid_auto_columns": null,
            "grid_auto_flow": null,
            "grid_auto_rows": null,
            "grid_column": null,
            "grid_gap": null,
            "grid_row": null,
            "grid_template_areas": null,
            "grid_template_columns": null,
            "grid_template_rows": null,
            "height": null,
            "justify_content": null,
            "justify_items": null,
            "left": null,
            "margin": null,
            "max_height": null,
            "max_width": null,
            "min_height": null,
            "min_width": null,
            "object_fit": null,
            "object_position": null,
            "order": null,
            "overflow": null,
            "overflow_x": null,
            "overflow_y": null,
            "padding": null,
            "right": null,
            "top": null,
            "visibility": null,
            "width": null
          }
        },
        "ea9bdd9ca6ff4db4ab4ceb2262b62107": {
          "model_module": "@jupyter-widgets/controls",
          "model_name": "ProgressStyleModel",
          "model_module_version": "1.5.0",
          "state": {
            "_model_module": "@jupyter-widgets/controls",
            "_model_module_version": "1.5.0",
            "_model_name": "ProgressStyleModel",
            "_view_count": null,
            "_view_module": "@jupyter-widgets/base",
            "_view_module_version": "1.2.0",
            "_view_name": "StyleView",
            "bar_color": null,
            "description_width": ""
          }
        },
        "7852a757dbb3433a927621ef9d69d42b": {
          "model_module": "@jupyter-widgets/base",
          "model_name": "LayoutModel",
          "model_module_version": "1.2.0",
          "state": {
            "_model_module": "@jupyter-widgets/base",
            "_model_module_version": "1.2.0",
            "_model_name": "LayoutModel",
            "_view_count": null,
            "_view_module": "@jupyter-widgets/base",
            "_view_module_version": "1.2.0",
            "_view_name": "LayoutView",
            "align_content": null,
            "align_items": null,
            "align_self": null,
            "border": null,
            "bottom": null,
            "display": null,
            "flex": null,
            "flex_flow": null,
            "grid_area": null,
            "grid_auto_columns": null,
            "grid_auto_flow": null,
            "grid_auto_rows": null,
            "grid_column": null,
            "grid_gap": null,
            "grid_row": null,
            "grid_template_areas": null,
            "grid_template_columns": null,
            "grid_template_rows": null,
            "height": null,
            "justify_content": null,
            "justify_items": null,
            "left": null,
            "margin": null,
            "max_height": null,
            "max_width": null,
            "min_height": null,
            "min_width": null,
            "object_fit": null,
            "object_position": null,
            "order": null,
            "overflow": null,
            "overflow_x": null,
            "overflow_y": null,
            "padding": null,
            "right": null,
            "top": null,
            "visibility": null,
            "width": null
          }
        },
        "515efd6744174470aa164ad3600c81b5": {
          "model_module": "@jupyter-widgets/controls",
          "model_name": "DescriptionStyleModel",
          "model_module_version": "1.5.0",
          "state": {
            "_model_module": "@jupyter-widgets/controls",
            "_model_module_version": "1.5.0",
            "_model_name": "DescriptionStyleModel",
            "_view_count": null,
            "_view_module": "@jupyter-widgets/base",
            "_view_module_version": "1.2.0",
            "_view_name": "StyleView",
            "description_width": ""
          }
        },
        "f92a02fc54d64a8ba01ab52420aa62b1": {
          "model_module": "@jupyter-widgets/controls",
          "model_name": "HBoxModel",
          "model_module_version": "1.5.0",
          "state": {
            "_dom_classes": [],
            "_model_module": "@jupyter-widgets/controls",
            "_model_module_version": "1.5.0",
            "_model_name": "HBoxModel",
            "_view_count": null,
            "_view_module": "@jupyter-widgets/controls",
            "_view_module_version": "1.5.0",
            "_view_name": "HBoxView",
            "box_style": "",
            "children": [
              "IPY_MODEL_2d3d939febdb4851b90a0220fbb89ac3",
              "IPY_MODEL_220e34770c3444428f74b5a5f69f8079",
              "IPY_MODEL_676b704abb0e426280294b831550e643"
            ],
            "layout": "IPY_MODEL_074e29c0b76b4e87b735282966c25fff"
          }
        },
        "2d3d939febdb4851b90a0220fbb89ac3": {
          "model_module": "@jupyter-widgets/controls",
          "model_name": "HTMLModel",
          "model_module_version": "1.5.0",
          "state": {
            "_dom_classes": [],
            "_model_module": "@jupyter-widgets/controls",
            "_model_module_version": "1.5.0",
            "_model_name": "HTMLModel",
            "_view_count": null,
            "_view_module": "@jupyter-widgets/controls",
            "_view_module_version": "1.5.0",
            "_view_name": "HTMLView",
            "description": "",
            "description_tooltip": null,
            "layout": "IPY_MODEL_afd5c6832ba44ee7803c83a5979e566f",
            "placeholder": "​",
            "style": "IPY_MODEL_8b760b345cc44f7080d4ea8177a0a33d",
            "value": "100%"
          }
        },
        "220e34770c3444428f74b5a5f69f8079": {
          "model_module": "@jupyter-widgets/controls",
          "model_name": "FloatProgressModel",
          "model_module_version": "1.5.0",
          "state": {
            "_dom_classes": [],
            "_model_module": "@jupyter-widgets/controls",
            "_model_module_version": "1.5.0",
            "_model_name": "FloatProgressModel",
            "_view_count": null,
            "_view_module": "@jupyter-widgets/controls",
            "_view_module_version": "1.5.0",
            "_view_name": "ProgressView",
            "bar_style": "success",
            "description": "",
            "description_tooltip": null,
            "layout": "IPY_MODEL_61ca4e55a89d4b8fa08c51c091a95ce9",
            "max": 4542,
            "min": 0,
            "orientation": "horizontal",
            "style": "IPY_MODEL_760cb9ce872942b483c17ee3b106efef",
            "value": 4542
          }
        },
        "676b704abb0e426280294b831550e643": {
          "model_module": "@jupyter-widgets/controls",
          "model_name": "HTMLModel",
          "model_module_version": "1.5.0",
          "state": {
            "_dom_classes": [],
            "_model_module": "@jupyter-widgets/controls",
            "_model_module_version": "1.5.0",
            "_model_name": "HTMLModel",
            "_view_count": null,
            "_view_module": "@jupyter-widgets/controls",
            "_view_module_version": "1.5.0",
            "_view_name": "HTMLView",
            "description": "",
            "description_tooltip": null,
            "layout": "IPY_MODEL_b3057d7adca7430cbd67e1a63910a289",
            "placeholder": "​",
            "style": "IPY_MODEL_49c5c930035140b397b2709f34015a04",
            "value": " 4542/4542 [00:00&lt;00:00, 263511.01it/s]"
          }
        },
        "074e29c0b76b4e87b735282966c25fff": {
          "model_module": "@jupyter-widgets/base",
          "model_name": "LayoutModel",
          "model_module_version": "1.2.0",
          "state": {
            "_model_module": "@jupyter-widgets/base",
            "_model_module_version": "1.2.0",
            "_model_name": "LayoutModel",
            "_view_count": null,
            "_view_module": "@jupyter-widgets/base",
            "_view_module_version": "1.2.0",
            "_view_name": "LayoutView",
            "align_content": null,
            "align_items": null,
            "align_self": null,
            "border": null,
            "bottom": null,
            "display": null,
            "flex": null,
            "flex_flow": null,
            "grid_area": null,
            "grid_auto_columns": null,
            "grid_auto_flow": null,
            "grid_auto_rows": null,
            "grid_column": null,
            "grid_gap": null,
            "grid_row": null,
            "grid_template_areas": null,
            "grid_template_columns": null,
            "grid_template_rows": null,
            "height": null,
            "justify_content": null,
            "justify_items": null,
            "left": null,
            "margin": null,
            "max_height": null,
            "max_width": null,
            "min_height": null,
            "min_width": null,
            "object_fit": null,
            "object_position": null,
            "order": null,
            "overflow": null,
            "overflow_x": null,
            "overflow_y": null,
            "padding": null,
            "right": null,
            "top": null,
            "visibility": null,
            "width": null
          }
        },
        "afd5c6832ba44ee7803c83a5979e566f": {
          "model_module": "@jupyter-widgets/base",
          "model_name": "LayoutModel",
          "model_module_version": "1.2.0",
          "state": {
            "_model_module": "@jupyter-widgets/base",
            "_model_module_version": "1.2.0",
            "_model_name": "LayoutModel",
            "_view_count": null,
            "_view_module": "@jupyter-widgets/base",
            "_view_module_version": "1.2.0",
            "_view_name": "LayoutView",
            "align_content": null,
            "align_items": null,
            "align_self": null,
            "border": null,
            "bottom": null,
            "display": null,
            "flex": null,
            "flex_flow": null,
            "grid_area": null,
            "grid_auto_columns": null,
            "grid_auto_flow": null,
            "grid_auto_rows": null,
            "grid_column": null,
            "grid_gap": null,
            "grid_row": null,
            "grid_template_areas": null,
            "grid_template_columns": null,
            "grid_template_rows": null,
            "height": null,
            "justify_content": null,
            "justify_items": null,
            "left": null,
            "margin": null,
            "max_height": null,
            "max_width": null,
            "min_height": null,
            "min_width": null,
            "object_fit": null,
            "object_position": null,
            "order": null,
            "overflow": null,
            "overflow_x": null,
            "overflow_y": null,
            "padding": null,
            "right": null,
            "top": null,
            "visibility": null,
            "width": null
          }
        },
        "8b760b345cc44f7080d4ea8177a0a33d": {
          "model_module": "@jupyter-widgets/controls",
          "model_name": "DescriptionStyleModel",
          "model_module_version": "1.5.0",
          "state": {
            "_model_module": "@jupyter-widgets/controls",
            "_model_module_version": "1.5.0",
            "_model_name": "DescriptionStyleModel",
            "_view_count": null,
            "_view_module": "@jupyter-widgets/base",
            "_view_module_version": "1.2.0",
            "_view_name": "StyleView",
            "description_width": ""
          }
        },
        "61ca4e55a89d4b8fa08c51c091a95ce9": {
          "model_module": "@jupyter-widgets/base",
          "model_name": "LayoutModel",
          "model_module_version": "1.2.0",
          "state": {
            "_model_module": "@jupyter-widgets/base",
            "_model_module_version": "1.2.0",
            "_model_name": "LayoutModel",
            "_view_count": null,
            "_view_module": "@jupyter-widgets/base",
            "_view_module_version": "1.2.0",
            "_view_name": "LayoutView",
            "align_content": null,
            "align_items": null,
            "align_self": null,
            "border": null,
            "bottom": null,
            "display": null,
            "flex": null,
            "flex_flow": null,
            "grid_area": null,
            "grid_auto_columns": null,
            "grid_auto_flow": null,
            "grid_auto_rows": null,
            "grid_column": null,
            "grid_gap": null,
            "grid_row": null,
            "grid_template_areas": null,
            "grid_template_columns": null,
            "grid_template_rows": null,
            "height": null,
            "justify_content": null,
            "justify_items": null,
            "left": null,
            "margin": null,
            "max_height": null,
            "max_width": null,
            "min_height": null,
            "min_width": null,
            "object_fit": null,
            "object_position": null,
            "order": null,
            "overflow": null,
            "overflow_x": null,
            "overflow_y": null,
            "padding": null,
            "right": null,
            "top": null,
            "visibility": null,
            "width": null
          }
        },
        "760cb9ce872942b483c17ee3b106efef": {
          "model_module": "@jupyter-widgets/controls",
          "model_name": "ProgressStyleModel",
          "model_module_version": "1.5.0",
          "state": {
            "_model_module": "@jupyter-widgets/controls",
            "_model_module_version": "1.5.0",
            "_model_name": "ProgressStyleModel",
            "_view_count": null,
            "_view_module": "@jupyter-widgets/base",
            "_view_module_version": "1.2.0",
            "_view_name": "StyleView",
            "bar_color": null,
            "description_width": ""
          }
        },
        "b3057d7adca7430cbd67e1a63910a289": {
          "model_module": "@jupyter-widgets/base",
          "model_name": "LayoutModel",
          "model_module_version": "1.2.0",
          "state": {
            "_model_module": "@jupyter-widgets/base",
            "_model_module_version": "1.2.0",
            "_model_name": "LayoutModel",
            "_view_count": null,
            "_view_module": "@jupyter-widgets/base",
            "_view_module_version": "1.2.0",
            "_view_name": "LayoutView",
            "align_content": null,
            "align_items": null,
            "align_self": null,
            "border": null,
            "bottom": null,
            "display": null,
            "flex": null,
            "flex_flow": null,
            "grid_area": null,
            "grid_auto_columns": null,
            "grid_auto_flow": null,
            "grid_auto_rows": null,
            "grid_column": null,
            "grid_gap": null,
            "grid_row": null,
            "grid_template_areas": null,
            "grid_template_columns": null,
            "grid_template_rows": null,
            "height": null,
            "justify_content": null,
            "justify_items": null,
            "left": null,
            "margin": null,
            "max_height": null,
            "max_width": null,
            "min_height": null,
            "min_width": null,
            "object_fit": null,
            "object_position": null,
            "order": null,
            "overflow": null,
            "overflow_x": null,
            "overflow_y": null,
            "padding": null,
            "right": null,
            "top": null,
            "visibility": null,
            "width": null
          }
        },
        "49c5c930035140b397b2709f34015a04": {
          "model_module": "@jupyter-widgets/controls",
          "model_name": "DescriptionStyleModel",
          "model_module_version": "1.5.0",
          "state": {
            "_model_module": "@jupyter-widgets/controls",
            "_model_module_version": "1.5.0",
            "_model_name": "DescriptionStyleModel",
            "_view_count": null,
            "_view_module": "@jupyter-widgets/base",
            "_view_module_version": "1.2.0",
            "_view_name": "StyleView",
            "description_width": ""
          }
        }
      }
    }
  },
  "nbformat": 4,
  "nbformat_minor": 0
}